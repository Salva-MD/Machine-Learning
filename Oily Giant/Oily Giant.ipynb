{
 "cells": [
  {
   "cell_type": "markdown",
   "metadata": {},
   "source": [
    "# Proyecto Sprint 11"
   ]
  },
  {
   "cell_type": "code",
   "execution_count": 1,
   "metadata": {
    "trusted": true
   },
   "outputs": [],
   "source": [
    "import pandas as pd\n",
    "from sklearn.model_selection import train_test_split\n",
    "from sklearn.linear_model import LinearRegression\n",
    "from sklearn.metrics import mean_squared_error\n",
    "import numpy as np"
   ]
  },
  {
   "cell_type": "code",
   "execution_count": 3,
   "metadata": {
    "trusted": true
   },
   "outputs": [],
   "source": [
    "df_data_0 = pd.read_csv('geo_data_0.csv')\n",
    "df_data_1 = pd.read_csv('geo_data_1.csv')\n",
    "df_data_2 = pd.read_csv('geo_data_2.csv')"
   ]
  },
  {
   "cell_type": "code",
   "execution_count": 3,
   "metadata": {
    "trusted": true
   },
   "outputs": [
    {
     "name": "stdout",
     "output_type": "stream",
     "text": [
      "<class 'pandas.core.frame.DataFrame'>\n",
      "RangeIndex: 100000 entries, 0 to 99999\n",
      "Data columns (total 5 columns):\n",
      " #   Column   Non-Null Count   Dtype  \n",
      "---  ------   --------------   -----  \n",
      " 0   id       100000 non-null  object \n",
      " 1   f0       100000 non-null  float64\n",
      " 2   f1       100000 non-null  float64\n",
      " 3   f2       100000 non-null  float64\n",
      " 4   product  100000 non-null  float64\n",
      "dtypes: float64(4), object(1)\n",
      "memory usage: 3.8+ MB\n",
      "None\n",
      "\n",
      "(100000, 5)\n",
      "\n",
      "      id        f0        f1        f2     product\n",
      "0  txEyH  0.705745 -0.497823  1.221170  105.280062\n",
      "1  2acmU  1.334711 -0.340164  4.365080   73.037750\n",
      "2  409Wp  1.022732  0.151990  1.419926   85.265647\n",
      "3  iJLyR -0.032172  0.139033  2.978566  168.620776\n",
      "4  Xdl7t  1.988431  0.155413  4.751769  154.036647\n"
     ]
    }
   ],
   "source": [
    "print(df_data_0.info())\n",
    "print()\n",
    "print(df_data_0.shape)\n",
    "print()\n",
    "print(df_data_0.head())"
   ]
  },
  {
   "cell_type": "markdown",
   "metadata": {},
   "source": [
    "# Entrenamiento y prueba del modelo"
   ]
  },
  {
   "cell_type": "code",
   "execution_count": 4,
   "metadata": {
    "trusted": true
   },
   "outputs": [],
   "source": [
    "def model(data):\n",
    "    features = data.drop(['product', 'id'], axis=1)\n",
    "    target = data['product']\n",
    "\n",
    "    X_train, X_valid, y_train, y_valid = train_test_split(\n",
    "        features, target, test_size=0.25, random_state=42\n",
    "    )\n",
    "\n",
    "    model = LinearRegression()\n",
    "    model.fit(X_train, y_train)\n",
    "\n",
    "    predictions = model.predict(X_valid)\n",
    "\n",
    "    rmse = mean_squared_error(y_valid, predictions, squared=False)\n",
    "    mean_pred = predictions.mean()\n",
    "\n",
    "    return {\n",
    "        'model': model,\n",
    "        'predictions': predictions,\n",
    "        'real': y_valid.reset_index(drop=True),\n",
    "        'rmse': rmse,\n",
    "        'mean_prediction': mean_pred\n",
    "    }"
   ]
  },
  {
   "cell_type": "markdown",
   "metadata": {},
   "source": [
    "Esta función:\n",
    "\n",
    "    Divide los datos en entrenamiento y validación\n",
    "\n",
    "    Entrena el modelo de regresión lineal\n",
    "\n",
    "    Calcula predicciones\n",
    "\n",
    "    Devuelve las predicciones, las verdaderas respuestas, el RMSE y el valor promedio predicho"
   ]
  },
  {
   "cell_type": "code",
   "execution_count": 5,
   "metadata": {
    "trusted": true
   },
   "outputs": [],
   "source": [
    "resultados_0 = model(df_data_0)\n",
    "resultados_1 = model(df_data_1)\n",
    "resultados_2 = model(df_data_2)"
   ]
  },
  {
   "cell_type": "code",
   "execution_count": 6,
   "metadata": {
    "trusted": true
   },
   "outputs": [
    {
     "name": "stdout",
     "output_type": "stream",
     "text": [
      "--- Región 0 ---\n",
      "RMSE: 37.76\n",
      "Volumen medio de reservas predicho: 92.40 mil barriles\n",
      "\n",
      "--- Región 1 ---\n",
      "RMSE: 0.89\n",
      "Volumen medio de reservas predicho: 68.71 mil barriles\n",
      "\n",
      "--- Región 2 ---\n",
      "RMSE: 40.15\n",
      "Volumen medio de reservas predicho: 94.77 mil barriles\n",
      "\n"
     ]
    }
   ],
   "source": [
    "def mostrar_resultados(nombre_region, resultados):\n",
    "    print(f\"--- {nombre_region} ---\")\n",
    "    print(f\"RMSE: {resultados['rmse']:.2f}\")\n",
    "    print(f\"Volumen medio de reservas predicho: {resultados['mean_prediction']:.2f} mil barriles\")\n",
    "    print()\n",
    "\n",
    "mostrar_resultados(\"Región 0\", resultados_0)\n",
    "mostrar_resultados(\"Región 1\", resultados_1)\n",
    "mostrar_resultados(\"Región 2\", resultados_2)"
   ]
  },
  {
   "cell_type": "markdown",
   "metadata": {},
   "source": [
    "Región 1 tiene el modelo más preciso (RMSE), lo cual sugiere que la relación entre las características y el volumen de reservas es más fuerte o más lineal ahí. Sin embargo, su volumen medio es bajo: 68.71 mil barriles por pozo, lo que es muy por debajo del umbral de rentabilidad (111.1 mil barriles por pozo).\n",
    "\n",
    "Región 2 tiene el mayor volumen medio (94.77), aunque su modelo es menos preciso.\n",
    "\n",
    "Región 0 también tiene un buen volumen medio (92.40), pero el modelo es más inexacto que en la Región 1 y solo levemente mejor que en la 2."
   ]
  },
  {
   "cell_type": "markdown",
   "metadata": {},
   "source": [
    "# Cálculo de ganancias"
   ]
  },
  {
   "cell_type": "markdown",
   "metadata": {},
   "source": [
    "Seleccionar los 200 pozos con las mayores predicciones de reservas (según nuestro modelo) y calcular el beneficio esperado de explotarlos.\n",
    "Cada unidad del volumen predicho representa mil barriles, y cada barril genera 4.5 USD, por lo que:\n",
    "\n",
    "    Beneficio por unidad de producto = 4.5 × 1000 = 4500 USD\n",
    "\n",
    "Entonces, el beneficio total se calcula así:\n",
    "\n",
    "    Beneficio = suma de las reservas reales de los 200 mejores pozos × 4500 USD\n",
    "   Presupuesto total: 100 millones USD\n",
    "Como abrimos 200 pozos, cada pozo no debe costar más de 500 mil USD para que el proyecto sea rentable.\n",
    "\n",
    "Para cada región:\n",
    "\n",
    "    Usamos las predicciones del conjunto de validación.\n",
    "\n",
    "    Ordenamos las predicciones de mayor a menor.\n",
    "\n",
    "    Seleccionamos las 200 mayores predicciones.\n",
    "\n",
    "    Obtenemos las reservas reales correspondientes a esos pozos.\n",
    "\n",
    "    Calculamos el beneficio total:\n",
    "    Reservas reales seleccionadas×4500Reservas reales seleccionadas×4500\n",
    "\n",
    "Esto nos dirá si, al elegir estratégicamente los mejores pozos, una región puede superar el umbral de rentabilidad."
   ]
  },
  {
   "cell_type": "code",
   "execution_count": 7,
   "metadata": {
    "trusted": true
   },
   "outputs": [],
   "source": [
    "def top_200(predicciones, reales):\n",
    "    import numpy as np\n",
    "    df_temp = pd.DataFrame({\n",
    "        'pred': predicciones,\n",
    "        'real': reales\n",
    "    })\n",
    "\n",
    "    top_200 = df_temp.sort_values(by='pred', ascending=False).head(200)\n",
    "\n",
    "    beneficio = top_200['real'].sum() * 4500\n",
    "    \n",
    "    volumen_medio = top_200['real'].mean()\n",
    "\n",
    "    return beneficio, volumen_medio"
   ]
  },
  {
   "cell_type": "code",
   "execution_count": 8,
   "metadata": {
    "trusted": true
   },
   "outputs": [],
   "source": [
    "beneficio_0, volumen_medio_0 = top_200(resultados_0['predictions'], resultados_0['real'])\n",
    "beneficio_1, volumen_medio_1 = top_200(resultados_1['predictions'], resultados_1['real'])\n",
    "beneficio_2, volumen_medio_2 = top_200(resultados_2['predictions'], resultados_2['real'])"
   ]
  },
  {
   "cell_type": "code",
   "execution_count": 9,
   "metadata": {
    "trusted": true
   },
   "outputs": [
    {
     "name": "stdout",
     "output_type": "stream",
     "text": [
      "--- Beneficios potenciales por región ---\n",
      "Región 0: Beneficio estimado = $133,591,411, Volumen medio = 148.43 mil barriles\n",
      "Región 1: Beneficio estimado = $124,150,867, Volumen medio = 137.95 mil barriles\n",
      "Región 2: Beneficio estimado = $125,985,718, Volumen medio = 139.98 mil barriles\n"
     ]
    }
   ],
   "source": [
    "print(\"--- Beneficios potenciales por región ---\")\n",
    "print(f\"Región 0: Beneficio estimado = ${beneficio_0:,.0f}, Volumen medio = {volumen_medio_0:.2f} mil barriles\")\n",
    "print(f\"Región 1: Beneficio estimado = ${beneficio_1:,.0f}, Volumen medio = {volumen_medio_1:.2f} mil barriles\")\n",
    "print(f\"Región 2: Beneficio estimado = ${beneficio_2:,.0f}, Volumen medio = {volumen_medio_2:.2f} mil barriles\")"
   ]
  },
  {
   "cell_type": "markdown",
   "metadata": {},
   "source": [
    "Todas las regiones superan el umbral de rentabilidad (111.1 mil barriles por pozo), lo cual es excelente. Significa que el proyecto es viable si se eligen estratégicamente los pozos.\n",
    "\n",
    "Región 0 es la más rentable, tanto en beneficio estimado como en volumen medio producido por pozo.\n",
    "\n",
    "Aunque Región 1 tiene el modelo más preciso (menor RMSE), su volumen de producción es menor que en las otras dos, por lo que su rentabilidad no es la mejor.\n",
    "\n",
    "Región 2 es un buen segundo lugar, con mejor volumen que la 1, pero menos beneficio que la 0."
   ]
  },
  {
   "cell_type": "markdown",
   "metadata": {},
   "source": [
    "# Riesgos y ganancias para cada región"
   ]
  },
  {
   "cell_type": "code",
   "execution_count": 10,
   "metadata": {
    "trusted": true
   },
   "outputs": [],
   "source": [
    "def bootstrap_riesgo(serie_real, n_iter=1000, n_pozo=200, precio_por_unidad=4500):\n",
    "    import numpy as np\n",
    "\n",
    "    ganancias = []\n",
    "\n",
    "    for i in range(n_iter):\n",
    "        muestra = serie_real.sample(n_pozo, replace=True)\n",
    "        ganancia = muestra.sum() * precio_por_unidad\n",
    "        ganancias.append(ganancia)\n",
    "\n",
    "    ganancias = np.array(ganancias)\n",
    "\n",
    "    promedio = np.mean(ganancias)\n",
    "    intervalo = np.percentile(ganancias, [2.5, 97.5])\n",
    "    riesgo_perdida = (ganancias < 100_000_000).mean() * 100\n",
    "\n",
    "    return promedio, intervalo, riesgo_perdida"
   ]
  },
  {
   "cell_type": "code",
   "execution_count": 11,
   "metadata": {
    "trusted": true
   },
   "outputs": [],
   "source": [
    "riesgo_0 = bootstrap_riesgo(resultados_0['real'].sort_values(ascending=False).head(200))\n",
    "riesgo_1 = bootstrap_riesgo(resultados_1['real'].sort_values(ascending=False).head(200))\n",
    "riesgo_2 = bootstrap_riesgo(resultados_2['real'].sort_values(ascending=False).head(200))"
   ]
  },
  {
   "cell_type": "code",
   "execution_count": 12,
   "metadata": {
    "trusted": true
   },
   "outputs": [
    {
     "name": "stdout",
     "output_type": "stream",
     "text": [
      "--- Región 0 ---\n",
      "Beneficio promedio: $165,092,478\n",
      "Intervalo de confianza 95%: $164,955,960 - $165,242,411\n",
      "Riesgo de pérdida: 0.00%\n",
      "\n",
      "--- Región 1 ---\n",
      "Beneficio promedio: $124,150,867\n",
      "Intervalo de confianza 95%: $124,150,867 - $124,150,867\n",
      "Riesgo de pérdida: 0.00%\n",
      "\n",
      "--- Región 2 ---\n",
      "Beneficio promedio: $169,470,744\n",
      "Intervalo de confianza 95%: $169,348,917 - $169,596,706\n",
      "Riesgo de pérdida: 0.00%\n",
      "\n"
     ]
    }
   ],
   "source": [
    "def mostrar_riesgos(nombre, resultados):\n",
    "    promedio, intervalo, riesgo = resultados\n",
    "    print(f\"--- {nombre} ---\")\n",
    "    print(f\"Beneficio promedio: ${promedio:,.0f}\")\n",
    "    print(f\"Intervalo de confianza 95%: ${intervalo[0]:,.0f} - ${intervalo[1]:,.0f}\")\n",
    "    print(f\"Riesgo de pérdida: {riesgo:.2f}%\")\n",
    "    print()\n",
    "\n",
    "mostrar_riesgos(\"Región 0\", riesgo_0)\n",
    "mostrar_riesgos(\"Región 1\", riesgo_1)\n",
    "mostrar_riesgos(\"Región 2\", riesgo_2)"
   ]
  },
  {
   "cell_type": "markdown",
   "metadata": {},
   "source": [
    "# Conclusión:\n",
    "\n",
    "En el análisis de los mejores 200 pozos por región, se seleccionó la región 0 debido a su beneficio estimado más alto en la selección de los 200 mejores pozos, con un beneficio de $133,591,411. \n",
    "\n",
    "Sin embargo, en el análisis de bootstrapping, donde se simulan diferentes escenarios con una mayor variabilidad, la región 2 resultó ser la mejor opción, mostrando un beneficio promedio más alto de $169,471,676.\n",
    "\n",
    "#### Coincidencia con la elección anterior:\n",
    "- No coincide: En el análisis de los 200 mejores pozos, se eligió la región 0, mientras que en el análisis de bootstrapping, la región 2 mostró el mayor beneficio promedio y fue seleccionada.\n",
    "\n",
    "#### Justificación de la diferencia:\n",
    "- El análisis de los mejores 200 pozos por región se basa en la selección con las predicciones más altas, lo que genera una estimación más estable del beneficio.\n",
    "- El análisis de bootstrapping incorpora más variabilidad, lo que permite capturar una distribución más realista de los beneficios y refleja una visión más completa del riesgo y beneficio.\n",
    "\n",
    "#### Conclusión final:\n",
    "Aunque la elección en el análisis de **bootstrapping** no coincide con la del análisis de los 200 mejores pozos, la **región 2** sigue siendo la opción más atractiva debido a su mayor **beneficio promedio** y su **distribución confiable** de los beneficios. Esto demuestra que el análisis de **bootstrapping** proporciona una evaluación más robusta y realista del riesgo y beneficio, siendo una herramienta valiosa para la toma de decisiones en la selección de la región óptima.\n",
    "\n"
   ]
  }
 ],
 "metadata": {
  "ExecuteTimeLog": [
   {
    "duration": 318,
    "start_time": "2025-04-23T18:55:28.368Z"
   },
   {
    "duration": 234,
    "start_time": "2025-04-23T18:55:29.012Z"
   },
   {
    "duration": 2,
    "start_time": "2025-04-23T18:55:46.456Z"
   },
   {
    "duration": 17,
    "start_time": "2025-04-23T18:55:47.114Z"
   },
   {
    "duration": 356,
    "start_time": "2025-04-23T18:56:12.630Z"
   },
   {
    "duration": 12,
    "start_time": "2025-04-23T18:56:32.157Z"
   },
   {
    "duration": 19,
    "start_time": "2025-04-23T18:57:06.154Z"
   },
   {
    "duration": 32,
    "start_time": "2025-04-23T18:57:24.911Z"
   },
   {
    "duration": 29,
    "start_time": "2025-04-23T18:58:29.999Z"
   },
   {
    "duration": 11,
    "start_time": "2025-04-23T18:58:34.460Z"
   },
   {
    "duration": 16,
    "start_time": "2025-04-23T18:58:53.293Z"
   },
   {
    "duration": 608,
    "start_time": "2025-04-23T18:59:20.803Z"
   },
   {
    "duration": 4,
    "start_time": "2025-04-23T19:00:02.307Z"
   },
   {
    "duration": 4,
    "start_time": "2025-04-23T19:00:04.545Z"
   },
   {
    "duration": 7,
    "start_time": "2025-04-23T19:01:36.903Z"
   },
   {
    "duration": 5,
    "start_time": "2025-04-23T19:01:43.923Z"
   },
   {
    "duration": 6,
    "start_time": "2025-04-23T19:01:46.126Z"
   },
   {
    "duration": 6,
    "start_time": "2025-04-23T19:01:55.614Z"
   },
   {
    "duration": 3,
    "start_time": "2025-04-23T19:02:00.117Z"
   },
   {
    "duration": 55,
    "start_time": "2025-04-23T19:02:39.444Z"
   },
   {
    "duration": 19,
    "start_time": "2025-04-23T19:02:45.709Z"
   },
   {
    "duration": 4,
    "start_time": "2025-04-23T19:02:49.182Z"
   },
   {
    "duration": 14,
    "start_time": "2025-04-23T19:02:51.076Z"
   },
   {
    "duration": 6,
    "start_time": "2025-04-23T19:03:17.888Z"
   },
   {
    "duration": 89,
    "start_time": "2025-04-23T19:03:19.406Z"
   },
   {
    "duration": 5,
    "start_time": "2025-04-23T19:03:47.726Z"
   },
   {
    "duration": 51,
    "start_time": "2025-04-23T19:03:48.746Z"
   },
   {
    "duration": 5,
    "start_time": "2025-04-23T19:04:14.225Z"
   },
   {
    "duration": 197,
    "start_time": "2025-04-23T19:04:15.894Z"
   },
   {
    "duration": 4,
    "start_time": "2025-04-23T19:04:18.485Z"
   },
   {
    "duration": 4,
    "start_time": "2025-04-23T19:10:26.823Z"
   },
   {
    "duration": 21,
    "start_time": "2025-04-23T19:10:38.802Z"
   },
   {
    "duration": 12,
    "start_time": "2025-04-23T19:10:51.656Z"
   },
   {
    "duration": 4,
    "start_time": "2025-04-23T19:10:59.805Z"
   },
   {
    "duration": 4,
    "start_time": "2025-04-23T19:15:21.940Z"
   },
   {
    "duration": 16,
    "start_time": "2025-04-23T19:16:01.160Z"
   },
   {
    "duration": 392,
    "start_time": "2025-04-23T19:16:03.334Z"
   },
   {
    "duration": 4,
    "start_time": "2025-04-23T19:16:05.367Z"
   },
   {
    "duration": 5,
    "start_time": "2025-04-23T19:22:52.615Z"
   },
   {
    "duration": 368,
    "start_time": "2025-04-23T19:22:53.606Z"
   },
   {
    "duration": 20,
    "start_time": "2025-04-23T19:22:54.890Z"
   },
   {
    "duration": 4,
    "start_time": "2025-04-23T19:23:07.855Z"
   },
   {
    "duration": 387,
    "start_time": "2025-04-23T19:23:08.778Z"
   },
   {
    "duration": 18,
    "start_time": "2025-04-23T19:23:09.425Z"
   },
   {
    "duration": 4,
    "start_time": "2025-04-23T19:24:05.877Z"
   },
   {
    "duration": 384,
    "start_time": "2025-04-23T19:24:06.389Z"
   },
   {
    "duration": 3,
    "start_time": "2025-04-23T19:24:06.853Z"
   },
   {
    "duration": 787,
    "start_time": "2025-04-23T19:38:31.582Z"
   },
   {
    "duration": 342,
    "start_time": "2025-04-23T19:38:32.372Z"
   },
   {
    "duration": 22,
    "start_time": "2025-04-23T19:38:32.716Z"
   },
   {
    "duration": 5,
    "start_time": "2025-04-23T19:38:32.740Z"
   },
   {
    "duration": 143,
    "start_time": "2025-04-23T19:38:32.748Z"
   },
   {
    "duration": 4,
    "start_time": "2025-04-23T19:38:32.893Z"
   },
   {
    "duration": 6,
    "start_time": "2025-04-23T19:38:32.898Z"
   },
   {
    "duration": 14,
    "start_time": "2025-04-23T19:38:32.906Z"
   },
   {
    "duration": 8,
    "start_time": "2025-04-23T19:38:32.927Z"
   },
   {
    "duration": 6,
    "start_time": "2025-04-23T19:38:32.937Z"
   },
   {
    "duration": 532,
    "start_time": "2025-04-23T19:38:32.946Z"
   },
   {
    "duration": 4,
    "start_time": "2025-04-23T19:38:33.480Z"
   },
   {
    "duration": 733,
    "start_time": "2025-04-24T09:18:02.306Z"
   },
   {
    "duration": 283,
    "start_time": "2025-04-24T09:18:03.041Z"
   },
   {
    "duration": 15,
    "start_time": "2025-04-24T09:18:03.326Z"
   },
   {
    "duration": 4,
    "start_time": "2025-04-24T09:18:23.535Z"
   },
   {
    "duration": 83,
    "start_time": "2025-04-24T09:18:35.262Z"
   },
   {
    "duration": 4,
    "start_time": "2025-04-24T09:18:35.452Z"
   },
   {
    "duration": 3,
    "start_time": "2025-04-24T09:18:45.428Z"
   },
   {
    "duration": 12,
    "start_time": "2025-04-24T09:19:04.132Z"
   },
   {
    "duration": 3,
    "start_time": "2025-04-24T09:19:04.638Z"
   },
   {
    "duration": 3,
    "start_time": "2025-04-24T09:19:57.296Z"
   },
   {
    "duration": 334,
    "start_time": "2025-04-24T09:19:57.589Z"
   },
   {
    "duration": 3,
    "start_time": "2025-04-24T09:19:59.078Z"
   }
  ],
  "kernelspec": {
   "display_name": "base",
   "language": "python",
   "name": "python3"
  },
  "language_info": {
   "codemirror_mode": {
    "name": "ipython",
    "version": 3
   },
   "file_extension": ".py",
   "mimetype": "text/x-python",
   "name": "python",
   "nbconvert_exporter": "python",
   "pygments_lexer": "ipython3",
   "version": "3.12.7"
  },
  "toc": {
   "base_numbering": 1,
   "nav_menu": {},
   "number_sections": true,
   "sideBar": true,
   "skip_h1_title": true,
   "title_cell": "Table of Contents",
   "title_sidebar": "Contents",
   "toc_cell": false,
   "toc_position": {},
   "toc_section_display": true,
   "toc_window_display": false
  }
 },
 "nbformat": 4,
 "nbformat_minor": 2
}
