{
 "cells": [
  {
   "cell_type": "markdown",
   "metadata": {},
   "source": [
    "# Proyecto Sprint 12"
   ]
  },
  {
   "cell_type": "markdown",
   "metadata": {},
   "source": [
    "## Preparación de datos"
   ]
  },
  {
   "cell_type": "code",
   "execution_count": 1,
   "metadata": {
    "trusted": true
   },
   "outputs": [],
   "source": [
    "import pandas as pd\n",
    "import numpy as np\n",
    "import matplotlib.pyplot as plt\n",
    "from sklearn.linear_model import LinearRegression\n",
    "from sklearn.model_selection import cross_val_score, train_test_split\n",
    "from sklearn.ensemble import RandomForestRegressor\n",
    "from sklearn.metrics import mean_absolute_error\n",
    "from sklearn.metrics import make_scorer\n",
    "from sklearn.model_selection import cross_val_predict"
   ]
  },
  {
   "cell_type": "code",
   "execution_count": 2,
   "metadata": {
    "trusted": true
   },
   "outputs": [],
   "source": [
    "train = pd.read_csv('gold_recovery_train.csv', index_col='date', parse_dates=True)\n",
    "test = pd.read_csv('gold_recovery_test.csv', index_col='date', parse_dates=True)\n",
    "full = pd.read_csv('gold_recovery_full.csv', index_col='date', parse_dates=True)"
   ]
  },
  {
   "cell_type": "code",
   "execution_count": 3,
   "metadata": {
    "trusted": true
   },
   "outputs": [
    {
     "name": "stdout",
     "output_type": "stream",
     "text": [
      "                     final.output.concentrate_ag  final.output.concentrate_pb  \\\n",
      "date                                                                            \n",
      "2016-01-15 00:00:00                     6.055403                     9.889648   \n",
      "2016-01-15 01:00:00                     6.029369                     9.968944   \n",
      "2016-01-15 02:00:00                     6.055926                    10.213995   \n",
      "2016-01-15 03:00:00                     6.047977                     9.977019   \n",
      "2016-01-15 04:00:00                     6.148599                    10.142511   \n",
      "\n",
      "                     final.output.concentrate_sol  \\\n",
      "date                                                \n",
      "2016-01-15 00:00:00                      5.507324   \n",
      "2016-01-15 01:00:00                      5.257781   \n",
      "2016-01-15 02:00:00                      5.383759   \n",
      "2016-01-15 03:00:00                      4.858634   \n",
      "2016-01-15 04:00:00                      4.939416   \n",
      "\n",
      "                     final.output.concentrate_au  final.output.recovery  \\\n",
      "date                                                                      \n",
      "2016-01-15 00:00:00                    42.192020              70.541216   \n",
      "2016-01-15 01:00:00                    42.701629              69.266198   \n",
      "2016-01-15 02:00:00                    42.657501              68.116445   \n",
      "2016-01-15 03:00:00                    42.689819              68.347543   \n",
      "2016-01-15 04:00:00                    42.774141              66.927016   \n",
      "\n",
      "                     final.output.tail_ag  final.output.tail_pb  \\\n",
      "date                                                              \n",
      "2016-01-15 00:00:00             10.411962              0.895447   \n",
      "2016-01-15 01:00:00             10.462676              0.927452   \n",
      "2016-01-15 02:00:00             10.507046              0.953716   \n",
      "2016-01-15 03:00:00             10.422762              0.883763   \n",
      "2016-01-15 04:00:00             10.360302              0.792826   \n",
      "\n",
      "                     final.output.tail_sol  final.output.tail_au  \\\n",
      "date                                                               \n",
      "2016-01-15 00:00:00              16.904297              2.143149   \n",
      "2016-01-15 01:00:00              16.634514              2.224930   \n",
      "2016-01-15 02:00:00              16.208849              2.257889   \n",
      "2016-01-15 03:00:00              16.532835              2.146849   \n",
      "2016-01-15 04:00:00              16.525686              2.055292   \n",
      "\n",
      "                     primary_cleaner.input.sulfate  ...  \\\n",
      "date                                                ...   \n",
      "2016-01-15 00:00:00                     127.092003  ...   \n",
      "2016-01-15 01:00:00                     125.629232  ...   \n",
      "2016-01-15 02:00:00                     123.819808  ...   \n",
      "2016-01-15 03:00:00                     122.270188  ...   \n",
      "2016-01-15 04:00:00                     117.988169  ...   \n",
      "\n",
      "                     secondary_cleaner.state.floatbank4_a_air  \\\n",
      "date                                                            \n",
      "2016-01-15 00:00:00                                 14.016835   \n",
      "2016-01-15 01:00:00                                 13.992281   \n",
      "2016-01-15 02:00:00                                 14.015015   \n",
      "2016-01-15 03:00:00                                 14.036510   \n",
      "2016-01-15 04:00:00                                 14.027298   \n",
      "\n",
      "                     secondary_cleaner.state.floatbank4_a_level  \\\n",
      "date                                                              \n",
      "2016-01-15 00:00:00                                 -502.488007   \n",
      "2016-01-15 01:00:00                                 -505.503262   \n",
      "2016-01-15 02:00:00                                 -502.520901   \n",
      "2016-01-15 03:00:00                                 -500.857308   \n",
      "2016-01-15 04:00:00                                 -499.838632   \n",
      "\n",
      "                     secondary_cleaner.state.floatbank4_b_air  \\\n",
      "date                                                            \n",
      "2016-01-15 00:00:00                                 12.099931   \n",
      "2016-01-15 01:00:00                                 11.950531   \n",
      "2016-01-15 02:00:00                                 11.912783   \n",
      "2016-01-15 03:00:00                                 11.999550   \n",
      "2016-01-15 04:00:00                                 11.953070   \n",
      "\n",
      "                     secondary_cleaner.state.floatbank4_b_level  \\\n",
      "date                                                              \n",
      "2016-01-15 00:00:00                                 -504.715942   \n",
      "2016-01-15 01:00:00                                 -501.331529   \n",
      "2016-01-15 02:00:00                                 -501.133383   \n",
      "2016-01-15 03:00:00                                 -501.193686   \n",
      "2016-01-15 04:00:00                                 -501.053894   \n",
      "\n",
      "                     secondary_cleaner.state.floatbank5_a_air  \\\n",
      "date                                                            \n",
      "2016-01-15 00:00:00                                  9.925633   \n",
      "2016-01-15 01:00:00                                 10.039245   \n",
      "2016-01-15 02:00:00                                 10.070913   \n",
      "2016-01-15 03:00:00                                  9.970366   \n",
      "2016-01-15 04:00:00                                  9.925709   \n",
      "\n",
      "                     secondary_cleaner.state.floatbank5_a_level  \\\n",
      "date                                                              \n",
      "2016-01-15 00:00:00                                 -498.310211   \n",
      "2016-01-15 01:00:00                                 -500.169983   \n",
      "2016-01-15 02:00:00                                 -500.129135   \n",
      "2016-01-15 03:00:00                                 -499.201640   \n",
      "2016-01-15 04:00:00                                 -501.686727   \n",
      "\n",
      "                     secondary_cleaner.state.floatbank5_b_air  \\\n",
      "date                                                            \n",
      "2016-01-15 00:00:00                                  8.079666   \n",
      "2016-01-15 01:00:00                                  7.984757   \n",
      "2016-01-15 02:00:00                                  8.013877   \n",
      "2016-01-15 03:00:00                                  7.977324   \n",
      "2016-01-15 04:00:00                                  7.894242   \n",
      "\n",
      "                     secondary_cleaner.state.floatbank5_b_level  \\\n",
      "date                                                              \n",
      "2016-01-15 00:00:00                                 -500.470978   \n",
      "2016-01-15 01:00:00                                 -500.582168   \n",
      "2016-01-15 02:00:00                                 -500.517572   \n",
      "2016-01-15 03:00:00                                 -500.255908   \n",
      "2016-01-15 04:00:00                                 -500.356035   \n",
      "\n",
      "                     secondary_cleaner.state.floatbank6_a_air  \\\n",
      "date                                                            \n",
      "2016-01-15 00:00:00                                 14.151341   \n",
      "2016-01-15 01:00:00                                 13.998353   \n",
      "2016-01-15 02:00:00                                 14.028663   \n",
      "2016-01-15 03:00:00                                 14.005551   \n",
      "2016-01-15 04:00:00                                 13.996647   \n",
      "\n",
      "                     secondary_cleaner.state.floatbank6_a_level  \n",
      "date                                                             \n",
      "2016-01-15 00:00:00                                 -605.841980  \n",
      "2016-01-15 01:00:00                                 -599.787184  \n",
      "2016-01-15 02:00:00                                 -601.427363  \n",
      "2016-01-15 03:00:00                                 -599.996129  \n",
      "2016-01-15 04:00:00                                 -601.496691  \n",
      "\n",
      "[5 rows x 86 columns]\n",
      "\n",
      "<class 'pandas.core.frame.DataFrame'>\n",
      "DatetimeIndex: 16860 entries, 2016-01-15 00:00:00 to 2018-08-18 10:59:59\n",
      "Data columns (total 86 columns):\n",
      " #   Column                                              Non-Null Count  Dtype  \n",
      "---  ------                                              --------------  -----  \n",
      " 0   final.output.concentrate_ag                         16788 non-null  float64\n",
      " 1   final.output.concentrate_pb                         16788 non-null  float64\n",
      " 2   final.output.concentrate_sol                        16490 non-null  float64\n",
      " 3   final.output.concentrate_au                         16789 non-null  float64\n",
      " 4   final.output.recovery                               15339 non-null  float64\n",
      " 5   final.output.tail_ag                                16794 non-null  float64\n",
      " 6   final.output.tail_pb                                16677 non-null  float64\n",
      " 7   final.output.tail_sol                               16715 non-null  float64\n",
      " 8   final.output.tail_au                                16794 non-null  float64\n",
      " 9   primary_cleaner.input.sulfate                       15553 non-null  float64\n",
      " 10  primary_cleaner.input.depressant                    15598 non-null  float64\n",
      " 11  primary_cleaner.input.feed_size                     16860 non-null  float64\n",
      " 12  primary_cleaner.input.xanthate                      15875 non-null  float64\n",
      " 13  primary_cleaner.output.concentrate_ag               16778 non-null  float64\n",
      " 14  primary_cleaner.output.concentrate_pb               16502 non-null  float64\n",
      " 15  primary_cleaner.output.concentrate_sol              16224 non-null  float64\n",
      " 16  primary_cleaner.output.concentrate_au               16778 non-null  float64\n",
      " 17  primary_cleaner.output.tail_ag                      16777 non-null  float64\n",
      " 18  primary_cleaner.output.tail_pb                      16761 non-null  float64\n",
      " 19  primary_cleaner.output.tail_sol                     16579 non-null  float64\n",
      " 20  primary_cleaner.output.tail_au                      16777 non-null  float64\n",
      " 21  primary_cleaner.state.floatbank8_a_air              16820 non-null  float64\n",
      " 22  primary_cleaner.state.floatbank8_a_level            16827 non-null  float64\n",
      " 23  primary_cleaner.state.floatbank8_b_air              16820 non-null  float64\n",
      " 24  primary_cleaner.state.floatbank8_b_level            16833 non-null  float64\n",
      " 25  primary_cleaner.state.floatbank8_c_air              16822 non-null  float64\n",
      " 26  primary_cleaner.state.floatbank8_c_level            16833 non-null  float64\n",
      " 27  primary_cleaner.state.floatbank8_d_air              16821 non-null  float64\n",
      " 28  primary_cleaner.state.floatbank8_d_level            16833 non-null  float64\n",
      " 29  rougher.calculation.sulfate_to_au_concentrate       16833 non-null  float64\n",
      " 30  rougher.calculation.floatbank10_sulfate_to_au_feed  16833 non-null  float64\n",
      " 31  rougher.calculation.floatbank11_sulfate_to_au_feed  16833 non-null  float64\n",
      " 32  rougher.calculation.au_pb_ratio                     15618 non-null  float64\n",
      " 33  rougher.input.feed_ag                               16778 non-null  float64\n",
      " 34  rougher.input.feed_pb                               16632 non-null  float64\n",
      " 35  rougher.input.feed_rate                             16347 non-null  float64\n",
      " 36  rougher.input.feed_size                             16443 non-null  float64\n",
      " 37  rougher.input.feed_sol                              16568 non-null  float64\n",
      " 38  rougher.input.feed_au                               16777 non-null  float64\n",
      " 39  rougher.input.floatbank10_sulfate                   15816 non-null  float64\n",
      " 40  rougher.input.floatbank10_xanthate                  16514 non-null  float64\n",
      " 41  rougher.input.floatbank11_sulfate                   16237 non-null  float64\n",
      " 42  rougher.input.floatbank11_xanthate                  14956 non-null  float64\n",
      " 43  rougher.output.concentrate_ag                       16778 non-null  float64\n",
      " 44  rougher.output.concentrate_pb                       16778 non-null  float64\n",
      " 45  rougher.output.concentrate_sol                      16698 non-null  float64\n",
      " 46  rougher.output.concentrate_au                       16778 non-null  float64\n",
      " 47  rougher.output.recovery                             14287 non-null  float64\n",
      " 48  rougher.output.tail_ag                              14610 non-null  float64\n",
      " 49  rougher.output.tail_pb                              16778 non-null  float64\n",
      " 50  rougher.output.tail_sol                             14611 non-null  float64\n",
      " 51  rougher.output.tail_au                              14611 non-null  float64\n",
      " 52  rougher.state.floatbank10_a_air                     16807 non-null  float64\n",
      " 53  rougher.state.floatbank10_a_level                   16807 non-null  float64\n",
      " 54  rougher.state.floatbank10_b_air                     16807 non-null  float64\n",
      " 55  rougher.state.floatbank10_b_level                   16807 non-null  float64\n",
      " 56  rougher.state.floatbank10_c_air                     16807 non-null  float64\n",
      " 57  rougher.state.floatbank10_c_level                   16814 non-null  float64\n",
      " 58  rougher.state.floatbank10_d_air                     16802 non-null  float64\n",
      " 59  rougher.state.floatbank10_d_level                   16809 non-null  float64\n",
      " 60  rougher.state.floatbank10_e_air                     16257 non-null  float64\n",
      " 61  rougher.state.floatbank10_e_level                   16809 non-null  float64\n",
      " 62  rougher.state.floatbank10_f_air                     16802 non-null  float64\n",
      " 63  rougher.state.floatbank10_f_level                   16802 non-null  float64\n",
      " 64  secondary_cleaner.output.tail_ag                    16776 non-null  float64\n",
      " 65  secondary_cleaner.output.tail_pb                    16764 non-null  float64\n",
      " 66  secondary_cleaner.output.tail_sol                   14874 non-null  float64\n",
      " 67  secondary_cleaner.output.tail_au                    16778 non-null  float64\n",
      " 68  secondary_cleaner.state.floatbank2_a_air            16497 non-null  float64\n",
      " 69  secondary_cleaner.state.floatbank2_a_level          16751 non-null  float64\n",
      " 70  secondary_cleaner.state.floatbank2_b_air            16705 non-null  float64\n",
      " 71  secondary_cleaner.state.floatbank2_b_level          16748 non-null  float64\n",
      " 72  secondary_cleaner.state.floatbank3_a_air            16763 non-null  float64\n",
      " 73  secondary_cleaner.state.floatbank3_a_level          16747 non-null  float64\n",
      " 74  secondary_cleaner.state.floatbank3_b_air            16752 non-null  float64\n",
      " 75  secondary_cleaner.state.floatbank3_b_level          16750 non-null  float64\n",
      " 76  secondary_cleaner.state.floatbank4_a_air            16731 non-null  float64\n",
      " 77  secondary_cleaner.state.floatbank4_a_level          16747 non-null  float64\n",
      " 78  secondary_cleaner.state.floatbank4_b_air            16768 non-null  float64\n",
      " 79  secondary_cleaner.state.floatbank4_b_level          16767 non-null  float64\n",
      " 80  secondary_cleaner.state.floatbank5_a_air            16775 non-null  float64\n",
      " 81  secondary_cleaner.state.floatbank5_a_level          16775 non-null  float64\n",
      " 82  secondary_cleaner.state.floatbank5_b_air            16775 non-null  float64\n",
      " 83  secondary_cleaner.state.floatbank5_b_level          16776 non-null  float64\n",
      " 84  secondary_cleaner.state.floatbank6_a_air            16757 non-null  float64\n",
      " 85  secondary_cleaner.state.floatbank6_a_level          16775 non-null  float64\n",
      "dtypes: float64(86)\n",
      "memory usage: 11.2 MB\n",
      "None\n",
      "\n",
      "<class 'pandas.core.frame.DataFrame'>\n",
      "DatetimeIndex: 5856 entries, 2016-09-01 00:59:59 to 2017-12-31 23:59:59\n",
      "Data columns (total 52 columns):\n",
      " #   Column                                      Non-Null Count  Dtype  \n",
      "---  ------                                      --------------  -----  \n",
      " 0   primary_cleaner.input.sulfate               5554 non-null   float64\n",
      " 1   primary_cleaner.input.depressant            5572 non-null   float64\n",
      " 2   primary_cleaner.input.feed_size             5856 non-null   float64\n",
      " 3   primary_cleaner.input.xanthate              5690 non-null   float64\n",
      " 4   primary_cleaner.state.floatbank8_a_air      5840 non-null   float64\n",
      " 5   primary_cleaner.state.floatbank8_a_level    5840 non-null   float64\n",
      " 6   primary_cleaner.state.floatbank8_b_air      5840 non-null   float64\n",
      " 7   primary_cleaner.state.floatbank8_b_level    5840 non-null   float64\n",
      " 8   primary_cleaner.state.floatbank8_c_air      5840 non-null   float64\n",
      " 9   primary_cleaner.state.floatbank8_c_level    5840 non-null   float64\n",
      " 10  primary_cleaner.state.floatbank8_d_air      5840 non-null   float64\n",
      " 11  primary_cleaner.state.floatbank8_d_level    5840 non-null   float64\n",
      " 12  rougher.input.feed_ag                       5840 non-null   float64\n",
      " 13  rougher.input.feed_pb                       5840 non-null   float64\n",
      " 14  rougher.input.feed_rate                     5816 non-null   float64\n",
      " 15  rougher.input.feed_size                     5834 non-null   float64\n",
      " 16  rougher.input.feed_sol                      5789 non-null   float64\n",
      " 17  rougher.input.feed_au                       5840 non-null   float64\n",
      " 18  rougher.input.floatbank10_sulfate           5599 non-null   float64\n",
      " 19  rougher.input.floatbank10_xanthate          5733 non-null   float64\n",
      " 20  rougher.input.floatbank11_sulfate           5801 non-null   float64\n",
      " 21  rougher.input.floatbank11_xanthate          5503 non-null   float64\n",
      " 22  rougher.state.floatbank10_a_air             5839 non-null   float64\n",
      " 23  rougher.state.floatbank10_a_level           5840 non-null   float64\n",
      " 24  rougher.state.floatbank10_b_air             5839 non-null   float64\n",
      " 25  rougher.state.floatbank10_b_level           5840 non-null   float64\n",
      " 26  rougher.state.floatbank10_c_air             5839 non-null   float64\n",
      " 27  rougher.state.floatbank10_c_level           5840 non-null   float64\n",
      " 28  rougher.state.floatbank10_d_air             5839 non-null   float64\n",
      " 29  rougher.state.floatbank10_d_level           5840 non-null   float64\n",
      " 30  rougher.state.floatbank10_e_air             5839 non-null   float64\n",
      " 31  rougher.state.floatbank10_e_level           5840 non-null   float64\n",
      " 32  rougher.state.floatbank10_f_air             5839 non-null   float64\n",
      " 33  rougher.state.floatbank10_f_level           5840 non-null   float64\n",
      " 34  secondary_cleaner.state.floatbank2_a_air    5836 non-null   float64\n",
      " 35  secondary_cleaner.state.floatbank2_a_level  5840 non-null   float64\n",
      " 36  secondary_cleaner.state.floatbank2_b_air    5833 non-null   float64\n",
      " 37  secondary_cleaner.state.floatbank2_b_level  5840 non-null   float64\n",
      " 38  secondary_cleaner.state.floatbank3_a_air    5822 non-null   float64\n",
      " 39  secondary_cleaner.state.floatbank3_a_level  5840 non-null   float64\n",
      " 40  secondary_cleaner.state.floatbank3_b_air    5840 non-null   float64\n",
      " 41  secondary_cleaner.state.floatbank3_b_level  5840 non-null   float64\n",
      " 42  secondary_cleaner.state.floatbank4_a_air    5840 non-null   float64\n",
      " 43  secondary_cleaner.state.floatbank4_a_level  5840 non-null   float64\n",
      " 44  secondary_cleaner.state.floatbank4_b_air    5840 non-null   float64\n",
      " 45  secondary_cleaner.state.floatbank4_b_level  5840 non-null   float64\n",
      " 46  secondary_cleaner.state.floatbank5_a_air    5840 non-null   float64\n",
      " 47  secondary_cleaner.state.floatbank5_a_level  5840 non-null   float64\n",
      " 48  secondary_cleaner.state.floatbank5_b_air    5840 non-null   float64\n",
      " 49  secondary_cleaner.state.floatbank5_b_level  5840 non-null   float64\n",
      " 50  secondary_cleaner.state.floatbank6_a_air    5840 non-null   float64\n",
      " 51  secondary_cleaner.state.floatbank6_a_level  5840 non-null   float64\n",
      "dtypes: float64(52)\n",
      "memory usage: 2.4 MB\n",
      "None\n",
      "\n",
      "<class 'pandas.core.frame.DataFrame'>\n",
      "DatetimeIndex: 22716 entries, 2016-01-15 00:00:00 to 2018-08-18 10:59:59\n",
      "Data columns (total 86 columns):\n",
      " #   Column                                              Non-Null Count  Dtype  \n",
      "---  ------                                              --------------  -----  \n",
      " 0   final.output.concentrate_ag                         22627 non-null  float64\n",
      " 1   final.output.concentrate_pb                         22629 non-null  float64\n",
      " 2   final.output.concentrate_sol                        22331 non-null  float64\n",
      " 3   final.output.concentrate_au                         22630 non-null  float64\n",
      " 4   final.output.recovery                               20753 non-null  float64\n",
      " 5   final.output.tail_ag                                22633 non-null  float64\n",
      " 6   final.output.tail_pb                                22516 non-null  float64\n",
      " 7   final.output.tail_sol                               22445 non-null  float64\n",
      " 8   final.output.tail_au                                22635 non-null  float64\n",
      " 9   primary_cleaner.input.sulfate                       21107 non-null  float64\n",
      " 10  primary_cleaner.input.depressant                    21170 non-null  float64\n",
      " 11  primary_cleaner.input.feed_size                     22716 non-null  float64\n",
      " 12  primary_cleaner.input.xanthate                      21565 non-null  float64\n",
      " 13  primary_cleaner.output.concentrate_ag               22618 non-null  float64\n",
      " 14  primary_cleaner.output.concentrate_pb               22268 non-null  float64\n",
      " 15  primary_cleaner.output.concentrate_sol              21918 non-null  float64\n",
      " 16  primary_cleaner.output.concentrate_au               22618 non-null  float64\n",
      " 17  primary_cleaner.output.tail_ag                      22614 non-null  float64\n",
      " 18  primary_cleaner.output.tail_pb                      22594 non-null  float64\n",
      " 19  primary_cleaner.output.tail_sol                     22365 non-null  float64\n",
      " 20  primary_cleaner.output.tail_au                      22617 non-null  float64\n",
      " 21  primary_cleaner.state.floatbank8_a_air              22660 non-null  float64\n",
      " 22  primary_cleaner.state.floatbank8_a_level            22667 non-null  float64\n",
      " 23  primary_cleaner.state.floatbank8_b_air              22660 non-null  float64\n",
      " 24  primary_cleaner.state.floatbank8_b_level            22673 non-null  float64\n",
      " 25  primary_cleaner.state.floatbank8_c_air              22662 non-null  float64\n",
      " 26  primary_cleaner.state.floatbank8_c_level            22673 non-null  float64\n",
      " 27  primary_cleaner.state.floatbank8_d_air              22661 non-null  float64\n",
      " 28  primary_cleaner.state.floatbank8_d_level            22673 non-null  float64\n",
      " 29  rougher.calculation.sulfate_to_au_concentrate       22672 non-null  float64\n",
      " 30  rougher.calculation.floatbank10_sulfate_to_au_feed  22672 non-null  float64\n",
      " 31  rougher.calculation.floatbank11_sulfate_to_au_feed  22672 non-null  float64\n",
      " 32  rougher.calculation.au_pb_ratio                     21089 non-null  float64\n",
      " 33  rougher.input.feed_ag                               22618 non-null  float64\n",
      " 34  rougher.input.feed_pb                               22472 non-null  float64\n",
      " 35  rougher.input.feed_rate                             22163 non-null  float64\n",
      " 36  rougher.input.feed_size                             22277 non-null  float64\n",
      " 37  rougher.input.feed_sol                              22357 non-null  float64\n",
      " 38  rougher.input.feed_au                               22617 non-null  float64\n",
      " 39  rougher.input.floatbank10_sulfate                   21415 non-null  float64\n",
      " 40  rougher.input.floatbank10_xanthate                  22247 non-null  float64\n",
      " 41  rougher.input.floatbank11_sulfate                   22038 non-null  float64\n",
      " 42  rougher.input.floatbank11_xanthate                  20459 non-null  float64\n",
      " 43  rougher.output.concentrate_ag                       22618 non-null  float64\n",
      " 44  rougher.output.concentrate_pb                       22618 non-null  float64\n",
      " 45  rougher.output.concentrate_sol                      22526 non-null  float64\n",
      " 46  rougher.output.concentrate_au                       22618 non-null  float64\n",
      " 47  rougher.output.recovery                             19597 non-null  float64\n",
      " 48  rougher.output.tail_ag                              19979 non-null  float64\n",
      " 49  rougher.output.tail_pb                              22618 non-null  float64\n",
      " 50  rougher.output.tail_sol                             19980 non-null  float64\n",
      " 51  rougher.output.tail_au                              19980 non-null  float64\n",
      " 52  rougher.state.floatbank10_a_air                     22646 non-null  float64\n",
      " 53  rougher.state.floatbank10_a_level                   22647 non-null  float64\n",
      " 54  rougher.state.floatbank10_b_air                     22646 non-null  float64\n",
      " 55  rougher.state.floatbank10_b_level                   22647 non-null  float64\n",
      " 56  rougher.state.floatbank10_c_air                     22646 non-null  float64\n",
      " 57  rougher.state.floatbank10_c_level                   22654 non-null  float64\n",
      " 58  rougher.state.floatbank10_d_air                     22641 non-null  float64\n",
      " 59  rougher.state.floatbank10_d_level                   22649 non-null  float64\n",
      " 60  rougher.state.floatbank10_e_air                     22096 non-null  float64\n",
      " 61  rougher.state.floatbank10_e_level                   22649 non-null  float64\n",
      " 62  rougher.state.floatbank10_f_air                     22641 non-null  float64\n",
      " 63  rougher.state.floatbank10_f_level                   22642 non-null  float64\n",
      " 64  secondary_cleaner.output.tail_ag                    22616 non-null  float64\n",
      " 65  secondary_cleaner.output.tail_pb                    22600 non-null  float64\n",
      " 66  secondary_cleaner.output.tail_sol                   20501 non-null  float64\n",
      " 67  secondary_cleaner.output.tail_au                    22618 non-null  float64\n",
      " 68  secondary_cleaner.state.floatbank2_a_air            22333 non-null  float64\n",
      " 69  secondary_cleaner.state.floatbank2_a_level          22591 non-null  float64\n",
      " 70  secondary_cleaner.state.floatbank2_b_air            22538 non-null  float64\n",
      " 71  secondary_cleaner.state.floatbank2_b_level          22588 non-null  float64\n",
      " 72  secondary_cleaner.state.floatbank3_a_air            22585 non-null  float64\n",
      " 73  secondary_cleaner.state.floatbank3_a_level          22587 non-null  float64\n",
      " 74  secondary_cleaner.state.floatbank3_b_air            22592 non-null  float64\n",
      " 75  secondary_cleaner.state.floatbank3_b_level          22590 non-null  float64\n",
      " 76  secondary_cleaner.state.floatbank4_a_air            22571 non-null  float64\n",
      " 77  secondary_cleaner.state.floatbank4_a_level          22587 non-null  float64\n",
      " 78  secondary_cleaner.state.floatbank4_b_air            22608 non-null  float64\n",
      " 79  secondary_cleaner.state.floatbank4_b_level          22607 non-null  float64\n",
      " 80  secondary_cleaner.state.floatbank5_a_air            22615 non-null  float64\n",
      " 81  secondary_cleaner.state.floatbank5_a_level          22615 non-null  float64\n",
      " 82  secondary_cleaner.state.floatbank5_b_air            22615 non-null  float64\n",
      " 83  secondary_cleaner.state.floatbank5_b_level          22616 non-null  float64\n",
      " 84  secondary_cleaner.state.floatbank6_a_air            22597 non-null  float64\n",
      " 85  secondary_cleaner.state.floatbank6_a_level          22615 non-null  float64\n",
      "dtypes: float64(86)\n",
      "memory usage: 15.1 MB\n",
      "None\n"
     ]
    }
   ],
   "source": [
    "print(train.head())\n",
    "print()\n",
    "print(train.info())\n",
    "print()\n",
    "print(test.info())\n",
    "print()\n",
    "print(full.info())"
   ]
  },
  {
   "cell_type": "code",
   "execution_count": 4,
   "metadata": {
    "scrolled": true,
    "trusted": true
   },
   "outputs": [
    {
     "name": "stdout",
     "output_type": "stream",
     "text": [
      "Index(['final.output.concentrate_ag', 'final.output.concentrate_pb',\n",
      "       'final.output.concentrate_sol', 'final.output.concentrate_au',\n",
      "       'final.output.recovery', 'final.output.tail_ag', 'final.output.tail_pb',\n",
      "       'final.output.tail_sol', 'final.output.tail_au',\n",
      "       'primary_cleaner.input.sulfate', 'primary_cleaner.input.depressant',\n",
      "       'primary_cleaner.input.feed_size', 'primary_cleaner.input.xanthate',\n",
      "       'primary_cleaner.output.concentrate_ag',\n",
      "       'primary_cleaner.output.concentrate_pb',\n",
      "       'primary_cleaner.output.concentrate_sol',\n",
      "       'primary_cleaner.output.concentrate_au',\n",
      "       'primary_cleaner.output.tail_ag', 'primary_cleaner.output.tail_pb',\n",
      "       'primary_cleaner.output.tail_sol', 'primary_cleaner.output.tail_au',\n",
      "       'primary_cleaner.state.floatbank8_a_air',\n",
      "       'primary_cleaner.state.floatbank8_a_level',\n",
      "       'primary_cleaner.state.floatbank8_b_air',\n",
      "       'primary_cleaner.state.floatbank8_b_level',\n",
      "       'primary_cleaner.state.floatbank8_c_air',\n",
      "       'primary_cleaner.state.floatbank8_c_level',\n",
      "       'primary_cleaner.state.floatbank8_d_air',\n",
      "       'primary_cleaner.state.floatbank8_d_level',\n",
      "       'rougher.calculation.sulfate_to_au_concentrate',\n",
      "       'rougher.calculation.floatbank10_sulfate_to_au_feed',\n",
      "       'rougher.calculation.floatbank11_sulfate_to_au_feed',\n",
      "       'rougher.calculation.au_pb_ratio', 'rougher.input.feed_ag',\n",
      "       'rougher.input.feed_pb', 'rougher.input.feed_rate',\n",
      "       'rougher.input.feed_size', 'rougher.input.feed_sol',\n",
      "       'rougher.input.feed_au', 'rougher.input.floatbank10_sulfate',\n",
      "       'rougher.input.floatbank10_xanthate',\n",
      "       'rougher.input.floatbank11_sulfate',\n",
      "       'rougher.input.floatbank11_xanthate', 'rougher.output.concentrate_ag',\n",
      "       'rougher.output.concentrate_pb', 'rougher.output.concentrate_sol',\n",
      "       'rougher.output.concentrate_au', 'rougher.output.recovery',\n",
      "       'rougher.output.tail_ag', 'rougher.output.tail_pb',\n",
      "       'rougher.output.tail_sol', 'rougher.output.tail_au',\n",
      "       'rougher.state.floatbank10_a_air', 'rougher.state.floatbank10_a_level',\n",
      "       'rougher.state.floatbank10_b_air', 'rougher.state.floatbank10_b_level',\n",
      "       'rougher.state.floatbank10_c_air', 'rougher.state.floatbank10_c_level',\n",
      "       'rougher.state.floatbank10_d_air', 'rougher.state.floatbank10_d_level',\n",
      "       'rougher.state.floatbank10_e_air', 'rougher.state.floatbank10_e_level',\n",
      "       'rougher.state.floatbank10_f_air', 'rougher.state.floatbank10_f_level',\n",
      "       'secondary_cleaner.output.tail_ag', 'secondary_cleaner.output.tail_pb',\n",
      "       'secondary_cleaner.output.tail_sol', 'secondary_cleaner.output.tail_au',\n",
      "       'secondary_cleaner.state.floatbank2_a_air',\n",
      "       'secondary_cleaner.state.floatbank2_a_level',\n",
      "       'secondary_cleaner.state.floatbank2_b_air',\n",
      "       'secondary_cleaner.state.floatbank2_b_level',\n",
      "       'secondary_cleaner.state.floatbank3_a_air',\n",
      "       'secondary_cleaner.state.floatbank3_a_level',\n",
      "       'secondary_cleaner.state.floatbank3_b_air',\n",
      "       'secondary_cleaner.state.floatbank3_b_level',\n",
      "       'secondary_cleaner.state.floatbank4_a_air',\n",
      "       'secondary_cleaner.state.floatbank4_a_level',\n",
      "       'secondary_cleaner.state.floatbank4_b_air',\n",
      "       'secondary_cleaner.state.floatbank4_b_level',\n",
      "       'secondary_cleaner.state.floatbank5_a_air',\n",
      "       'secondary_cleaner.state.floatbank5_a_level',\n",
      "       'secondary_cleaner.state.floatbank5_b_air',\n",
      "       'secondary_cleaner.state.floatbank5_b_level',\n",
      "       'secondary_cleaner.state.floatbank6_a_air',\n",
      "       'secondary_cleaner.state.floatbank6_a_level'],\n",
      "      dtype='object')\n"
     ]
    }
   ],
   "source": [
    "print(train.columns)"
   ]
  },
  {
   "cell_type": "code",
   "execution_count": 5,
   "metadata": {
    "scrolled": true,
    "trusted": true
   },
   "outputs": [
    {
     "name": "stdout",
     "output_type": "stream",
     "text": [
      "Error Absoluto Medio (EAM): 0.0000\n"
     ]
    }
   ],
   "source": [
    "C = train['rougher.output.concentrate_au']\n",
    "F = train['rougher.input.feed_au']\n",
    "T = train['rougher.output.tail_au']\n",
    "\n",
    "recovery_calc = (C * (F - T)) / (F * (C - T)) * 100\n",
    "\n",
    "recovery_real = train['rougher.output.recovery']\n",
    "\n",
    "valid = recovery_calc.notna() & recovery_real.notna()\n",
    "\n",
    "mae = np.mean(np.abs(recovery_calc[valid] - recovery_real[valid]))\n",
    "\n",
    "print(f\"Error Absoluto Medio (EAM): {mae:.4f}\")"
   ]
  },
  {
   "cell_type": "markdown",
   "metadata": {},
   "source": [
    "<div class=\"alert alert-block alert-success\">\n",
    "<b>Comentario de Revisor</b> <a class=\"tocSkip\"></a>\n",
    "\n",
    "Muy bien, correcta la comprobación del fórmula, vemos que es muy precisa.\n",
    "\n",
    "</div>"
   ]
  },
  {
   "cell_type": "markdown",
   "metadata": {},
   "source": [
    "Error Absoluto Medio (EAM): 0.0000 indica que la fórmula para calcular la recuperación coincide exactamente con los valores reales de recuperación en los datos — no hay discrepancias.\n",
    "\n",
    "Eso confirma que la columna 'rougher.output.recovery' está correctamente calculada en el conjunto de entrenamiento."
   ]
  },
  {
   "cell_type": "code",
   "execution_count": 6,
   "metadata": {
    "scrolled": true,
    "trusted": true
   },
   "outputs": [
    {
     "name": "stdout",
     "output_type": "stream",
     "text": [
      "Columnas en 'train' que faltan en 'test':\n",
      "final.output.concentrate_ag\n",
      "final.output.concentrate_au\n",
      "final.output.concentrate_pb\n",
      "final.output.concentrate_sol\n",
      "final.output.recovery\n",
      "final.output.tail_ag\n",
      "final.output.tail_au\n",
      "final.output.tail_pb\n",
      "final.output.tail_sol\n",
      "primary_cleaner.output.concentrate_ag\n",
      "primary_cleaner.output.concentrate_au\n",
      "primary_cleaner.output.concentrate_pb\n",
      "primary_cleaner.output.concentrate_sol\n",
      "primary_cleaner.output.tail_ag\n",
      "primary_cleaner.output.tail_au\n",
      "primary_cleaner.output.tail_pb\n",
      "primary_cleaner.output.tail_sol\n",
      "rougher.calculation.au_pb_ratio\n",
      "rougher.calculation.floatbank10_sulfate_to_au_feed\n",
      "rougher.calculation.floatbank11_sulfate_to_au_feed\n",
      "rougher.calculation.sulfate_to_au_concentrate\n",
      "rougher.output.concentrate_ag\n",
      "rougher.output.concentrate_au\n",
      "rougher.output.concentrate_pb\n",
      "rougher.output.concentrate_sol\n",
      "rougher.output.recovery\n",
      "rougher.output.tail_ag\n",
      "rougher.output.tail_au\n",
      "rougher.output.tail_pb\n",
      "rougher.output.tail_sol\n",
      "secondary_cleaner.output.tail_ag\n",
      "secondary_cleaner.output.tail_au\n",
      "secondary_cleaner.output.tail_pb\n",
      "secondary_cleaner.output.tail_sol\n"
     ]
    }
   ],
   "source": [
    "train_cols = set(train.columns)\n",
    "test_cols = set(test.columns)\n",
    "\n",
    "missing_in_test = train_cols - test_cols\n",
    "print(\"Columnas en 'train' que faltan en 'test':\")\n",
    "for col in sorted(missing_in_test):\n",
    "    print(col)"
   ]
  },
  {
   "cell_type": "markdown",
   "metadata": {},
   "source": [
    "Estas columnas son todas variables objetivo o intermedias, no están disponibles al momento de la predicción, porque son salidas que dependen del resultado del proceso industrial. Las columnas que faltan en test son columnas de salida o cálculos derivados, que no están disponibles para predicción, ya que en un entorno real solo tendría las variables de entrada al momento de hacer la predicción.\n",
    "\n",
    "Esto es normal y esperado. "
   ]
  },
  {
   "cell_type": "code",
   "execution_count": 7,
   "metadata": {
    "scrolled": true,
    "trusted": true
   },
   "outputs": [
    {
     "name": "stdout",
     "output_type": "stream",
     "text": [
      "Index(['primary_cleaner.input.sulfate', 'primary_cleaner.input.depressant',\n",
      "       'primary_cleaner.input.feed_size', 'primary_cleaner.input.xanthate',\n",
      "       'primary_cleaner.state.floatbank8_a_air',\n",
      "       'primary_cleaner.state.floatbank8_a_level',\n",
      "       'primary_cleaner.state.floatbank8_b_air',\n",
      "       'primary_cleaner.state.floatbank8_b_level',\n",
      "       'primary_cleaner.state.floatbank8_c_air',\n",
      "       'primary_cleaner.state.floatbank8_c_level',\n",
      "       'primary_cleaner.state.floatbank8_d_air',\n",
      "       'primary_cleaner.state.floatbank8_d_level', 'rougher.input.feed_ag',\n",
      "       'rougher.input.feed_pb', 'rougher.input.feed_rate',\n",
      "       'rougher.input.feed_size', 'rougher.input.feed_sol',\n",
      "       'rougher.input.feed_au', 'rougher.input.floatbank10_sulfate',\n",
      "       'rougher.input.floatbank10_xanthate',\n",
      "       'rougher.input.floatbank11_sulfate',\n",
      "       'rougher.input.floatbank11_xanthate', 'rougher.state.floatbank10_a_air',\n",
      "       'rougher.state.floatbank10_a_level', 'rougher.state.floatbank10_b_air',\n",
      "       'rougher.state.floatbank10_b_level', 'rougher.state.floatbank10_c_air',\n",
      "       'rougher.state.floatbank10_c_level', 'rougher.state.floatbank10_d_air',\n",
      "       'rougher.state.floatbank10_d_level', 'rougher.state.floatbank10_e_air',\n",
      "       'rougher.state.floatbank10_e_level', 'rougher.state.floatbank10_f_air',\n",
      "       'rougher.state.floatbank10_f_level',\n",
      "       'secondary_cleaner.state.floatbank2_a_air',\n",
      "       'secondary_cleaner.state.floatbank2_a_level',\n",
      "       'secondary_cleaner.state.floatbank2_b_air',\n",
      "       'secondary_cleaner.state.floatbank2_b_level',\n",
      "       'secondary_cleaner.state.floatbank3_a_air',\n",
      "       'secondary_cleaner.state.floatbank3_a_level',\n",
      "       'secondary_cleaner.state.floatbank3_b_air',\n",
      "       'secondary_cleaner.state.floatbank3_b_level',\n",
      "       'secondary_cleaner.state.floatbank4_a_air',\n",
      "       'secondary_cleaner.state.floatbank4_a_level',\n",
      "       'secondary_cleaner.state.floatbank4_b_air',\n",
      "       'secondary_cleaner.state.floatbank4_b_level',\n",
      "       'secondary_cleaner.state.floatbank5_a_air',\n",
      "       'secondary_cleaner.state.floatbank5_a_level',\n",
      "       'secondary_cleaner.state.floatbank5_b_air',\n",
      "       'secondary_cleaner.state.floatbank5_b_level',\n",
      "       'secondary_cleaner.state.floatbank6_a_air',\n",
      "       'secondary_cleaner.state.floatbank6_a_level'],\n",
      "      dtype='object')\n"
     ]
    }
   ],
   "source": [
    "common_columns = train.columns.intersection(test.columns)\n",
    "train_features = train[common_columns]\n",
    "test_features = test.copy()\n",
    "print(common_columns)"
   ]
  },
  {
   "cell_type": "markdown",
   "metadata": {},
   "source": [
    "Para construir mi modelo, debo entrenarlo solo con las columnas que están disponibles tanto en train como en test, es decir, las columnas comunes entre ambos."
   ]
  },
  {
   "cell_type": "code",
   "execution_count": 8,
   "metadata": {
    "trusted": true
   },
   "outputs": [],
   "source": [
    "target_columns = ['rougher.output.recovery', 'final.output.recovery']\n",
    "train_target = train[target_columns]"
   ]
  },
  {
   "cell_type": "markdown",
   "metadata": {},
   "source": [
    "Seleccionar variables objetivo"
   ]
  },
  {
   "cell_type": "code",
   "execution_count": 9,
   "metadata": {
    "trusted": true
   },
   "outputs": [],
   "source": [
    "train_full = pd.concat([train_features, train_target], axis=1)\n",
    "\n",
    "train_full = train_full.dropna()\n",
    "\n",
    "train_features_clean = train_full[common_columns]\n",
    "train_target_clean = train_full[target_columns]"
   ]
  },
  {
   "cell_type": "markdown",
   "metadata": {},
   "source": [
    "Eliminamos filas en train_features y train_target que contengan valores faltantes, para no introducir sesgos o errores."
   ]
  },
  {
   "cell_type": "markdown",
   "metadata": {},
   "source": [
    "<div class=\"alert alert-block alert-success\">\n",
    "<b>Comentario de Revisor</b> <a class=\"tocSkip\"></a>\n",
    "\n",
    "Bien hecho, buen uso de `set()` y sus funciones\n",
    "\n",
    "</div>"
   ]
  },
  {
   "cell_type": "markdown",
   "metadata": {},
   "source": [
    "## Analisis de Datos"
   ]
  },
  {
   "cell_type": "code",
   "execution_count": 10,
   "metadata": {
    "trusted": true
   },
   "outputs": [
    {
     "data": {
      "text/html": [
       "<div>\n",
       "<style scoped>\n",
       "    .dataframe tbody tr th:only-of-type {\n",
       "        vertical-align: middle;\n",
       "    }\n",
       "\n",
       "    .dataframe tbody tr th {\n",
       "        vertical-align: top;\n",
       "    }\n",
       "\n",
       "    .dataframe thead th {\n",
       "        text-align: right;\n",
       "    }\n",
       "</style>\n",
       "<table border=\"1\" class=\"dataframe\">\n",
       "  <thead>\n",
       "    <tr style=\"text-align: right;\">\n",
       "      <th></th>\n",
       "      <th>AU</th>\n",
       "      <th>AG</th>\n",
       "      <th>PB</th>\n",
       "    </tr>\n",
       "  </thead>\n",
       "  <tbody>\n",
       "    <tr>\n",
       "      <th>feed</th>\n",
       "      <td>7.170717</td>\n",
       "      <td>7.832347</td>\n",
       "      <td>3.218931</td>\n",
       "    </tr>\n",
       "    <tr>\n",
       "      <th>concentrate</th>\n",
       "      <td>17.401541</td>\n",
       "      <td>10.580475</td>\n",
       "      <td>6.880322</td>\n",
       "    </tr>\n",
       "    <tr>\n",
       "      <th>tail</th>\n",
       "      <td>1.763930</td>\n",
       "      <td>5.566579</td>\n",
       "      <td>0.596493</td>\n",
       "    </tr>\n",
       "  </tbody>\n",
       "</table>\n",
       "</div>"
      ],
      "text/plain": [
       "                    AU         AG        PB\n",
       "feed          7.170717   7.832347  3.218931\n",
       "concentrate  17.401541  10.580475  6.880322\n",
       "tail          1.763930   5.566579  0.596493"
      ]
     },
     "execution_count": 10,
     "metadata": {},
     "output_type": "execute_result"
    }
   ],
   "source": [
    "metales = ['au', 'ag', 'pb']\n",
    "etapas = ['feed', 'concentrate', 'tail']\n",
    "\n",
    "resultados = {metal.upper(): [] for metal in metales}\n",
    "\n",
    "for metal in metales:\n",
    "    for etapa in etapas:\n",
    "        if etapa == 'feed':\n",
    "            columna = f'rougher.input.feed_{metal}'\n",
    "            concentration = train[columna].mean() if columna in train.columns else None\n",
    "        else:\n",
    "            columna = f'rougher.output.{etapa}_{metal}'\n",
    "            concentration = train[columna].mean() if columna in train.columns else None\n",
    "        \n",
    "        resultados[metal.upper()].append(concentration)\n",
    "\n",
    "resultados_df = pd.DataFrame(resultados, index=etapas)\n",
    "\n",
    "resultados_df"
   ]
  },
  {
   "cell_type": "code",
   "execution_count": 11,
   "metadata": {
    "trusted": true
   },
   "outputs": [
    {
     "data": {
      "image/png": "[encoded data removed]",
      "text/plain": [
       "<Figure size 1000x600 with 1 Axes>"
      ]
     },
     "metadata": {},
     "output_type": "display_data"
    },
    {
     "data": {
      "image/png": "[encoded data removed]",
      "text/plain": [
       "<Figure size 1000x600 with 1 Axes>"
      ]
     },
     "metadata": {},
     "output_type": "display_data"
    },
    {
     "data": {
      "image/png": "[encoded data removed]",
      "text/plain": [
       "<Figure size 1000x600 with 1 Axes>"
      ]
     },
     "metadata": {},
     "output_type": "display_data"
    }
   ],
   "source": [
    "metales = ['au', 'ag', 'pb']\n",
    "\n",
    "etapas_dict = {\n",
    "    'rougher.input.feed_{}': 'Entrada (Feed)',\n",
    "    'rougher.output.concentrate_{}': 'Rougher - Concentrado',\n",
    "    'primary_cleaner.output.concentrate_{}': 'Cleaner - Concentrado',\n",
    "    'final.output.concentrate_{}': 'Final - Concentrado'\n",
    "}\n",
    "\n",
    "for metal in metales:\n",
    "    plt.figure(figsize=(10, 6))\n",
    "\n",
    "    for plantilla_col, nombre_etapa in etapas_dict.items():\n",
    "        columna = plantilla_col.format(metal)\n",
    "        if columna in train.columns:\n",
    "            train[columna].hist(bins=100, alpha=0.6, label=nombre_etapa)\n",
    "\n",
    "    plt.title(f'Distribución de la concentración de {metal.upper()} en distintas etapas')\n",
    "    plt.xlabel('Concentración (%)')\n",
    "    plt.ylabel('Frecuencia')\n",
    "    plt.legend()\n",
    "    plt.grid(True)\n",
    "    plt.tight_layout()\n",
    "    plt.show()"
   ]
  },
  {
   "cell_type": "markdown",
   "metadata": {},
   "source": [
    "El proceso de purificación parece ser eficaz para concentrar los metales de interés (Au, Ag, Pb) en la etapa de concentrado, aumentando sus concentraciones en comparación con la etapa feed. Al mismo tiempo, la etapa tail muestra una reducción significativa en las concentraciones, lo que indica la remoción de los metales no deseados."
   ]
  },
  {
   "cell_type": "markdown",
   "metadata": {},
   "source": [
    "<div class=\"alert alert-block alert-danger\">\n",
    "<b>Comentario de Reviewer </b> <a class=\"tocSkip\"></a>\n",
    "\n",
    "Ok con la tabla para mostrar la concentración media, pero queda un poco corto para lo que se quiere mostrar. En esta parte debes graficar el cambio de la distribución de la concentración de cada uno de los metales. Realiza un gráfico para cada metal (au, ag, pb) donde en el mismo gráfico estén 4 histogramas, uno para cada uno de los siguientes rougher.input.feed_{}, rougher.output.concentrate_{}, primary_cleaner.output.concentrate_{} y final.output.concentrate_{} ({} reemplazalo para cada metal).\n",
    "</div>"
   ]
  },
  {
   "cell_type": "markdown",
   "metadata": {},
   "source": [
    "<div class=\"alert alert-block alert-success\">\n",
    "<b>Comentario de Revisor</b> <a class=\"tocSkip\"></a>\n",
    "\n",
    "Bien hecho, podemos apreciar claramente como los procesos realizados aumentan la concentración del oro, mientras que los otros metales experimentan bajas o variaciones menores.\n",
    "\n",
    "</div>"
   ]
  },
  {
   "cell_type": "code",
   "execution_count": 12,
   "metadata": {
    "trusted": true
   },
   "outputs": [
    {
     "name": "stdout",
     "output_type": "stream",
     "text": [
      "Columna 'rougher.input.feed_size' en entrenamiento: True\n",
      "Columna 'rougher.input.feed_size' en prueba: True\n"
     ]
    }
   ],
   "source": [
    "train_column_exists = 'rougher.input.feed_size' in train.columns\n",
    "test_column_exists = 'rougher.input.feed_size' in test.columns\n",
    "\n",
    "print(f\"Columna 'rougher.input.feed_size' en entrenamiento: {train_column_exists}\")\n",
    "print(f\"Columna 'rougher.input.feed_size' en prueba: {test_column_exists}\")"
   ]
  },
  {
   "cell_type": "markdown",
   "metadata": {},
   "source": [
    "Verificar si la columna rougher.input.feed_size está presente en los dos conjuntos de datos."
   ]
  },
  {
   "cell_type": "code",
   "execution_count": 13,
   "metadata": {
    "trusted": true
   },
   "outputs": [
    {
     "data": {
      "image/png": "[encoded data removed]",
      "text/plain": [
       "<Figure size 1000x600 with 1 Axes>"
      ]
     },
     "metadata": {},
     "output_type": "display_data"
    }
   ],
   "source": [
    "plt.figure(figsize=(10, 6))\n",
    "\n",
    "plt.hist(train['rougher.input.feed_size'].dropna(), bins=30, alpha=0.5, label='Train', color='blue')\n",
    "\n",
    "plt.hist(test['rougher.input.feed_size'].dropna(), bins=30, alpha=0.5, label='Test', color='orange')\n",
    "\n",
    "plt.xlabel('Tamaño de partículas (feed_size)')\n",
    "plt.ylabel('Frecuencia')\n",
    "plt.title('Distribución del tamaño de partículas de la alimentación')\n",
    "plt.legend()\n",
    "plt.show()"
   ]
  },
  {
   "cell_type": "markdown",
   "metadata": {},
   "source": [
    "<div class=\"alert alert-block alert-success\">\n",
    "<b>Comentario de Revisor</b> <a class=\"tocSkip\"></a>\n",
    "\n",
    "Muy bien, correcta la comparación entre las dos distribuciones. Si bien podemos hacer test estadísticos para ver que tan similares son, al menos desde un punto de vista del gráfico, sí se ven similares.\n",
    "\n",
    "</div>"
   ]
  },
  {
   "cell_type": "code",
   "execution_count": 14,
   "metadata": {
    "trusted": true
   },
   "outputs": [
    {
     "name": "stdout",
     "output_type": "stream",
     "text": [
      "       Entrenamiento       Prueba\n",
      "count   16443.000000  5834.000000\n",
      "mean       58.676444    55.937535\n",
      "std        23.922591    22.724254\n",
      "min         9.659576     0.046369\n",
      "25%        47.575879    43.890852\n",
      "50%        54.104257    50.002004\n",
      "75%        65.051064    61.638434\n",
      "max       484.967466   477.445473\n"
     ]
    }
   ],
   "source": [
    "train_feed_size_stats = train['rougher.input.feed_size'].describe()\n",
    "test_feed_size_stats = test['rougher.input.feed_size'].describe()\n",
    "\n",
    "comparison_df = pd.DataFrame({\n",
    "    'Entrenamiento': train_feed_size_stats,\n",
    "    'Prueba': test_feed_size_stats\n",
    "})\n",
    "\n",
    "print(comparison_df)"
   ]
  },
  {
   "cell_type": "markdown",
   "metadata": {},
   "source": [
    "El análisis muestra que los tamaños de partículas alimentadas en el proceso de flotación son bastante similares entre los conjuntos de entrenamiento y prueba en términos de tendencia central (media y mediana), pero existe una discrepancia significativa en los valores mínimos, especialmente en el conjunto de prueba, donde se observan valores extremadamente bajos que podrían necesitar revisión o limpieza de datos."
   ]
  },
  {
   "cell_type": "code",
   "execution_count": 15,
   "metadata": {
    "trusted": true
   },
   "outputs": [
    {
     "name": "stdout",
     "output_type": "stream",
     "text": [
      "count    5776.000000\n",
      "mean       56.288542\n",
      "std        22.551669\n",
      "min        28.611681\n",
      "25%        43.993854\n",
      "50%        50.357200\n",
      "75%        61.840399\n",
      "max       477.445473\n",
      "Name: rougher.input.feed_size, dtype: float64\n"
     ]
    }
   ],
   "source": [
    "umbral_min = train['rougher.input.feed_size'].quantile(0.01)\n",
    "test_clean = test[test['rougher.input.feed_size'] >= umbral_min]\n",
    "\n",
    "print(test_clean['rougher.input.feed_size'].describe())"
   ]
  },
  {
   "cell_type": "markdown",
   "metadata": {},
   "source": [
    "<div class=\"alert alert-block alert-success\">\n",
    "<b>Comentario de Revisor</b> <a class=\"tocSkip\"></a>\n",
    "\n",
    "Muy bien, correcta la eliminación de outliers\n",
    "\n",
    "</div>"
   ]
  },
  {
   "cell_type": "code",
   "execution_count": 16,
   "metadata": {
    "trusted": true
   },
   "outputs": [
    {
     "name": "stdout",
     "output_type": "stream",
     "text": [
      "       Entrenamiento       Prueba\n",
      "count   16443.000000  5776.000000\n",
      "mean       58.676444    56.288542\n",
      "std        23.922591    22.551669\n",
      "min         9.659576    28.611681\n",
      "25%        47.575879    43.993854\n",
      "50%        54.104257    50.357200\n",
      "75%        65.051064    61.840399\n",
      "max       484.967466   477.445473\n"
     ]
    }
   ],
   "source": [
    "train_feed_size_stats = train['rougher.input.feed_size'].describe()\n",
    "test_feed_size_stats = test_clean['rougher.input.feed_size'].describe()\n",
    "\n",
    "comparison_df = pd.DataFrame({\n",
    "    'Entrenamiento': train_feed_size_stats,\n",
    "    'Prueba': test_feed_size_stats\n",
    "})\n",
    "\n",
    "print(comparison_df)"
   ]
  },
  {
   "cell_type": "markdown",
   "metadata": {},
   "source": [
    "El valor mínimo atípico en prueba podría ser legítimo, considerando que las demás métricas están alineadas entre entrenamiento y prueba. El hecho de que tras limpiar los datos el valor mínimo ahora es mas alto sugiere que, en realidad, ese valor bajo original podría formar parte de la variabilidad natural del proceso, y no necesariamente representa un error. Por lo tanto, el resultado original podría ser correcto, y no sería necesario hacer más limpieza o eliminarlo si no hay una justificación técnica para hacerlo."
   ]
  },
  {
   "cell_type": "code",
   "execution_count": 17,
   "metadata": {
    "trusted": true
   },
   "outputs": [
    {
     "name": "stdout",
     "output_type": "stream",
     "text": [
      "    materia_prima  concentrado_rougher  concentrado_final\n",
      "au       7.170717            17.401541          39.467217\n",
      "ag       7.832347            10.580475           4.716907\n",
      "pb       3.218931             6.880322           9.113559\n"
     ]
    }
   ],
   "source": [
    "metales = ['au', 'ag', 'pb']\n",
    "etapas = ['materia_prima', 'concentrado_rougher', 'concentrado_final']\n",
    "\n",
    "concentraciones_totales = {etapa: [] for etapa in etapas}\n",
    "\n",
    "for etapa in etapas:\n",
    "    for metal in metales:\n",
    "        if etapa == 'materia_prima':\n",
    "            columna = f'rougher.input.feed_{metal}'\n",
    "        elif etapa == 'concentrado_rougher':\n",
    "            columna = f'rougher.output.concentrate_{metal}'\n",
    "        else: \n",
    "            columna = f'final.output.concentrate_{metal}'\n",
    "        \n",
    "        if columna in train.columns:\n",
    "            concentracion_media = train[columna].mean()\n",
    "        else:\n",
    "            concentracion_media = None\n",
    "        \n",
    "        concentraciones_totales[etapa].append(concentracion_media)\n",
    "\n",
    "concentraciones_df = pd.DataFrame(concentraciones_totales, index=metales)\n",
    "\n",
    "print(concentraciones_df)"
   ]
  },
  {
   "cell_type": "code",
   "execution_count": 18,
   "metadata": {
    "trusted": true
   },
   "outputs": [],
   "source": [
    "componentes = ['au', 'ag', 'pb', 'sol']\n",
    "\n",
    "concentraciones_totales_etapas = {}\n",
    "\n",
    "for etapa in ['feed', 'concentrate']:\n",
    "    columnas = [f'rougher.input.feed_{c}' if etapa == 'feed' else f'rougher.output.concentrate_{c}' for c in componentes]\n",
    "    columnas_presentes = [col for col in columnas if col in train.columns]\n",
    "    concentraciones_totales_etapas[f'rougher_{etapa}'] = train[columnas_presentes].sum(axis=1)\n",
    "\n",
    "columnas_final = [f'final.output.concentrate_{c}' for c in componentes]\n",
    "columnas_final_presentes = [col for col in columnas_final if col in train.columns]\n",
    "concentraciones_totales_etapas['final_concentrate'] = train[columnas_final_presentes].sum(axis=1)"
   ]
  },
  {
   "cell_type": "markdown",
   "metadata": {},
   "source": [
    "Los resultados parecen ser relativamente consistentes con lo esperado, pero hay algunas observaciones importantes que debemos tener en cuenta:El concentrado final tiene una concentración de plata más baja (4.72 g/t). \n",
    "\n",
    "La caída de la plata (Ag) de 10.58 a 4.72 parece estar dentro de lo razonable dado el contexto de un proceso de flotación y purificación. En tales procesos industriales, es común que algunos metales secundarios (como la plata) se pierdan en la etapa de purificación, mientras que otros (como el oro) son más concentrados y retenidos en el concentrado final.\n",
    "\n",
    "Por lo tanto, no hay indicios de que este cambio sea anómalo, y no parece necesario realizar ninguna eliminación de valores o ajuste en los datos de plata (Ag). La caída puede considerarse un comportamiento esperado del proceso, y no hay motivos claros para eliminar estos valores."
   ]
  },
  {
   "cell_type": "code",
   "execution_count": 19,
   "metadata": {
    "trusted": true
   },
   "outputs": [
    {
     "data": {
      "image/png": "[encoded data removed]",
      "text/plain": [
       "<Figure size 1600x500 with 3 Axes>"
      ]
     },
     "metadata": {},
     "output_type": "display_data"
    }
   ],
   "source": [
    "plt.figure(figsize=(16, 5))\n",
    "\n",
    "for i, (etapa, datos) in enumerate(concentraciones_totales_etapas.items(), 1):\n",
    "    plt.subplot(1, 3, i)\n",
    "    datos.hist(bins=100, alpha=0.7)\n",
    "    plt.title(f'Histograma total de concentración\\n({etapa})')\n",
    "    plt.xlabel('Concentración total (%)')\n",
    "    plt.ylabel('Frecuencia')\n",
    "    plt.grid(True)\n",
    "\n",
    "plt.tight_layout()\n",
    "plt.show()"
   ]
  },
  {
   "cell_type": "code",
   "execution_count": 20,
   "metadata": {
    "trusted": true
   },
   "outputs": [
    {
     "name": "stdout",
     "output_type": "stream",
     "text": [
      "Filas antes de la limpieza: 16860\n",
      "Filas después de la limpieza: 14513\n"
     ]
    }
   ],
   "source": [
    "umbral_minimo = 10 \n",
    "\n",
    "filtros = []\n",
    "for etapa, serie in concentraciones_totales_etapas.items():\n",
    "    filtros.append(serie > umbral_minimo)\n",
    "\n",
    "filtro_final = filtros[0]\n",
    "for f in filtros[1:]:\n",
    "    filtro_final &= f\n",
    "\n",
    "train_limpio = train[filtro_final].copy()\n",
    "\n",
    "print(f\"Filas antes de la limpieza: {train.shape[0]}\")\n",
    "print(f\"Filas después de la limpieza: {train_limpio.shape[0]}\")"
   ]
  },
  {
   "cell_type": "markdown",
   "metadata": {},
   "source": [
    "<div class=\"alert alert-block alert-success\">\n",
    "<b>Comentario de Revisor</b> <a class=\"tocSkip\"></a>\n",
    "\n",
    "Bien con el cálculo de la media para estas variables desglosado por metal. Constatamos algo similar a lo observado anteriormente, como el proceso completo aumenta la concentración del oro principalmente.\n",
    "\n",
    "</div>"
   ]
  },
  {
   "cell_type": "markdown",
   "metadata": {},
   "source": [
    "<div class=\"alert alert-block alert-danger\">\n",
    "<b>Comentario de Reviewer </b> <a class=\"tocSkip\"></a>\n",
    "\n",
    "De forma adicional quisieramos ver los outliers y revisar las distribuciones importantes. Grafica un histograma para el total de la concentración de cada etapa (para de cada etapa rougher.input.feed_{}, rougher.output.concentrate_{} y final.output.concentrate_{}, suma au, ag, pb y sol, serán 3 gráficos, uno para cada etapa). En base a esto, verás de forma más clara donde hay outliers. Revisa cómo removerlos antes de pasar a la parte del modelo.\n",
    "</div>"
   ]
  },
  {
   "cell_type": "markdown",
   "metadata": {},
   "source": [
    "<div class=\"alert alert-block alert-success\">\n",
    "<b>Comentario de Revisor v2</b> <a class=\"tocSkip\"></a>\n",
    "\n",
    "Excelente, muy bien con la identificación y eliminación de outliers.\n",
    "\n",
    "</div>"
   ]
  },
  {
   "cell_type": "markdown",
   "metadata": {},
   "source": [
    "## Construcción del modelo"
   ]
  },
  {
   "cell_type": "code",
   "execution_count": 21,
   "metadata": {
    "trusted": true
   },
   "outputs": [],
   "source": [
    "train_limpio_filtrado = train_limpio.dropna(subset=target_columns)\n",
    "\n",
    "train_target_clean = train_limpio_filtrado[target_columns]\n",
    "train_features_clean = train_limpio_filtrado.drop(columns=target_columns)\n",
    "\n",
    "train_features_clean = train_features_clean.select_dtypes(include=[np.number])\n",
    "\n",
    "train_features_clean = train_features_clean.replace([np.inf, -np.inf], np.nan)\n",
    "valid_index = train_features_clean.dropna().index\n",
    "\n",
    "train_features_clean = train_features_clean.loc[valid_index]\n",
    "train_target_clean = train_target_clean.loc[valid_index]\n",
    "\n",
    "def smape(y_true, y_pred):\n",
    "    denominator = (np.abs(y_true) + np.abs(y_pred)) / 2\n",
    "    diff = np.abs(y_true - y_pred)\n",
    "    return np.mean(diff / denominator) * 100"
   ]
  },
  {
   "cell_type": "code",
   "execution_count": 22,
   "metadata": {
    "trusted": true
   },
   "outputs": [
    {
     "name": "stdout",
     "output_type": "stream",
     "text": [
      "LinearRegression:\n",
      "  sMAPE Rougher: 2.8550\n",
      "  sMAPE Final: 2.5013\n",
      "  sMAPE Total: 2.5898\n",
      "\n"
     ]
    }
   ],
   "source": [
    "model = LinearRegression()\n",
    "\n",
    "rougher_preds = cross_val_predict(model, train_features_clean, train_target_clean['rougher.output.recovery'], cv=5)\n",
    "smape_rougher = smape(train_target_clean['rougher.output.recovery'], rougher_preds)\n",
    "\n",
    "final_preds = cross_val_predict(model, train_features_clean, train_target_clean['final.output.recovery'], cv=5)\n",
    "smape_final = smape(train_target_clean['final.output.recovery'], final_preds)\n",
    "\n",
    "smape_total = 0.25 * smape_rougher + 0.75 * smape_final\n",
    "\n",
    "print(\"LinearRegression:\")\n",
    "print(f\"  sMAPE Rougher: {smape_rougher:.4f}\")\n",
    "print(f\"  sMAPE Final: {smape_final:.4f}\")\n",
    "print(f\"  sMAPE Total: {smape_total:.4f}\\n\")"
   ]
  },
  {
   "cell_type": "code",
   "execution_count": 23,
   "metadata": {
    "trusted": true
   },
   "outputs": [
    {
     "name": "stdout",
     "output_type": "stream",
     "text": [
      "Random Forest:\n",
      "\n",
      "RandomForest (n_estimators=50, max_depth=5)\n",
      "  sMAPE Rougher: 2.4977\n",
      "  sMAPE Final: 4.4208\n",
      "  sMAPE Total: 3.9401\n",
      "\n",
      "RandomForest (n_estimators=100, max_depth=10)\n",
      "  sMAPE Rougher: 1.1655\n",
      "  sMAPE Final: 1.6555\n",
      "  sMAPE Total: 1.5330\n",
      "\n",
      "RandomForest (n_estimators=200, max_depth=15)\n",
      "  sMAPE Rougher: 1.1093\n",
      "  sMAPE Final: 1.4503\n",
      "  sMAPE Total: 1.3650\n",
      "\n",
      "RandomForest (n_estimators=300, max_depth=20)\n",
      "  sMAPE Rougher: 1.1056\n",
      "  sMAPE Final: 1.4566\n",
      "  sMAPE Total: 1.3688\n",
      "\n",
      "RandomForest (n_estimators=100, max_depth=None)\n",
      "  sMAPE Rougher: 1.1013\n",
      "  sMAPE Final: 1.4689\n",
      "  sMAPE Total: 1.3770\n",
      "\n"
     ]
    }
   ],
   "source": [
    "param_grid = [\n",
    "    {'n_estimators': 50, 'max_depth': 5},\n",
    "    {'n_estimators': 100, 'max_depth': 10},\n",
    "    {'n_estimators': 200, 'max_depth': 15},\n",
    "    {'n_estimators': 300, 'max_depth': 20},\n",
    "    {'n_estimators': 100, 'max_depth': None},\n",
    "]\n",
    "\n",
    "print(\"Random Forest:\\n\")\n",
    "for params in param_grid:\n",
    "    model = RandomForestRegressor(\n",
    "        n_estimators=params['n_estimators'],\n",
    "        max_depth=params['max_depth'],\n",
    "        random_state=42,\n",
    "        n_jobs=-1\n",
    "    )\n",
    "\n",
    "    rougher_preds = cross_val_predict(model, train_features_clean, train_target_clean['rougher.output.recovery'], cv=5)\n",
    "    smape_rougher = smape(train_target_clean['rougher.output.recovery'], rougher_preds)\n",
    "\n",
    "    final_preds = cross_val_predict(model, train_features_clean, train_target_clean['final.output.recovery'], cv=5)\n",
    "    smape_final = smape(train_target_clean['final.output.recovery'], final_preds)\n",
    "\n",
    "    smape_total = 0.25 * smape_rougher + 0.75 * smape_final\n",
    "\n",
    "    print(f\"RandomForest (n_estimators={params['n_estimators']}, max_depth={params['max_depth']})\")\n",
    "    print(f\"  sMAPE Rougher: {smape_rougher:.4f}\")\n",
    "    print(f\"  sMAPE Final: {smape_final:.4f}\")\n",
    "    print(f\"  sMAPE Total: {smape_total:.4f}\\n\")"
   ]
  },
  {
   "cell_type": "markdown",
   "metadata": {},
   "source": [
    "### Comparación de Modelos: Random Forest vs. Regresión Lineal\n",
    "\n",
    "El modelo **Random Forest** con parámetros `n_estimators=200` y `max_depth=15` tuvo un desempeño significativamente superior al modelo de **Regresión Lineal** en términos de **sMAPE Total**, que es la métrica clave de evaluación en este caso.\n",
    "\n",
    "| Modelo           | sMAPE Rougher | sMAPE Final | sMAPE Total |\n",
    "|------------------|---------------|-------------|--------------|\n",
    "| Random Forest    | **1.1093**     | **1.4503**   | **1.3650**    |\n",
    "| LinearRegression | 2.8550        | 2.5013      | 2.5898       |\n",
    "\n",
    "\n",
    "\n",
    "El modelo Random Forest supera claramente a la Regresión Lineal debido a su capacidad para capturar relaciones no lineales y complejas entre las variables. Mientras que la Regresión Lineal asume una relación lineal entre las variables predictoras y la variable objetivo, Random Forest utiliza múltiples árboles de decisión y puede manejar interacciones entre características, así como la presencia de ruido en los datos, lo que lo hace más robusto y preciso en este contexto.\n"
   ]
  },
  {
   "cell_type": "markdown",
   "metadata": {},
   "source": [
    "<div class=\"alert alert-block alert-success\">\n",
    "<b>Comentario de Reviewer </b> <a class=\"tocSkip\"></a>\n",
    "\n",
    "Correcto, muy bien en esta parte al entrengar diferentes modelos y usar la métrica de smape.\n",
    "</div>"
   ]
  },
  {
   "cell_type": "markdown",
   "metadata": {},
   "source": [
    "<div class=\"alert alert-block alert-danger\">\n",
    "<b>Comentario de Revisor</b> <a class=\"tocSkip\"></a>\n",
    "\n",
    "Además de probar con una versión por defecto de los modelos, entrena versiones con diferentes parámetros. Por ejemplo, para random forest podrías variar n_estimators y depth, de forma de ver el efecto de estos parámetros en el desempeño del modelo.\n",
    "\n",
    "</div>"
   ]
  },
  {
   "cell_type": "markdown",
   "metadata": {},
   "source": [
    "<div class=\"alert alert-block alert-success\">\n",
    "<b>Comentario de Revisor v2</b> <a class=\"tocSkip\"></a>\n",
    "\n",
    "Buen trabajo! Muy bien al probar los diferentes modelos \n",
    "\n",
    "</div>"
   ]
  }
 ],
 "metadata": {
  "ExecuteTimeLog": [
   {
    "duration": 337,
    "start_time": "2025-05-05T18:59:51.056Z"
   },
   {
    "duration": 626,
    "start_time": "2025-05-05T18:59:51.527Z"
   },
   {
    "duration": 32,
    "start_time": "2025-05-05T18:59:58.048Z"
   },
   {
    "duration": 23,
    "start_time": "2025-05-05T19:00:43.197Z"
   },
   {
    "duration": 24,
    "start_time": "2025-05-05T19:01:33.183Z"
   },
   {
    "duration": 493,
    "start_time": "2025-05-05T19:05:07.938Z"
   },
   {
    "duration": 27,
    "start_time": "2025-05-05T19:05:08.433Z"
   },
   {
    "duration": 544,
    "start_time": "2025-05-05T19:06:28.608Z"
   },
   {
    "duration": 25,
    "start_time": "2025-05-05T19:08:55.609Z"
   },
   {
    "duration": 19,
    "start_time": "2025-05-05T19:09:02.805Z"
   },
   {
    "duration": 15,
    "start_time": "2025-05-05T19:09:28.546Z"
   },
   {
    "duration": 17,
    "start_time": "2025-05-05T19:09:30.697Z"
   },
   {
    "duration": 491,
    "start_time": "2025-05-05T19:09:53.577Z"
   },
   {
    "duration": 37,
    "start_time": "2025-05-05T19:10:10.691Z"
   },
   {
    "duration": 289,
    "start_time": "2025-05-05T19:12:06.320Z"
   },
   {
    "duration": 511,
    "start_time": "2025-05-05T19:12:13.930Z"
   },
   {
    "duration": 188,
    "start_time": "2025-05-05T19:12:41.908Z"
   },
   {
    "duration": 3,
    "start_time": "2025-05-05T19:14:32.779Z"
   },
   {
    "duration": 13,
    "start_time": "2025-05-05T19:15:00.177Z"
   },
   {
    "duration": 2,
    "start_time": "2025-05-05T19:15:06.423Z"
   },
   {
    "duration": 486,
    "start_time": "2025-05-05T19:15:06.717Z"
   },
   {
    "duration": 37,
    "start_time": "2025-05-05T19:15:07.205Z"
   },
   {
    "duration": 5,
    "start_time": "2025-05-05T19:15:07.946Z"
   },
   {
    "duration": 6,
    "start_time": "2025-05-05T19:15:43.039Z"
   },
   {
    "duration": 6,
    "start_time": "2025-05-05T19:15:52.064Z"
   },
   {
    "duration": 11,
    "start_time": "2025-05-05T19:16:29.361Z"
   },
   {
    "duration": 1858,
    "start_time": "2025-05-05T19:18:40.248Z"
   },
   {
    "duration": 1160,
    "start_time": "2025-05-05T19:18:52.936Z"
   },
   {
    "duration": 233,
    "start_time": "2025-05-05T19:19:22.974Z"
   },
   {
    "duration": 343,
    "start_time": "2025-05-05T19:19:37.755Z"
   },
   {
    "duration": 17,
    "start_time": "2025-05-05T19:21:53.275Z"
   },
   {
    "duration": 5,
    "start_time": "2025-05-05T19:24:49.465Z"
   },
   {
    "duration": 465,
    "start_time": "2025-05-05T19:25:02.563Z"
   },
   {
    "duration": 548,
    "start_time": "2025-05-05T19:25:25.298Z"
   },
   {
    "duration": 22,
    "start_time": "2025-05-05T19:28:09.626Z"
   },
   {
    "duration": 895,
    "start_time": "2025-05-05T19:29:09.034Z"
   },
   {
    "duration": 483,
    "start_time": "2025-05-05T19:29:09.931Z"
   },
   {
    "duration": 295,
    "start_time": "2025-05-05T19:29:10.415Z"
   },
   {
    "duration": 0,
    "start_time": "2025-05-05T19:29:10.712Z"
   },
   {
    "duration": 0,
    "start_time": "2025-05-05T19:29:10.713Z"
   },
   {
    "duration": 0,
    "start_time": "2025-05-05T19:29:10.714Z"
   },
   {
    "duration": 0,
    "start_time": "2025-05-05T19:29:10.715Z"
   },
   {
    "duration": 0,
    "start_time": "2025-05-05T19:29:10.725Z"
   },
   {
    "duration": 0,
    "start_time": "2025-05-05T19:29:10.726Z"
   },
   {
    "duration": 0,
    "start_time": "2025-05-05T19:29:10.727Z"
   },
   {
    "duration": 0,
    "start_time": "2025-05-05T19:29:10.729Z"
   },
   {
    "duration": 0,
    "start_time": "2025-05-05T19:29:10.729Z"
   },
   {
    "duration": 0,
    "start_time": "2025-05-05T19:29:10.731Z"
   },
   {
    "duration": 958,
    "start_time": "2025-05-05T19:29:28.921Z"
   },
   {
    "duration": 516,
    "start_time": "2025-05-05T19:29:29.881Z"
   },
   {
    "duration": 328,
    "start_time": "2025-05-05T19:29:30.399Z"
   },
   {
    "duration": 0,
    "start_time": "2025-05-05T19:29:30.729Z"
   },
   {
    "duration": 0,
    "start_time": "2025-05-05T19:29:30.732Z"
   },
   {
    "duration": 0,
    "start_time": "2025-05-05T19:29:30.733Z"
   },
   {
    "duration": 0,
    "start_time": "2025-05-05T19:29:30.734Z"
   },
   {
    "duration": 0,
    "start_time": "2025-05-05T19:29:30.735Z"
   },
   {
    "duration": 0,
    "start_time": "2025-05-05T19:29:30.737Z"
   },
   {
    "duration": 0,
    "start_time": "2025-05-05T19:29:30.738Z"
   },
   {
    "duration": 0,
    "start_time": "2025-05-05T19:29:30.739Z"
   },
   {
    "duration": 0,
    "start_time": "2025-05-05T19:29:30.741Z"
   },
   {
    "duration": 0,
    "start_time": "2025-05-05T19:29:30.742Z"
   },
   {
    "duration": 7,
    "start_time": "2025-05-05T19:29:35.690Z"
   },
   {
    "duration": 6,
    "start_time": "2025-05-05T19:29:36.617Z"
   },
   {
    "duration": 10,
    "start_time": "2025-05-05T19:29:40.409Z"
   },
   {
    "duration": 1137,
    "start_time": "2025-05-05T19:29:42.440Z"
   },
   {
    "duration": 243,
    "start_time": "2025-05-05T19:29:47.909Z"
   },
   {
    "duration": 344,
    "start_time": "2025-05-05T19:29:51.088Z"
   },
   {
    "duration": 18,
    "start_time": "2025-05-05T19:29:54.750Z"
   },
   {
    "duration": 4,
    "start_time": "2025-05-05T19:29:57.635Z"
   },
   {
    "duration": 659,
    "start_time": "2025-05-05T19:29:59.069Z"
   },
   {
    "duration": 961,
    "start_time": "2025-05-05T19:31:28.070Z"
   },
   {
    "duration": 537,
    "start_time": "2025-05-05T19:31:29.033Z"
   },
   {
    "duration": 350,
    "start_time": "2025-05-05T19:31:29.572Z"
   },
   {
    "duration": 0,
    "start_time": "2025-05-05T19:31:29.924Z"
   },
   {
    "duration": 0,
    "start_time": "2025-05-05T19:31:29.931Z"
   },
   {
    "duration": 0,
    "start_time": "2025-05-05T19:31:29.932Z"
   },
   {
    "duration": 0,
    "start_time": "2025-05-05T19:31:29.935Z"
   },
   {
    "duration": 0,
    "start_time": "2025-05-05T19:31:29.936Z"
   },
   {
    "duration": 0,
    "start_time": "2025-05-05T19:31:29.938Z"
   },
   {
    "duration": 0,
    "start_time": "2025-05-05T19:31:29.939Z"
   },
   {
    "duration": 0,
    "start_time": "2025-05-05T19:31:29.940Z"
   },
   {
    "duration": 0,
    "start_time": "2025-05-05T19:31:29.941Z"
   },
   {
    "duration": 0,
    "start_time": "2025-05-05T19:31:29.942Z"
   },
   {
    "duration": 890,
    "start_time": "2025-05-05T19:31:47.739Z"
   },
   {
    "duration": 468,
    "start_time": "2025-05-05T19:31:48.632Z"
   },
   {
    "duration": 96,
    "start_time": "2025-05-05T19:31:49.101Z"
   },
   {
    "duration": 6,
    "start_time": "2025-05-05T19:31:49.199Z"
   },
   {
    "duration": 5,
    "start_time": "2025-05-05T19:31:49.206Z"
   },
   {
    "duration": 20,
    "start_time": "2025-05-05T19:31:49.212Z"
   },
   {
    "duration": 1182,
    "start_time": "2025-05-05T19:31:49.234Z"
   },
   {
    "duration": 233,
    "start_time": "2025-05-05T19:31:50.418Z"
   },
   {
    "duration": 340,
    "start_time": "2025-05-05T19:31:50.653Z"
   },
   {
    "duration": 16,
    "start_time": "2025-05-05T19:31:50.995Z"
   },
   {
    "duration": 4,
    "start_time": "2025-05-05T19:31:51.024Z"
   },
   {
    "duration": 610,
    "start_time": "2025-05-05T19:31:51.030Z"
   },
   {
    "duration": 885,
    "start_time": "2025-05-05T19:32:45.415Z"
   },
   {
    "duration": 500,
    "start_time": "2025-05-05T19:32:46.302Z"
   },
   {
    "duration": 91,
    "start_time": "2025-05-05T19:32:46.803Z"
   },
   {
    "duration": 10,
    "start_time": "2025-05-05T19:32:46.896Z"
   },
   {
    "duration": 5,
    "start_time": "2025-05-05T19:32:46.909Z"
   },
   {
    "duration": 10,
    "start_time": "2025-05-05T19:32:46.925Z"
   },
   {
    "duration": 1143,
    "start_time": "2025-05-05T19:32:46.937Z"
   },
   {
    "duration": 226,
    "start_time": "2025-05-05T19:32:48.082Z"
   },
   {
    "duration": 343,
    "start_time": "2025-05-05T19:32:48.310Z"
   },
   {
    "duration": 16,
    "start_time": "2025-05-05T19:32:48.654Z"
   },
   {
    "duration": 6,
    "start_time": "2025-05-05T19:32:48.674Z"
   },
   {
    "duration": 661,
    "start_time": "2025-05-05T19:32:48.682Z"
   },
   {
    "duration": 202511,
    "start_time": "2025-05-05T19:32:49.345Z"
   },
   {
    "duration": 26955,
    "start_time": "2025-05-05T19:40:59.758Z"
   },
   {
    "duration": 27380,
    "start_time": "2025-05-05T19:42:54.397Z"
   },
   {
    "duration": 0,
    "start_time": "2025-05-05T19:43:21.779Z"
   },
   {
    "duration": 153,
    "start_time": "2025-05-05T19:45:00.780Z"
   },
   {
    "duration": 931,
    "start_time": "2025-05-05T19:45:07.593Z"
   },
   {
    "duration": 522,
    "start_time": "2025-05-05T19:45:08.527Z"
   },
   {
    "duration": 109,
    "start_time": "2025-05-05T19:45:09.050Z"
   },
   {
    "duration": 6,
    "start_time": "2025-05-05T19:45:09.161Z"
   },
   {
    "duration": 6,
    "start_time": "2025-05-05T19:45:09.170Z"
   },
   {
    "duration": 11,
    "start_time": "2025-05-05T19:45:09.178Z"
   },
   {
    "duration": 1242,
    "start_time": "2025-05-05T19:45:09.191Z"
   },
   {
    "duration": 252,
    "start_time": "2025-05-05T19:45:10.435Z"
   },
   {
    "duration": 355,
    "start_time": "2025-05-05T19:45:10.689Z"
   },
   {
    "duration": 18,
    "start_time": "2025-05-05T19:45:11.046Z"
   },
   {
    "duration": 4,
    "start_time": "2025-05-05T19:45:11.066Z"
   },
   {
    "duration": 803,
    "start_time": "2025-05-05T19:45:11.073Z"
   },
   {
    "duration": 0,
    "start_time": "2025-05-05T19:45:11.878Z"
   },
   {
    "duration": 0,
    "start_time": "2025-05-05T19:45:11.879Z"
   },
   {
    "duration": 163,
    "start_time": "2025-05-05T19:46:51.295Z"
   },
   {
    "duration": 995,
    "start_time": "2025-05-05T19:46:53.811Z"
   },
   {
    "duration": 547,
    "start_time": "2025-05-05T19:46:54.808Z"
   },
   {
    "duration": 36,
    "start_time": "2025-05-05T19:46:55.357Z"
   },
   {
    "duration": 87,
    "start_time": "2025-05-05T19:48:25.311Z"
   },
   {
    "duration": 6,
    "start_time": "2025-05-05T19:48:49.172Z"
   },
   {
    "duration": 4,
    "start_time": "2025-05-05T19:48:55.103Z"
   },
   {
    "duration": 14,
    "start_time": "2025-05-05T19:50:08.870Z"
   },
   {
    "duration": 3,
    "start_time": "2025-05-05T19:51:40.514Z"
   },
   {
    "duration": 10,
    "start_time": "2025-05-05T19:52:09.898Z"
   },
   {
    "duration": 6,
    "start_time": "2025-05-05T19:52:31.510Z"
   },
   {
    "duration": 7,
    "start_time": "2025-05-05T19:56:38.955Z"
   },
   {
    "duration": 7,
    "start_time": "2025-05-05T19:56:56.099Z"
   },
   {
    "duration": 885,
    "start_time": "2025-05-05T19:57:18.236Z"
   },
   {
    "duration": 512,
    "start_time": "2025-05-05T19:57:19.123Z"
   },
   {
    "duration": 80,
    "start_time": "2025-05-05T19:57:19.637Z"
   },
   {
    "duration": 4,
    "start_time": "2025-05-05T19:57:19.725Z"
   },
   {
    "duration": 10,
    "start_time": "2025-05-05T19:57:19.730Z"
   },
   {
    "duration": 11,
    "start_time": "2025-05-05T19:57:19.743Z"
   },
   {
    "duration": 984,
    "start_time": "2025-05-05T19:58:45.717Z"
   },
   {
    "duration": 520,
    "start_time": "2025-05-05T19:58:46.704Z"
   },
   {
    "duration": 116,
    "start_time": "2025-05-05T19:58:47.225Z"
   },
   {
    "duration": 3,
    "start_time": "2025-05-05T19:58:47.343Z"
   },
   {
    "duration": 14,
    "start_time": "2025-05-05T20:00:58.352Z"
   },
   {
    "duration": 4,
    "start_time": "2025-05-05T20:02:28.690Z"
   },
   {
    "duration": 5,
    "start_time": "2025-05-05T20:05:05.399Z"
   },
   {
    "duration": 3,
    "start_time": "2025-05-05T20:07:18.180Z"
   },
   {
    "duration": 2,
    "start_time": "2025-05-05T20:07:20.204Z"
   },
   {
    "duration": 6,
    "start_time": "2025-05-05T20:08:26.807Z"
   },
   {
    "duration": 925,
    "start_time": "2025-05-05T20:08:35.900Z"
   },
   {
    "duration": 519,
    "start_time": "2025-05-05T20:08:36.827Z"
   },
   {
    "duration": 103,
    "start_time": "2025-05-05T20:08:37.348Z"
   },
   {
    "duration": 4,
    "start_time": "2025-05-05T20:08:37.453Z"
   },
   {
    "duration": 7,
    "start_time": "2025-05-05T20:08:37.460Z"
   },
   {
    "duration": 3,
    "start_time": "2025-05-05T20:08:37.469Z"
   },
   {
    "duration": 6,
    "start_time": "2025-05-05T20:08:37.474Z"
   },
   {
    "duration": 977,
    "start_time": "2025-05-05T20:10:25.144Z"
   },
   {
    "duration": 517,
    "start_time": "2025-05-05T20:10:26.123Z"
   },
   {
    "duration": 107,
    "start_time": "2025-05-05T20:10:26.642Z"
   },
   {
    "duration": 4,
    "start_time": "2025-05-05T20:10:26.750Z"
   },
   {
    "duration": 8,
    "start_time": "2025-05-05T20:10:26.757Z"
   },
   {
    "duration": 3,
    "start_time": "2025-05-05T20:10:26.767Z"
   },
   {
    "duration": 5,
    "start_time": "2025-05-05T20:10:26.772Z"
   },
   {
    "duration": 4,
    "start_time": "2025-05-05T20:10:26.779Z"
   },
   {
    "duration": 50,
    "start_time": "2025-05-05T20:10:26.785Z"
   },
   {
    "duration": 643,
    "start_time": "2025-05-05T20:13:38.285Z"
   },
   {
    "duration": 4,
    "start_time": "2025-05-05T20:14:12.426Z"
   },
   {
    "duration": 137,
    "start_time": "2025-05-05T20:14:41.745Z"
   },
   {
    "duration": 8,
    "start_time": "2025-05-05T20:15:29.610Z"
   },
   {
    "duration": 8,
    "start_time": "2025-05-05T20:15:55.763Z"
   },
   {
    "duration": 4,
    "start_time": "2025-05-05T20:16:19.963Z"
   },
   {
    "duration": 8,
    "start_time": "2025-05-05T20:16:36.203Z"
   },
   {
    "duration": 171,
    "start_time": "2025-05-05T20:16:58.177Z"
   },
   {
    "duration": 11,
    "start_time": "2025-05-05T20:17:28.364Z"
   },
   {
    "duration": 12,
    "start_time": "2025-05-05T20:17:43.168Z"
   },
   {
    "duration": 6,
    "start_time": "2025-05-05T20:19:36.752Z"
   },
   {
    "duration": 4,
    "start_time": "2025-05-05T20:19:55.126Z"
   },
   {
    "duration": 220,
    "start_time": "2025-05-05T20:20:47.806Z"
   },
   {
    "duration": 9,
    "start_time": "2025-05-05T20:21:17.198Z"
   },
   {
    "duration": 9,
    "start_time": "2025-05-05T20:21:34.676Z"
   },
   {
    "duration": 7,
    "start_time": "2025-05-05T20:31:13.565Z"
   },
   {
    "duration": 13,
    "start_time": "2025-05-05T20:31:41.350Z"
   },
   {
    "duration": 14,
    "start_time": "2025-05-05T20:32:39.982Z"
   },
   {
    "duration": 57,
    "start_time": "2025-05-05T20:34:32.529Z"
   },
   {
    "duration": 4,
    "start_time": "2025-05-05T20:37:04.243Z"
   },
   {
    "duration": 150,
    "start_time": "2025-05-05T20:39:52.132Z"
   },
   {
    "duration": 145,
    "start_time": "2025-05-05T20:41:07.128Z"
   },
   {
    "duration": 148,
    "start_time": "2025-05-05T20:44:08.633Z"
   },
   {
    "duration": 154,
    "start_time": "2025-05-05T20:45:57.779Z"
   },
   {
    "duration": 151,
    "start_time": "2025-05-05T20:46:30.300Z"
   },
   {
    "duration": 154,
    "start_time": "2025-05-05T20:49:58.577Z"
   },
   {
    "duration": 9,
    "start_time": "2025-05-05T20:52:41.019Z"
   },
   {
    "duration": 10,
    "start_time": "2025-05-05T20:53:25.005Z"
   },
   {
    "duration": 10,
    "start_time": "2025-05-05T21:00:58.932Z"
   },
   {
    "duration": 6,
    "start_time": "2025-05-05T21:02:04.551Z"
   },
   {
    "duration": 7,
    "start_time": "2025-05-05T21:02:37.802Z"
   },
   {
    "duration": 6,
    "start_time": "2025-05-05T21:02:54.161Z"
   },
   {
    "duration": 7,
    "start_time": "2025-05-05T21:03:42.515Z"
   },
   {
    "duration": 6,
    "start_time": "2025-05-05T21:03:43.316Z"
   },
   {
    "duration": 861,
    "start_time": "2025-05-05T21:03:49.985Z"
   },
   {
    "duration": 530,
    "start_time": "2025-05-05T21:03:50.849Z"
   },
   {
    "duration": 85,
    "start_time": "2025-05-05T21:03:51.380Z"
   },
   {
    "duration": 3,
    "start_time": "2025-05-05T21:03:51.467Z"
   },
   {
    "duration": 6,
    "start_time": "2025-05-05T21:03:51.472Z"
   },
   {
    "duration": 3,
    "start_time": "2025-05-05T21:03:51.480Z"
   },
   {
    "duration": 5,
    "start_time": "2025-05-05T21:03:51.485Z"
   },
   {
    "duration": 4,
    "start_time": "2025-05-05T21:03:51.491Z"
   },
   {
    "duration": 15,
    "start_time": "2025-05-05T21:03:51.524Z"
   },
   {
    "duration": 12,
    "start_time": "2025-05-05T21:03:51.541Z"
   },
   {
    "duration": 3,
    "start_time": "2025-05-05T21:03:51.554Z"
   },
   {
    "duration": 225,
    "start_time": "2025-05-05T21:03:51.559Z"
   },
   {
    "duration": 8,
    "start_time": "2025-05-05T21:03:51.786Z"
   },
   {
    "duration": 347,
    "start_time": "2025-05-05T21:03:51.796Z"
   },
   {
    "duration": 0,
    "start_time": "2025-05-05T21:03:52.144Z"
   },
   {
    "duration": 29,
    "start_time": "2025-05-05T21:04:01.530Z"
   },
   {
    "duration": 14,
    "start_time": "2025-05-05T21:04:11.719Z"
   },
   {
    "duration": 13,
    "start_time": "2025-05-05T21:04:13.728Z"
   },
   {
    "duration": 7,
    "start_time": "2025-05-05T21:04:14.091Z"
   },
   {
    "duration": 11,
    "start_time": "2025-05-05T21:04:43.391Z"
   },
   {
    "duration": 10,
    "start_time": "2025-05-05T21:05:34.065Z"
   },
   {
    "duration": 10,
    "start_time": "2025-05-05T21:06:05.559Z"
   },
   {
    "duration": 8,
    "start_time": "2025-05-05T21:07:41.400Z"
   },
   {
    "duration": 9,
    "start_time": "2025-05-05T21:08:25.144Z"
   },
   {
    "duration": 11,
    "start_time": "2025-05-05T21:09:02.641Z"
   },
   {
    "duration": 891,
    "start_time": "2025-05-05T21:10:08.212Z"
   },
   {
    "duration": 509,
    "start_time": "2025-05-05T21:10:09.105Z"
   },
   {
    "duration": 86,
    "start_time": "2025-05-05T21:10:09.615Z"
   },
   {
    "duration": 3,
    "start_time": "2025-05-05T21:10:09.704Z"
   },
   {
    "duration": 9,
    "start_time": "2025-05-05T21:10:09.724Z"
   },
   {
    "duration": 4,
    "start_time": "2025-05-05T21:10:09.734Z"
   },
   {
    "duration": 6,
    "start_time": "2025-05-05T21:10:09.740Z"
   },
   {
    "duration": 4,
    "start_time": "2025-05-05T21:10:09.747Z"
   },
   {
    "duration": 14,
    "start_time": "2025-05-05T21:10:09.753Z"
   },
   {
    "duration": 11,
    "start_time": "2025-05-05T21:10:09.770Z"
   },
   {
    "duration": 4,
    "start_time": "2025-05-05T21:10:09.782Z"
   },
   {
    "duration": 222,
    "start_time": "2025-05-05T21:10:09.824Z"
   },
   {
    "duration": 9,
    "start_time": "2025-05-05T21:10:10.048Z"
   },
   {
    "duration": 242,
    "start_time": "2025-05-05T21:10:10.059Z"
   },
   {
    "duration": 0,
    "start_time": "2025-05-05T21:10:10.303Z"
   },
   {
    "duration": 9,
    "start_time": "2025-05-05T21:10:23.285Z"
   },
   {
    "duration": 9,
    "start_time": "2025-05-05T21:10:30.793Z"
   },
   {
    "duration": 7,
    "start_time": "2025-05-05T21:10:43.553Z"
   },
   {
    "duration": 9,
    "start_time": "2025-05-05T21:10:49.438Z"
   },
   {
    "duration": 9,
    "start_time": "2025-05-05T21:11:28.814Z"
   },
   {
    "duration": 11,
    "start_time": "2025-05-05T21:11:33.337Z"
   },
   {
    "duration": 8,
    "start_time": "2025-05-05T21:12:11.138Z"
   },
   {
    "duration": 9,
    "start_time": "2025-05-05T21:12:14.799Z"
   },
   {
    "duration": 8,
    "start_time": "2025-05-05T21:17:56.615Z"
   },
   {
    "duration": 9,
    "start_time": "2025-05-05T21:18:01.765Z"
   },
   {
    "duration": 18,
    "start_time": "2025-05-05T21:21:35.310Z"
   },
   {
    "duration": 7,
    "start_time": "2025-05-05T21:21:57.266Z"
   },
   {
    "duration": 9,
    "start_time": "2025-05-05T21:22:53.253Z"
   },
   {
    "duration": 21,
    "start_time": "2025-05-05T21:23:44.245Z"
   },
   {
    "duration": 14,
    "start_time": "2025-05-05T21:24:18.495Z"
   },
   {
    "duration": 12,
    "start_time": "2025-05-05T21:25:12.701Z"
   },
   {
    "duration": 11,
    "start_time": "2025-05-05T21:26:56.025Z"
   },
   {
    "duration": 9,
    "start_time": "2025-05-05T21:27:42.323Z"
   },
   {
    "duration": 10,
    "start_time": "2025-05-05T21:29:36.031Z"
   },
   {
    "duration": 9,
    "start_time": "2025-05-05T21:34:32.674Z"
   },
   {
    "duration": 8,
    "start_time": "2025-05-05T21:35:33.540Z"
   },
   {
    "duration": 16,
    "start_time": "2025-05-05T21:39:36.458Z"
   },
   {
    "duration": 9,
    "start_time": "2025-05-05T21:40:51.286Z"
   },
   {
    "duration": 8,
    "start_time": "2025-05-05T21:42:56.004Z"
   },
   {
    "duration": 2,
    "start_time": "2025-05-05T21:48:57.022Z"
   },
   {
    "duration": 3,
    "start_time": "2025-05-05T21:50:14.276Z"
   },
   {
    "duration": 25,
    "start_time": "2025-05-05T21:50:30.524Z"
   },
   {
    "duration": 3,
    "start_time": "2025-05-05T21:51:31.712Z"
   },
   {
    "duration": 419,
    "start_time": "2025-05-05T21:51:45.720Z"
   },
   {
    "duration": 3,
    "start_time": "2025-05-05T21:52:35.399Z"
   },
   {
    "duration": 3,
    "start_time": "2025-05-05T21:53:33.742Z"
   },
   {
    "duration": 46244,
    "start_time": "2025-05-05T21:54:23.157Z"
   },
   {
    "duration": 227725,
    "start_time": "2025-05-05T21:59:41.915Z"
   },
   {
    "duration": 92489,
    "start_time": "2025-05-05T22:06:09.136Z"
   },
   {
    "duration": 81,
    "start_time": "2025-05-05T22:08:32.912Z"
   },
   {
    "duration": 126,
    "start_time": "2025-05-05T22:09:08.872Z"
   },
   {
    "duration": 0,
    "start_time": "2025-05-05T22:12:46.557Z"
   },
   {
    "duration": 238,
    "start_time": "2025-05-05T22:13:09.131Z"
   },
   {
    "duration": 62,
    "start_time": "2025-05-05T22:15:31.942Z"
   },
   {
    "duration": 60,
    "start_time": "2025-05-05T22:16:53.140Z"
   },
   {
    "duration": 111,
    "start_time": "2025-05-05T22:18:40.422Z"
   },
   {
    "duration": 62,
    "start_time": "2025-05-05T22:18:47.003Z"
   },
   {
    "duration": 43,
    "start_time": "2025-05-05T22:19:42.660Z"
   },
   {
    "duration": 23,
    "start_time": "2025-05-05T22:20:50.786Z"
   },
   {
    "duration": 23,
    "start_time": "2025-05-05T22:21:21.720Z"
   },
   {
    "duration": 1072,
    "start_time": "2025-05-05T22:21:39.153Z"
   },
   {
    "duration": 548,
    "start_time": "2025-05-05T22:21:40.228Z"
   },
   {
    "duration": 118,
    "start_time": "2025-05-05T22:21:40.778Z"
   },
   {
    "duration": 4,
    "start_time": "2025-05-05T22:21:40.898Z"
   },
   {
    "duration": 20,
    "start_time": "2025-05-05T22:21:40.905Z"
   },
   {
    "duration": 4,
    "start_time": "2025-05-05T22:21:40.928Z"
   },
   {
    "duration": 7,
    "start_time": "2025-05-05T22:21:40.934Z"
   },
   {
    "duration": 4,
    "start_time": "2025-05-05T22:21:40.944Z"
   },
   {
    "duration": 20,
    "start_time": "2025-05-05T22:21:40.950Z"
   },
   {
    "duration": 16,
    "start_time": "2025-05-05T22:21:40.972Z"
   },
   {
    "duration": 36,
    "start_time": "2025-05-05T22:21:40.990Z"
   },
   {
    "duration": 296,
    "start_time": "2025-05-05T22:21:41.028Z"
   },
   {
    "duration": 11,
    "start_time": "2025-05-05T22:21:41.326Z"
   },
   {
    "duration": 9,
    "start_time": "2025-05-05T22:21:41.340Z"
   },
   {
    "duration": 12,
    "start_time": "2025-05-05T22:21:41.350Z"
   },
   {
    "duration": 10,
    "start_time": "2025-05-05T22:21:41.365Z"
   },
   {
    "duration": 289,
    "start_time": "2025-05-05T22:21:41.377Z"
   },
   {
    "duration": 0,
    "start_time": "2025-05-05T22:21:41.668Z"
   },
   {
    "duration": 0,
    "start_time": "2025-05-05T22:21:41.670Z"
   },
   {
    "duration": 985,
    "start_time": "2025-05-05T22:21:59.145Z"
   },
   {
    "duration": 516,
    "start_time": "2025-05-05T22:22:00.132Z"
   },
   {
    "duration": 100,
    "start_time": "2025-05-05T22:22:00.649Z"
   },
   {
    "duration": 5,
    "start_time": "2025-05-05T22:22:00.751Z"
   },
   {
    "duration": 7,
    "start_time": "2025-05-05T22:22:00.759Z"
   },
   {
    "duration": 3,
    "start_time": "2025-05-05T22:22:00.768Z"
   },
   {
    "duration": 6,
    "start_time": "2025-05-05T22:22:00.773Z"
   },
   {
    "duration": 3,
    "start_time": "2025-05-05T22:22:00.780Z"
   },
   {
    "duration": 44,
    "start_time": "2025-05-05T22:22:00.785Z"
   },
   {
    "duration": 13,
    "start_time": "2025-05-05T22:22:00.831Z"
   },
   {
    "duration": 4,
    "start_time": "2025-05-05T22:22:00.846Z"
   },
   {
    "duration": 266,
    "start_time": "2025-05-05T22:22:00.852Z"
   },
   {
    "duration": 11,
    "start_time": "2025-05-05T22:22:01.123Z"
   },
   {
    "duration": 8,
    "start_time": "2025-05-05T22:22:01.136Z"
   },
   {
    "duration": 9,
    "start_time": "2025-05-05T22:22:01.146Z"
   },
   {
    "duration": 9,
    "start_time": "2025-05-05T22:22:01.157Z"
   },
   {
    "duration": 3,
    "start_time": "2025-05-05T22:22:01.168Z"
   },
   {
    "duration": 309,
    "start_time": "2025-05-05T22:22:01.174Z"
   },
   {
    "duration": 427,
    "start_time": "2025-05-05T22:27:07.097Z"
   },
   {
    "duration": 94,
    "start_time": "2025-05-05T22:28:45.815Z"
   },
   {
    "duration": 877,
    "start_time": "2025-05-05T22:28:58.257Z"
   },
   {
    "duration": 535,
    "start_time": "2025-05-05T22:28:59.136Z"
   },
   {
    "duration": 102,
    "start_time": "2025-05-05T22:28:59.673Z"
   },
   {
    "duration": 4,
    "start_time": "2025-05-05T22:28:59.777Z"
   },
   {
    "duration": 7,
    "start_time": "2025-05-05T22:28:59.784Z"
   },
   {
    "duration": 4,
    "start_time": "2025-05-05T22:28:59.793Z"
   },
   {
    "duration": 27,
    "start_time": "2025-05-05T22:28:59.799Z"
   },
   {
    "duration": 4,
    "start_time": "2025-05-05T22:28:59.830Z"
   },
   {
    "duration": 18,
    "start_time": "2025-05-05T22:28:59.836Z"
   },
   {
    "duration": 13,
    "start_time": "2025-05-05T22:28:59.856Z"
   },
   {
    "duration": 3,
    "start_time": "2025-05-05T22:28:59.870Z"
   },
   {
    "duration": 249,
    "start_time": "2025-05-05T22:28:59.875Z"
   },
   {
    "duration": 11,
    "start_time": "2025-05-05T22:29:00.126Z"
   },
   {
    "duration": 7,
    "start_time": "2025-05-05T22:29:00.139Z"
   },
   {
    "duration": 8,
    "start_time": "2025-05-05T22:29:00.148Z"
   },
   {
    "duration": 8,
    "start_time": "2025-05-05T22:29:00.158Z"
   },
   {
    "duration": 2,
    "start_time": "2025-05-05T22:29:00.169Z"
   },
   {
    "duration": 405,
    "start_time": "2025-05-05T22:29:00.173Z"
   },
   {
    "duration": 282,
    "start_time": "2025-05-05T22:30:15.127Z"
   },
   {
    "duration": 80,
    "start_time": "2025-05-05T22:30:21.155Z"
   },
   {
    "duration": 165,
    "start_time": "2025-05-05T22:31:12.797Z"
   },
   {
    "duration": 174,
    "start_time": "2025-05-05T22:31:49.001Z"
   },
   {
    "duration": 364,
    "start_time": "2025-05-05T22:32:24.187Z"
   },
   {
    "duration": 54660,
    "start_time": "2025-05-05T22:34:02.964Z"
   },
   {
    "duration": 3,
    "start_time": "2025-05-05T22:38:34.523Z"
   },
   {
    "duration": 979,
    "start_time": "2025-05-05T22:39:38.768Z"
   },
   {
    "duration": 544,
    "start_time": "2025-05-05T22:39:39.752Z"
   },
   {
    "duration": 97,
    "start_time": "2025-05-05T22:39:40.298Z"
   },
   {
    "duration": 3,
    "start_time": "2025-05-05T22:39:40.398Z"
   },
   {
    "duration": 23,
    "start_time": "2025-05-05T22:39:40.403Z"
   },
   {
    "duration": 4,
    "start_time": "2025-05-05T22:39:40.428Z"
   },
   {
    "duration": 6,
    "start_time": "2025-05-05T22:39:40.433Z"
   },
   {
    "duration": 3,
    "start_time": "2025-05-05T22:39:40.441Z"
   },
   {
    "duration": 15,
    "start_time": "2025-05-05T22:39:40.446Z"
   },
   {
    "duration": 14,
    "start_time": "2025-05-05T22:39:40.464Z"
   },
   {
    "duration": 4,
    "start_time": "2025-05-05T22:39:40.480Z"
   },
   {
    "duration": 257,
    "start_time": "2025-05-05T22:39:40.486Z"
   },
   {
    "duration": 9,
    "start_time": "2025-05-05T22:39:40.744Z"
   },
   {
    "duration": 6,
    "start_time": "2025-05-05T22:39:40.755Z"
   },
   {
    "duration": 8,
    "start_time": "2025-05-05T22:39:40.763Z"
   },
   {
    "duration": 7,
    "start_time": "2025-05-05T22:39:40.773Z"
   },
   {
    "duration": 3,
    "start_time": "2025-05-05T22:39:40.783Z"
   },
   {
    "duration": 408,
    "start_time": "2025-05-05T22:39:40.788Z"
   },
   {
    "duration": 9,
    "start_time": "2025-05-05T22:44:43.224Z"
   },
   {
    "duration": 3,
    "start_time": "2025-05-05T22:50:09.435Z"
   },
   {
    "duration": 6,
    "start_time": "2025-05-05T22:51:03.213Z"
   },
   {
    "duration": 32,
    "start_time": "2025-05-05T22:51:09.008Z"
   },
   {
    "duration": 4,
    "start_time": "2025-05-05T22:51:21.478Z"
   },
   {
    "duration": 21,
    "start_time": "2025-05-05T22:51:29.368Z"
   },
   {
    "duration": 5,
    "start_time": "2025-05-05T22:51:43.450Z"
   },
   {
    "duration": 4,
    "start_time": "2025-05-05T22:51:47.339Z"
   },
   {
    "duration": 562,
    "start_time": "2025-05-05T22:51:51.260Z"
   },
   {
    "duration": 4,
    "start_time": "2025-05-05T22:52:36.702Z"
   },
   {
    "duration": 7,
    "start_time": "2025-05-05T22:52:46.725Z"
   },
   {
    "duration": 235,
    "start_time": "2025-05-05T22:52:49.648Z"
   },
   {
    "duration": 21,
    "start_time": "2025-05-05T22:53:29.541Z"
   },
   {
    "duration": 941,
    "start_time": "2025-05-05T23:03:42.565Z"
   },
   {
    "duration": 535,
    "start_time": "2025-05-05T23:03:43.509Z"
   },
   {
    "duration": 93,
    "start_time": "2025-05-05T23:03:44.045Z"
   },
   {
    "duration": 4,
    "start_time": "2025-05-05T23:03:44.140Z"
   },
   {
    "duration": 8,
    "start_time": "2025-05-05T23:03:44.147Z"
   },
   {
    "duration": 3,
    "start_time": "2025-05-05T23:03:44.157Z"
   },
   {
    "duration": 6,
    "start_time": "2025-05-05T23:03:44.162Z"
   },
   {
    "duration": 3,
    "start_time": "2025-05-05T23:03:44.170Z"
   },
   {
    "duration": 16,
    "start_time": "2025-05-05T23:03:44.175Z"
   },
   {
    "duration": 12,
    "start_time": "2025-05-05T23:03:44.224Z"
   },
   {
    "duration": 5,
    "start_time": "2025-05-05T23:03:44.238Z"
   },
   {
    "duration": 240,
    "start_time": "2025-05-05T23:03:44.244Z"
   },
   {
    "duration": 10,
    "start_time": "2025-05-05T23:03:44.485Z"
   },
   {
    "duration": 7,
    "start_time": "2025-05-05T23:03:44.499Z"
   },
   {
    "duration": 23,
    "start_time": "2025-05-05T23:03:44.507Z"
   },
   {
    "duration": 8,
    "start_time": "2025-05-05T23:03:44.532Z"
   },
   {
    "duration": 0,
    "start_time": "2025-05-05T23:06:46.882Z"
   },
   {
    "duration": 20,
    "start_time": "2025-05-05T23:08:48.877Z"
   },
   {
    "duration": 18,
    "start_time": "2025-05-05T23:08:53.181Z"
   },
   {
    "duration": 7,
    "start_time": "2025-05-05T23:09:43.763Z"
   },
   {
    "duration": 20,
    "start_time": "2025-05-05T23:09:46.169Z"
   },
   {
    "duration": 4,
    "start_time": "2025-05-05T23:10:07.724Z"
   },
   {
    "duration": 970,
    "start_time": "2025-05-05T23:13:37.117Z"
   },
   {
    "duration": 595,
    "start_time": "2025-05-05T23:13:38.090Z"
   },
   {
    "duration": 95,
    "start_time": "2025-05-05T23:13:38.687Z"
   },
   {
    "duration": 3,
    "start_time": "2025-05-05T23:13:38.784Z"
   },
   {
    "duration": 6,
    "start_time": "2025-05-05T23:13:38.789Z"
   },
   {
    "duration": 3,
    "start_time": "2025-05-05T23:13:38.797Z"
   },
   {
    "duration": 25,
    "start_time": "2025-05-05T23:13:38.801Z"
   },
   {
    "duration": 4,
    "start_time": "2025-05-05T23:13:38.827Z"
   },
   {
    "duration": 16,
    "start_time": "2025-05-05T23:13:38.832Z"
   },
   {
    "duration": 12,
    "start_time": "2025-05-05T23:13:38.852Z"
   },
   {
    "duration": 3,
    "start_time": "2025-05-05T23:13:38.866Z"
   },
   {
    "duration": 239,
    "start_time": "2025-05-05T23:13:38.871Z"
   },
   {
    "duration": 17,
    "start_time": "2025-05-05T23:13:39.112Z"
   },
   {
    "duration": 9,
    "start_time": "2025-05-05T23:13:39.130Z"
   },
   {
    "duration": 11,
    "start_time": "2025-05-05T23:13:39.141Z"
   },
   {
    "duration": 7,
    "start_time": "2025-05-05T23:13:39.154Z"
   },
   {
    "duration": 421219,
    "start_time": "2025-05-05T23:13:39.163Z"
   },
   {
    "duration": 8,
    "start_time": "2025-05-05T23:38:56.949Z"
   },
   {
    "duration": 167,
    "start_time": "2025-05-05T23:40:29.681Z"
   },
   {
    "duration": 26,
    "start_time": "2025-05-05T23:41:44.632Z"
   },
   {
    "duration": 13,
    "start_time": "2025-05-05T23:42:43.186Z"
   },
   {
    "duration": 18,
    "start_time": "2025-05-05T23:43:55.753Z"
   },
   {
    "duration": 15,
    "start_time": "2025-05-05T23:45:37.770Z"
   },
   {
    "duration": 1088,
    "start_time": "2025-05-05T23:45:43.360Z"
   },
   {
    "duration": 90,
    "start_time": "2025-05-05T23:45:50.637Z"
   },
   {
    "duration": 5,
    "start_time": "2025-05-05T23:45:56.957Z"
   },
   {
    "duration": 572,
    "start_time": "2025-05-05T23:45:57.232Z"
   },
   {
    "duration": 46,
    "start_time": "2025-05-05T23:45:57.806Z"
   },
   {
    "duration": 3,
    "start_time": "2025-05-05T23:45:57.855Z"
   },
   {
    "duration": 3,
    "start_time": "2025-05-05T23:46:00.944Z"
   },
   {
    "duration": 8,
    "start_time": "2025-05-05T23:46:03.671Z"
   },
   {
    "duration": 3,
    "start_time": "2025-05-05T23:46:05.929Z"
   },
   {
    "duration": 5,
    "start_time": "2025-05-05T23:46:08.796Z"
   },
   {
    "duration": 3,
    "start_time": "2025-05-05T23:46:11.118Z"
   },
   {
    "duration": 17,
    "start_time": "2025-05-05T23:46:12.805Z"
   },
   {
    "duration": 254,
    "start_time": "2025-05-05T23:46:16.821Z"
   },
   {
    "duration": 213,
    "start_time": "2025-05-05T23:46:54.624Z"
   },
   {
    "duration": 17,
    "start_time": "2025-05-05T23:47:32.921Z"
   },
   {
    "duration": 17,
    "start_time": "2025-05-05T23:47:46.384Z"
   },
   {
    "duration": 489,
    "start_time": "2025-05-05T23:50:09.895Z"
   },
   {
    "duration": 28,
    "start_time": "2025-05-05T23:50:52.628Z"
   },
   {
    "duration": 51,
    "start_time": "2025-05-05T23:51:30.837Z"
   },
   {
    "duration": 12,
    "start_time": "2025-05-05T23:52:48.363Z"
   },
   {
    "duration": 13,
    "start_time": "2025-05-05T23:58:05.614Z"
   },
   {
    "duration": 898,
    "start_time": "2025-05-06T12:44:46.099Z"
   },
   {
    "duration": 605,
    "start_time": "2025-05-06T12:44:47.000Z"
   },
   {
    "duration": 91,
    "start_time": "2025-05-06T12:44:47.606Z"
   },
   {
    "duration": 4,
    "start_time": "2025-05-06T12:44:47.698Z"
   },
   {
    "duration": 7,
    "start_time": "2025-05-06T12:44:47.704Z"
   },
   {
    "duration": 4,
    "start_time": "2025-05-06T12:44:47.712Z"
   },
   {
    "duration": 30,
    "start_time": "2025-05-06T12:44:47.718Z"
   },
   {
    "duration": 3,
    "start_time": "2025-05-06T12:44:47.749Z"
   },
   {
    "duration": 16,
    "start_time": "2025-05-06T12:44:47.754Z"
   },
   {
    "duration": 11,
    "start_time": "2025-05-06T12:44:47.771Z"
   },
   {
    "duration": 3,
    "start_time": "2025-05-06T12:44:47.784Z"
   },
   {
    "duration": 238,
    "start_time": "2025-05-06T12:44:47.789Z"
   },
   {
    "duration": 14,
    "start_time": "2025-05-06T12:44:48.029Z"
   },
   {
    "duration": 7,
    "start_time": "2025-05-06T12:44:48.046Z"
   },
   {
    "duration": 9,
    "start_time": "2025-05-06T12:44:48.054Z"
   },
   {
    "duration": 7,
    "start_time": "2025-05-06T12:44:48.064Z"
   },
   {
    "duration": 430357,
    "start_time": "2025-05-06T12:44:48.073Z"
   },
   {
    "duration": 416,
    "start_time": "2025-05-06T12:51:58.432Z"
   },
   {
    "duration": 541,
    "start_time": "2025-05-06T12:51:58.855Z"
   },
   {
    "duration": 52,
    "start_time": "2025-05-06T12:51:59.398Z"
   },
   {
    "duration": 166,
    "start_time": "2025-05-06T21:10:01.510Z"
   },
   {
    "duration": 2677,
    "start_time": "2025-05-06T21:10:12.138Z"
   },
   {
    "duration": 88,
    "start_time": "2025-05-06T21:10:17.822Z"
   },
   {
    "duration": 4,
    "start_time": "2025-05-06T21:10:26.549Z"
   },
   {
    "duration": 601,
    "start_time": "2025-05-06T21:10:26.843Z"
   },
   {
    "duration": 34,
    "start_time": "2025-05-06T21:10:27.446Z"
   },
   {
    "duration": 4,
    "start_time": "2025-05-06T21:10:29.976Z"
   },
   {
    "duration": 7,
    "start_time": "2025-05-06T21:10:33.128Z"
   },
   {
    "duration": 3,
    "start_time": "2025-05-06T21:10:35.522Z"
   },
   {
    "duration": 5,
    "start_time": "2025-05-06T21:10:38.427Z"
   },
   {
    "duration": 4,
    "start_time": "2025-05-06T21:10:40.681Z"
   },
   {
    "duration": 15,
    "start_time": "2025-05-06T21:10:42.969Z"
   },
   {
    "duration": 17,
    "start_time": "2025-05-06T21:10:45.691Z"
   },
   {
    "duration": 2407,
    "start_time": "2025-05-06T21:10:47.659Z"
   },
   {
    "duration": 9,
    "start_time": "2025-05-06T21:12:47.975Z"
   },
   {
    "duration": 720,
    "start_time": "2025-05-06T21:13:01.076Z"
   },
   {
    "duration": 11,
    "start_time": "2025-05-06T21:17:07.500Z"
   },
   {
    "duration": 21,
    "start_time": "2025-05-06T21:20:04.085Z"
   },
   {
    "duration": 12,
    "start_time": "2025-05-06T21:20:08.160Z"
   },
   {
    "duration": 18,
    "start_time": "2025-05-06T21:20:10.467Z"
   },
   {
    "duration": 22,
    "start_time": "2025-05-06T21:20:37.943Z"
   },
   {
    "duration": 409,
    "start_time": "2025-05-06T21:21:00.561Z"
   },
   {
    "duration": 900,
    "start_time": "2025-05-06T21:21:24.255Z"
   },
   {
    "duration": 524,
    "start_time": "2025-05-06T21:21:25.157Z"
   },
   {
    "duration": 88,
    "start_time": "2025-05-06T21:21:25.683Z"
   },
   {
    "duration": 4,
    "start_time": "2025-05-06T21:21:25.773Z"
   },
   {
    "duration": 7,
    "start_time": "2025-05-06T21:21:25.780Z"
   },
   {
    "duration": 3,
    "start_time": "2025-05-06T21:21:25.789Z"
   },
   {
    "duration": 6,
    "start_time": "2025-05-06T21:21:25.794Z"
   },
   {
    "duration": 4,
    "start_time": "2025-05-06T21:21:25.801Z"
   },
   {
    "duration": 15,
    "start_time": "2025-05-06T21:21:25.807Z"
   },
   {
    "duration": 50,
    "start_time": "2025-05-06T21:21:25.824Z"
   },
   {
    "duration": 2390,
    "start_time": "2025-05-06T21:21:25.875Z"
   },
   {
    "duration": 4,
    "start_time": "2025-05-06T21:21:28.270Z"
   },
   {
    "duration": 209,
    "start_time": "2025-05-06T21:21:28.276Z"
   },
   {
    "duration": 9,
    "start_time": "2025-05-06T21:21:28.489Z"
   },
   {
    "duration": 7,
    "start_time": "2025-05-06T21:21:28.501Z"
   },
   {
    "duration": 9,
    "start_time": "2025-05-06T21:21:28.509Z"
   },
   {
    "duration": 7,
    "start_time": "2025-05-06T21:21:28.520Z"
   },
   {
    "duration": 41,
    "start_time": "2025-05-06T21:21:28.529Z"
   },
   {
    "duration": 799,
    "start_time": "2025-05-06T21:21:28.572Z"
   },
   {
    "duration": 10,
    "start_time": "2025-05-06T21:21:29.373Z"
   },
   {
    "duration": 617,
    "start_time": "2025-05-06T21:21:29.385Z"
   },
   {
    "duration": 0,
    "start_time": "2025-05-06T21:21:30.004Z"
   },
   {
    "duration": 1,
    "start_time": "2025-05-06T21:21:30.005Z"
   },
   {
    "duration": 0,
    "start_time": "2025-05-06T21:21:30.007Z"
   },
   {
    "duration": 0,
    "start_time": "2025-05-06T21:21:30.008Z"
   },
   {
    "duration": 183,
    "start_time": "2025-05-06T21:27:39.274Z"
   },
   {
    "duration": 16,
    "start_time": "2025-05-06T21:29:15.027Z"
   },
   {
    "duration": 19,
    "start_time": "2025-05-06T21:29:20.491Z"
   },
   {
    "duration": 1083,
    "start_time": "2025-05-06T21:29:30.081Z"
   },
   {
    "duration": 593,
    "start_time": "2025-05-06T21:29:31.166Z"
   },
   {
    "duration": 92,
    "start_time": "2025-05-06T21:29:31.761Z"
   },
   {
    "duration": 15,
    "start_time": "2025-05-06T21:29:31.855Z"
   },
   {
    "duration": 8,
    "start_time": "2025-05-06T21:29:31.873Z"
   },
   {
    "duration": 5,
    "start_time": "2025-05-06T21:29:31.882Z"
   },
   {
    "duration": 7,
    "start_time": "2025-05-06T21:29:31.889Z"
   },
   {
    "duration": 6,
    "start_time": "2025-05-06T21:29:31.898Z"
   },
   {
    "duration": 15,
    "start_time": "2025-05-06T21:29:31.905Z"
   },
   {
    "duration": 12,
    "start_time": "2025-05-06T21:29:31.922Z"
   },
   {
    "duration": 2489,
    "start_time": "2025-05-06T21:29:31.936Z"
   },
   {
    "duration": 4,
    "start_time": "2025-05-06T21:29:34.427Z"
   },
   {
    "duration": 240,
    "start_time": "2025-05-06T21:29:34.433Z"
   },
   {
    "duration": 11,
    "start_time": "2025-05-06T21:29:34.678Z"
   },
   {
    "duration": 11,
    "start_time": "2025-05-06T21:29:34.690Z"
   },
   {
    "duration": 10,
    "start_time": "2025-05-06T21:29:34.703Z"
   },
   {
    "duration": 9,
    "start_time": "2025-05-06T21:29:34.715Z"
   },
   {
    "duration": 44,
    "start_time": "2025-05-06T21:29:34.726Z"
   },
   {
    "duration": 823,
    "start_time": "2025-05-06T21:29:34.772Z"
   },
   {
    "duration": 13,
    "start_time": "2025-05-06T21:29:35.598Z"
   },
   {
    "duration": 28,
    "start_time": "2025-05-06T21:29:35.613Z"
   },
   {
    "duration": 945,
    "start_time": "2025-05-06T21:30:16.374Z"
   },
   {
    "duration": 532,
    "start_time": "2025-05-06T21:30:17.322Z"
   },
   {
    "duration": 102,
    "start_time": "2025-05-06T21:30:17.855Z"
   },
   {
    "duration": 3,
    "start_time": "2025-05-06T21:30:17.959Z"
   },
   {
    "duration": 16,
    "start_time": "2025-05-06T21:30:17.964Z"
   },
   {
    "duration": 5,
    "start_time": "2025-05-06T21:30:17.981Z"
   },
   {
    "duration": 8,
    "start_time": "2025-05-06T21:30:17.987Z"
   },
   {
    "duration": 3,
    "start_time": "2025-05-06T21:30:17.997Z"
   },
   {
    "duration": 15,
    "start_time": "2025-05-06T21:30:18.002Z"
   },
   {
    "duration": 11,
    "start_time": "2025-05-06T21:30:18.019Z"
   },
   {
    "duration": 2439,
    "start_time": "2025-05-06T21:30:18.032Z"
   },
   {
    "duration": 5,
    "start_time": "2025-05-06T21:30:20.473Z"
   },
   {
    "duration": 268,
    "start_time": "2025-05-06T21:30:20.479Z"
   },
   {
    "duration": 11,
    "start_time": "2025-05-06T21:30:20.752Z"
   },
   {
    "duration": 9,
    "start_time": "2025-05-06T21:30:20.771Z"
   },
   {
    "duration": 10,
    "start_time": "2025-05-06T21:30:20.782Z"
   },
   {
    "duration": 8,
    "start_time": "2025-05-06T21:30:20.794Z"
   },
   {
    "duration": 9,
    "start_time": "2025-05-06T21:30:20.804Z"
   },
   {
    "duration": 876,
    "start_time": "2025-05-06T21:30:20.815Z"
   },
   {
    "duration": 12,
    "start_time": "2025-05-06T21:30:21.693Z"
   },
   {
    "duration": 28,
    "start_time": "2025-05-06T21:30:21.707Z"
   },
   {
    "duration": 1363,
    "start_time": "2025-05-06T21:30:21.738Z"
   },
   {
    "duration": 889,
    "start_time": "2025-05-06T21:31:32.560Z"
   },
   {
    "duration": 533,
    "start_time": "2025-05-06T21:31:33.451Z"
   },
   {
    "duration": 110,
    "start_time": "2025-05-06T21:31:33.986Z"
   },
   {
    "duration": 5,
    "start_time": "2025-05-06T21:31:34.099Z"
   },
   {
    "duration": 8,
    "start_time": "2025-05-06T21:31:34.106Z"
   },
   {
    "duration": 3,
    "start_time": "2025-05-06T21:31:34.116Z"
   },
   {
    "duration": 7,
    "start_time": "2025-05-06T21:31:34.121Z"
   },
   {
    "duration": 3,
    "start_time": "2025-05-06T21:31:34.132Z"
   },
   {
    "duration": 51,
    "start_time": "2025-05-06T21:31:34.136Z"
   },
   {
    "duration": 11,
    "start_time": "2025-05-06T21:31:34.191Z"
   },
   {
    "duration": 2392,
    "start_time": "2025-05-06T21:31:34.204Z"
   },
   {
    "duration": 3,
    "start_time": "2025-05-06T21:31:36.598Z"
   },
   {
    "duration": 235,
    "start_time": "2025-05-06T21:31:36.604Z"
   },
   {
    "duration": 9,
    "start_time": "2025-05-06T21:31:36.841Z"
   },
   {
    "duration": 20,
    "start_time": "2025-05-06T21:31:36.852Z"
   },
   {
    "duration": 9,
    "start_time": "2025-05-06T21:31:36.874Z"
   },
   {
    "duration": 10,
    "start_time": "2025-05-06T21:31:36.884Z"
   },
   {
    "duration": 16,
    "start_time": "2025-05-06T21:31:36.895Z"
   },
   {
    "duration": 868,
    "start_time": "2025-05-06T21:31:36.913Z"
   },
   {
    "duration": 11,
    "start_time": "2025-05-06T21:31:37.783Z"
   },
   {
    "duration": 24,
    "start_time": "2025-05-06T21:31:37.796Z"
   },
   {
    "duration": 1481,
    "start_time": "2025-05-06T21:31:37.822Z"
   },
   {
    "duration": 2605398,
    "start_time": "2025-05-06T21:31:39.305Z"
   },
   {
    "duration": 580,
    "start_time": "2025-05-06T22:15:04.705Z"
   },
   {
    "duration": 0,
    "start_time": "2025-05-06T22:15:05.287Z"
   },
   {
    "duration": 0,
    "start_time": "2025-05-06T22:15:05.290Z"
   },
   {
    "duration": 0,
    "start_time": "2025-05-06T22:15:05.291Z"
   },
   {
    "duration": 0,
    "start_time": "2025-05-06T22:15:05.292Z"
   },
   {
    "duration": 0,
    "start_time": "2025-05-06T22:15:05.293Z"
   },
   {
    "duration": 90665,
    "start_time": "2025-05-06T22:27:20.292Z"
   }
  ],
  "kernelspec": {
   "display_name": "base",
   "language": "python",
   "name": "python3"
  },
  "language_info": {
   "codemirror_mode": {
    "name": "ipython",
    "version": 3
   },
   "file_extension": ".py",
   "mimetype": "text/x-python",
   "name": "python",
   "nbconvert_exporter": "python",
   "pygments_lexer": "ipython3",
   "version": "3.12.7"
  },
  "toc": {
   "base_numbering": 1,
   "nav_menu": {},
   "number_sections": true,
   "sideBar": true,
   "skip_h1_title": true,
   "title_cell": "Table of Contents",
   "title_sidebar": "Contents",
   "toc_cell": false,
   "toc_position": {},
   "toc_section_display": true,
   "toc_window_display": false
  }
 },
 "nbformat": 4,
 "nbformat_minor": 2
}
