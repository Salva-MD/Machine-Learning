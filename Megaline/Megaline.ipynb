{
 "cells": [
  {
   "cell_type": "markdown",
   "metadata": {},
   "source": [
    "# Megaline"
   ]
  },
  {
   "cell_type": "code",
   "execution_count": 4,
   "metadata": {
    "trusted": true
   },
   "outputs": [],
   "source": [
    "import pandas as pd\n",
    "from sklearn.model_selection import train_test_split\n",
    "from sklearn.ensemble import RandomForestClassifier\n",
    "from sklearn.model_selection import GridSearchCV\n",
    "from sklearn.metrics import accuracy_score\n",
    "from sklearn.tree import DecisionTreeClassifier"
   ]
  },
  {
   "cell_type": "code",
   "execution_count": 5,
   "metadata": {
    "trusted": true
   },
   "outputs": [],
   "source": [
    "df_user=pd.read_csv('users_behavior.csv')"
   ]
  },
  {
   "cell_type": "code",
   "execution_count": 6,
   "metadata": {
    "trusted": true
   },
   "outputs": [
    {
     "name": "stdout",
     "output_type": "stream",
     "text": [
      "<class 'pandas.core.frame.DataFrame'>\n",
      "RangeIndex: 3214 entries, 0 to 3213\n",
      "Data columns (total 5 columns):\n",
      " #   Column    Non-Null Count  Dtype  \n",
      "---  ------    --------------  -----  \n",
      " 0   calls     3214 non-null   float64\n",
      " 1   minutes   3214 non-null   float64\n",
      " 2   messages  3214 non-null   float64\n",
      " 3   mb_used   3214 non-null   float64\n",
      " 4   is_ultra  3214 non-null   int64  \n",
      "dtypes: float64(4), int64(1)\n",
      "memory usage: 125.7 KB\n",
      "None\n",
      "\n",
      "(3214, 5)\n",
      "\n",
      "   calls  minutes  messages   mb_used  is_ultra\n",
      "0   40.0   311.90      83.0  19915.42         0\n",
      "1   85.0   516.75      56.0  22696.96         0\n",
      "2   77.0   467.66      86.0  21060.45         0\n",
      "3  106.0   745.53      81.0   8437.39         1\n",
      "4   66.0   418.74       1.0  14502.75         0\n"
     ]
    }
   ],
   "source": [
    "print(df_user.info())\n",
    "print()\n",
    "print(df_user.shape)\n",
    "print()\n",
    "print(df_user.head(5))"
   ]
  },
  {
   "cell_type": "markdown",
   "metadata": {},
   "source": [
    "# Segmentacion de los datos"
   ]
  },
  {
   "cell_type": "code",
   "execution_count": 7,
   "metadata": {
    "trusted": true
   },
   "outputs": [],
   "source": [
    "X=df_user.drop('is_ultra',axis=1)\n",
    "y=df_user['is_ultra']"
   ]
  },
  {
   "cell_type": "code",
   "execution_count": 8,
   "metadata": {
    "trusted": true
   },
   "outputs": [],
   "source": [
    "X_train, X_test, y_train, y_test = train_test_split(X, y, test_size=0.2, random_state=42)\n",
    "X_train, X_val, y_train, y_val = train_test_split(X_train, y_train, test_size=0.2, random_state=42)"
   ]
  },
  {
   "cell_type": "markdown",
   "metadata": {},
   "source": [
    "Segmenté los datos en tres conjuntos: entrenamiento, validación y prueba. Para hacerlo, utilicé la función train_test_split de scikit-learn en dos pasos. Primero, dividí los datos en entrenamiento y prueba (80% y 20% respectivamente), y luego tomé una parte del conjunto de entrenamiento para usarlo como conjunto de validación (25% del entrenamiento)."
   ]
  },
  {
   "cell_type": "code",
   "execution_count": 9,
   "metadata": {
    "trusted": true
   },
   "outputs": [
    {
     "name": "stdout",
     "output_type": "stream",
     "text": [
      "Tamaño del conjunto de entrenamiento: 2056\n",
      "Tamaño del conjunto de validación: 515\n",
      "Tamaño del conjunto de prueba: 643\n"
     ]
    }
   ],
   "source": [
    "print(f'Tamaño del conjunto de entrenamiento: {X_train.shape[0]}')\n",
    "print(f'Tamaño del conjunto de validación: {X_val.shape[0]}')\n",
    "print(f'Tamaño del conjunto de prueba: {X_test.shape[0]}')"
   ]
  },
  {
   "cell_type": "markdown",
   "metadata": {},
   "source": [
    "# RandomForestClassifier"
   ]
  },
  {
   "cell_type": "code",
   "execution_count": null,
   "metadata": {
    "scrolled": true,
    "trusted": true
   },
   "outputs": [],
   "source": [
    "param_grid_rf = {\n",
    "    'n_estimators': [100, 200, 300],\n",
    "    'max_depth': [10, 20, None],\n",
    "    'min_samples_split': [2, 5, 10]\n",
    "}\n",
    "rf = RandomForestClassifier(random_state=42)\n",
    "grid_search_rf = GridSearchCV(estimator=rf, param_grid=param_grid_rf, cv=5, scoring='accuracy')\n",
    "grid_search_rf.fit(X_train, y_train)\n",
    "best_rf = grid_search_rf.best_estimator_\n",
    "y_val_pred_rf = best_rf.predict(X_val)\n",
    "accuracy_rf = accuracy_score(y_val, y_val_pred_rf)\n",
    "print(f'Exactitud del modelo Random Forest en validación: {accuracy_rf:.2f}')"
   ]
  },
  {
   "cell_type": "code",
   "execution_count": null,
   "metadata": {
    "trusted": true
   },
   "outputs": [
    {
     "name": "stdout",
     "output_type": "stream",
     "text": [
      "Exactitud del modelo Random Forest en el conjunto de prueba: 0.82\n"
     ]
    }
   ],
   "source": [
    "y_test_pred_rf = best_rf.predict(X_test)\n",
    "\n",
    "accuracy_rf_test = accuracy_score(y_test, y_test_pred_rf)\n",
    "\n",
    "print(f'Exactitud del modelo Random Forest en el conjunto de prueba: {accuracy_rf_test:.2f}')"
   ]
  },
  {
   "cell_type": "markdown",
   "metadata": {},
   "source": [
    "# DecisionTreeClassifier"
   ]
  },
  {
   "cell_type": "code",
   "execution_count": null,
   "metadata": {
    "trusted": true
   },
   "outputs": [],
   "source": [
    "dt = DecisionTreeClassifier(random_state=42)\n",
    "\n",
    "param_grid_dt = {\n",
    "    'max_depth': [5, 10, 20, None],\n",
    "    'min_samples_split': [2, 5, 10],\n",
    "    'min_samples_leaf': [1, 2, 4]\n",
    "}\n",
    "\n",
    "grid_search_dt = GridSearchCV(estimator=dt, param_grid=param_grid_dt, cv=5, scoring='accuracy')\n",
    "grid_search_dt.fit(X_train, y_train)\n",
    "\n",
    "best_dt = grid_search_dt.best_estimator_"
   ]
  },
  {
   "cell_type": "code",
   "execution_count": null,
   "metadata": {
    "trusted": true
   },
   "outputs": [
    {
     "name": "stdout",
     "output_type": "stream",
     "text": [
      "Exactitud del modelo DecisionTree en validación: 0.77\n"
     ]
    }
   ],
   "source": [
    "y_val_pred_dt = best_dt.predict(X_val)\n",
    "\n",
    "accuracy_dt = accuracy_score(y_val, y_val_pred_dt)\n",
    "print(f'Exactitud del modelo DecisionTree en validación: {accuracy_dt:.2f}')"
   ]
  },
  {
   "cell_type": "code",
   "execution_count": null,
   "metadata": {
    "trusted": true
   },
   "outputs": [
    {
     "name": "stdout",
     "output_type": "stream",
     "text": [
      "Exactitud en el conjunto de prueba: 0.79\n"
     ]
    }
   ],
   "source": [
    "y_test_pred_dt = best_dt.predict(X_test)\n",
    "\n",
    "accuracy_test_dt = accuracy_score(y_test, y_test_pred_dt)\n",
    "print(f'Exactitud en el conjunto de prueba: {accuracy_test_dt:.2f}')"
   ]
  },
  {
   "cell_type": "markdown",
   "metadata": {},
   "source": [
    "# Conclusiones"
   ]
  },
  {
   "cell_type": "markdown",
   "metadata": {},
   "source": [
    "Árbol de Decisión (DecisionTreeClassifier): Este modelo fue optimizado utilizando GridSearchCV para encontrar la mejor configuración del árbol, ajustando hiperparámetros como max_depth, min_samples_split y min_samples_leaf.\n",
    "\n",
    "Random Forest (RandomForestClassifier): Este modelo también fue optimizado utilizando GridSearchCV para ajustar hiperparámetros como el número de árboles (n_estimators), la profundidad máxima del árbol (max_depth), y el número mínimo de muestras para dividir un nodo (min_samples_split)."
   ]
  },
  {
   "cell_type": "markdown",
   "metadata": {},
   "source": [
    "Árbol de Decisión: Obtuvo una exactitud de 0.77 en el conjunto de validación y 0.79 en el conjunto de prueba. Aunque el modelo es eficiente, el recall (0.54) podría mejorar, ya que la clase de los usuarios Ultra (plan Ultra) es minoritaria.\n",
    "\n",
    "Random Forest: Este modelo tuvo una exactitud de 0.81 en el conjunto de validación y 0.82 en el conjunto de prueba. Superando al árbol de decisión. Random Forest tiene la ventaja de ser un modelo de ensamblaje, lo que reduce el sobreajuste y mejora la precisión y la capacidad de generalización."
   ]
  },
  {
   "cell_type": "markdown",
   "metadata": {},
   "source": [
    "Probé ambos modelos (Árbol de Decisión y Random Forest) en los conjuntos de validación y prueba. "
   ]
  },
  {
   "cell_type": "markdown",
   "metadata": {},
   "source": [
    "El proyecto está bien estructurado y se ceñió a las mejores prácticas de machine learning. Después de probar tanto el Árbol de Decisión como el Random Forest, encontré que el Random Forest es el modelo con el mejor rendimiento, alcanzando una exactitud de 0.82 en el conjunto de prueba. Aunque ambos modelos dieron buenos resultados, el Random Forest tiene la ventaja de ser más robusto y menos propenso a sobreajustarse.\n",
    "\n",
    "Este enfoque me permitió explorar diferentes métodos y ajustar los hiperparámetros de manera efectiva, lo que resultó en un modelo que generaliza bien y tiene una alta precisión."
   ]
  }
 ],
 "metadata": {
  "ExecuteTimeLog": [
   {
    "duration": 2479,
    "start_time": "2025-04-07T14:06:17.569Z"
   },
   {
    "duration": 15,
    "start_time": "2025-04-07T14:07:04.333Z"
   },
   {
    "duration": 7,
    "start_time": "2025-04-07T14:08:41.126Z"
   },
   {
    "duration": 11,
    "start_time": "2025-04-07T14:11:00.764Z"
   },
   {
    "duration": 10,
    "start_time": "2025-04-07T14:11:11.670Z"
   },
   {
    "duration": 3,
    "start_time": "2025-04-07T14:14:59.327Z"
   },
   {
    "duration": 136,
    "start_time": "2025-04-07T14:15:29.110Z"
   },
   {
    "duration": 9,
    "start_time": "2025-04-07T14:15:30.226Z"
   },
   {
    "duration": 10,
    "start_time": "2025-04-07T14:15:30.477Z"
   },
   {
    "duration": 4,
    "start_time": "2025-04-07T14:15:31.113Z"
   },
   {
    "duration": 269,
    "start_time": "2025-04-07T14:15:55.338Z"
   },
   {
    "duration": 3,
    "start_time": "2025-04-07T14:16:07.209Z"
   },
   {
    "duration": 5,
    "start_time": "2025-04-07T14:16:07.595Z"
   },
   {
    "duration": 3,
    "start_time": "2025-04-07T14:16:18.465Z"
   },
   {
    "duration": 35,
    "start_time": "2025-04-07T14:17:04.078Z"
   },
   {
    "duration": 3,
    "start_time": "2025-04-07T14:17:27.567Z"
   },
   {
    "duration": 730,
    "start_time": "2025-04-07T14:18:07.301Z"
   },
   {
    "duration": 8,
    "start_time": "2025-04-07T14:18:08.033Z"
   },
   {
    "duration": 12,
    "start_time": "2025-04-07T14:18:08.042Z"
   },
   {
    "duration": 3,
    "start_time": "2025-04-07T14:18:08.056Z"
   },
   {
    "duration": 247,
    "start_time": "2025-04-07T14:18:08.061Z"
   },
   {
    "duration": 0,
    "start_time": "2025-04-07T14:18:08.311Z"
   },
   {
    "duration": 0,
    "start_time": "2025-04-07T14:18:08.312Z"
   },
   {
    "duration": 0,
    "start_time": "2025-04-07T14:18:08.314Z"
   },
   {
    "duration": 3,
    "start_time": "2025-04-07T14:18:17.744Z"
   },
   {
    "duration": 6,
    "start_time": "2025-04-07T14:18:18.496Z"
   },
   {
    "duration": 3,
    "start_time": "2025-04-07T14:18:19.319Z"
   },
   {
    "duration": 2,
    "start_time": "2025-04-07T14:18:20.059Z"
   },
   {
    "duration": 66059,
    "start_time": "2025-04-07T14:19:26.876Z"
   },
   {
    "duration": 822,
    "start_time": "2025-04-07T14:22:34.581Z"
   },
   {
    "duration": 9,
    "start_time": "2025-04-07T14:22:35.405Z"
   },
   {
    "duration": 19,
    "start_time": "2025-04-07T14:22:35.416Z"
   },
   {
    "duration": 3,
    "start_time": "2025-04-07T14:22:35.438Z"
   },
   {
    "duration": 7,
    "start_time": "2025-04-07T14:22:35.443Z"
   },
   {
    "duration": 4,
    "start_time": "2025-04-07T14:22:35.451Z"
   },
   {
    "duration": 65649,
    "start_time": "2025-04-07T14:22:35.457Z"
   },
   {
    "duration": 3,
    "start_time": "2025-04-07T14:28:38.909Z"
   },
   {
    "duration": 17,
    "start_time": "2025-04-07T14:28:48.040Z"
   },
   {
    "duration": 286,
    "start_time": "2025-04-07T14:33:46.177Z"
   },
   {
    "duration": 16,
    "start_time": "2025-04-07T14:33:50.956Z"
   },
   {
    "duration": 2,
    "start_time": "2025-04-07T14:33:55.428Z"
   },
   {
    "duration": 9,
    "start_time": "2025-04-07T14:33:55.727Z"
   },
   {
    "duration": 11,
    "start_time": "2025-04-07T14:33:55.971Z"
   },
   {
    "duration": 4,
    "start_time": "2025-04-07T14:33:56.248Z"
   },
   {
    "duration": 6,
    "start_time": "2025-04-07T14:33:56.459Z"
   },
   {
    "duration": 4,
    "start_time": "2025-04-07T14:33:56.713Z"
   },
   {
    "duration": 65896,
    "start_time": "2025-04-07T14:33:56.957Z"
   },
   {
    "duration": 1286,
    "start_time": "2025-04-07T14:35:02.856Z"
   },
   {
    "duration": 7,
    "start_time": "2025-04-07T14:35:04.146Z"
   },
   {
    "duration": 8,
    "start_time": "2025-04-07T14:35:04.155Z"
   },
   {
    "duration": 5,
    "start_time": "2025-04-07T14:35:39.894Z"
   },
   {
    "duration": 5,
    "start_time": "2025-04-07T14:36:23.893Z"
   },
   {
    "duration": 13,
    "start_time": "2025-04-07T14:54:31.268Z"
   }
  ],
  "kernelspec": {
   "display_name": "base",
   "language": "python",
   "name": "python3"
  },
  "language_info": {
   "codemirror_mode": {
    "name": "ipython",
    "version": 3
   },
   "file_extension": ".py",
   "mimetype": "text/x-python",
   "name": "python",
   "nbconvert_exporter": "python",
   "pygments_lexer": "ipython3",
   "version": "3.12.7"
  },
  "toc": {
   "base_numbering": 1,
   "nav_menu": {},
   "number_sections": true,
   "sideBar": true,
   "skip_h1_title": true,
   "title_cell": "Table of Contents",
   "title_sidebar": "Contents",
   "toc_cell": false,
   "toc_position": {},
   "toc_section_display": true,
   "toc_window_display": false
  }
 },
 "nbformat": 4,
 "nbformat_minor": 2
}
