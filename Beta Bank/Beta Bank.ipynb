{
 "cells": [
  {
   "cell_type": "markdown",
   "metadata": {},
   "source": [
    "# Proyecto Sprint 10"
   ]
  },
  {
   "cell_type": "code",
   "execution_count": 1,
   "metadata": {
    "trusted": true
   },
   "outputs": [],
   "source": [
    "import pandas as pd\n",
    "from sklearn.model_selection import train_test_split\n",
    "from sklearn.ensemble import RandomForestClassifier\n",
    "from sklearn.model_selection import GridSearchCV\n",
    "from sklearn.metrics import accuracy_score\n",
    "from sklearn.tree import DecisionTreeClassifier\n",
    "from sklearn.preprocessing import StandardScaler\n",
    "from sklearn.impute import SimpleImputer\n",
    "from sklearn.linear_model import LogisticRegression\n",
    "from sklearn.utils import shuffle\n",
    "from sklearn.metrics import f1_score, precision_score, recall_score, roc_auc_score\n",
    "import numpy as np\n",
    "import matplotlib.pyplot as plt\n",
    "import seaborn as sns"
   ]
  },
  {
   "cell_type": "code",
   "execution_count": 2,
   "metadata": {
    "trusted": true
   },
   "outputs": [],
   "source": [
    "df_churn=pd.read_csv('/datasets/Churn.csv')"
   ]
  },
  {
   "cell_type": "code",
   "execution_count": 3,
   "metadata": {
    "trusted": true
   },
   "outputs": [
    {
     "name": "stdout",
     "output_type": "stream",
     "text": [
      "<class 'pandas.core.frame.DataFrame'>\n",
      "RangeIndex: 10000 entries, 0 to 9999\n",
      "Data columns (total 14 columns):\n",
      " #   Column           Non-Null Count  Dtype  \n",
      "---  ------           --------------  -----  \n",
      " 0   RowNumber        10000 non-null  int64  \n",
      " 1   CustomerId       10000 non-null  int64  \n",
      " 2   Surname          10000 non-null  object \n",
      " 3   CreditScore      10000 non-null  int64  \n",
      " 4   Geography        10000 non-null  object \n",
      " 5   Gender           10000 non-null  object \n",
      " 6   Age              10000 non-null  int64  \n",
      " 7   Tenure           9091 non-null   float64\n",
      " 8   Balance          10000 non-null  float64\n",
      " 9   NumOfProducts    10000 non-null  int64  \n",
      " 10  HasCrCard        10000 non-null  int64  \n",
      " 11  IsActiveMember   10000 non-null  int64  \n",
      " 12  EstimatedSalary  10000 non-null  float64\n",
      " 13  Exited           10000 non-null  int64  \n",
      "dtypes: float64(3), int64(8), object(3)\n",
      "memory usage: 1.1+ MB\n",
      "None\n",
      "\n",
      "(10000, 14)\n",
      "\n",
      "    RowNumber  CustomerId    Surname  CreditScore Geography  Gender  Age  \\\n",
      "0           1    15634602   Hargrave          619    France  Female   42   \n",
      "1           2    15647311       Hill          608     Spain  Female   41   \n",
      "2           3    15619304       Onio          502    France  Female   42   \n",
      "3           4    15701354       Boni          699    France  Female   39   \n",
      "4           5    15737888   Mitchell          850     Spain  Female   43   \n",
      "5           6    15574012        Chu          645     Spain    Male   44   \n",
      "6           7    15592531   Bartlett          822    France    Male   50   \n",
      "7           8    15656148     Obinna          376   Germany  Female   29   \n",
      "8           9    15792365         He          501    France    Male   44   \n",
      "9          10    15592389         H?          684    France    Male   27   \n",
      "10         11    15767821     Bearce          528    France    Male   31   \n",
      "11         12    15737173    Andrews          497     Spain    Male   24   \n",
      "12         13    15632264        Kay          476    France  Female   34   \n",
      "13         14    15691483       Chin          549    France  Female   25   \n",
      "14         15    15600882      Scott          635     Spain  Female   35   \n",
      "15         16    15643966    Goforth          616   Germany    Male   45   \n",
      "16         17    15737452      Romeo          653   Germany    Male   58   \n",
      "17         18    15788218  Henderson          549     Spain  Female   24   \n",
      "18         19    15661507    Muldrow          587     Spain    Male   45   \n",
      "19         20    15568982        Hao          726    France  Female   24   \n",
      "\n",
      "    Tenure    Balance  NumOfProducts  HasCrCard  IsActiveMember  \\\n",
      "0      2.0       0.00              1          1               1   \n",
      "1      1.0   83807.86              1          0               1   \n",
      "2      8.0  159660.80              3          1               0   \n",
      "3      1.0       0.00              2          0               0   \n",
      "4      2.0  125510.82              1          1               1   \n",
      "5      8.0  113755.78              2          1               0   \n",
      "6      7.0       0.00              2          1               1   \n",
      "7      4.0  115046.74              4          1               0   \n",
      "8      4.0  142051.07              2          0               1   \n",
      "9      2.0  134603.88              1          1               1   \n",
      "10     6.0  102016.72              2          0               0   \n",
      "11     3.0       0.00              2          1               0   \n",
      "12    10.0       0.00              2          1               0   \n",
      "13     5.0       0.00              2          0               0   \n",
      "14     7.0       0.00              2          1               1   \n",
      "15     3.0  143129.41              2          0               1   \n",
      "16     1.0  132602.88              1          1               0   \n",
      "17     9.0       0.00              2          1               1   \n",
      "18     6.0       0.00              1          0               0   \n",
      "19     6.0       0.00              2          1               1   \n",
      "\n",
      "    EstimatedSalary  Exited  \n",
      "0         101348.88       1  \n",
      "1         112542.58       0  \n",
      "2         113931.57       1  \n",
      "3          93826.63       0  \n",
      "4          79084.10       0  \n",
      "5         149756.71       1  \n",
      "6          10062.80       0  \n",
      "7         119346.88       1  \n",
      "8          74940.50       0  \n",
      "9          71725.73       0  \n",
      "10         80181.12       0  \n",
      "11         76390.01       0  \n",
      "12         26260.98       0  \n",
      "13        190857.79       0  \n",
      "14         65951.65       0  \n",
      "15         64327.26       0  \n",
      "16          5097.67       1  \n",
      "17         14406.41       0  \n",
      "18        158684.81       0  \n",
      "19         54724.03       0  \n"
     ]
    }
   ],
   "source": [
    "print(df_churn.info())\n",
    "print()\n",
    "print(df_churn.shape)\n",
    "print()\n",
    "print(df_churn.head(20))"
   ]
  },
  {
   "cell_type": "markdown",
   "metadata": {},
   "source": [
    "Variables categóricas: Surname, Geography, Gender\n",
    "\n",
    "Variables irrelevantes: RowNumber, CustomerId, Surname (probablemente no aportan valor al modelo)"
   ]
  },
  {
   "cell_type": "code",
   "execution_count": 4,
   "metadata": {
    "trusted": true
   },
   "outputs": [
    {
     "name": "stdout",
     "output_type": "stream",
     "text": [
      "['France' 'Spain' 'Germany']\n",
      "['Female' 'Male']\n"
     ]
    }
   ],
   "source": [
    "print(df_churn['Geography'].unique()) \n",
    "print(df_churn['Gender'].unique())"
   ]
  },
  {
   "cell_type": "code",
   "execution_count": 5,
   "metadata": {
    "trusted": true
   },
   "outputs": [],
   "source": [
    "df_churn['Tenure'].fillna(df_churn['Tenure'].median(), inplace=True)\n",
    "df_churn = df_churn.drop(columns=['RowNumber', 'CustomerId', 'Surname'])\n",
    "df_churn = pd.get_dummies(df_churn, columns=['Geography', 'Gender'], drop_first=True)"
   ]
  },
  {
   "cell_type": "markdown",
   "metadata": {},
   "source": [
    "1. Eliminamos las columnas que no aportan valor para la predicción, como RowNumber, CustomerId y Surname.\n",
    "\n",
    "2. Dado que hay valores faltantes en la columna Tenure, tenemos varias opciones para tratar estos valores:\n",
    "    Vamos a optar por rellenar los valores nulos con la mediana, ya que esto es menos sensible a valores atípicos.\n",
    "3. Se realiza el one-hot encoding en las columnas Geography y Gender, lo que convierte estas columnas en variables binarias"
   ]
  },
  {
   "cell_type": "code",
   "execution_count": 6,
   "metadata": {
    "trusted": true
   },
   "outputs": [],
   "source": [
    "X = df_churn.drop(columns=['Exited'])\n",
    "y = df_churn['Exited']"
   ]
  },
  {
   "cell_type": "markdown",
   "metadata": {},
   "source": [
    "Ahora que hemos preprocesado los datos, dividimos el conjunto de datos en las características (X) y la variable objetivo (Exited)."
   ]
  },
  {
   "cell_type": "code",
   "execution_count": 7,
   "metadata": {
    "trusted": true
   },
   "outputs": [],
   "source": [
    "scaler = StandardScaler()\n",
    "X[['CreditScore', 'Age', 'Tenure', 'Balance', 'NumOfProducts', 'EstimatedSalary']] = scaler.fit_transform(X[['CreditScore', 'Age', 'Tenure', 'Balance', 'NumOfProducts', 'EstimatedSalary']])"
   ]
  },
  {
   "cell_type": "markdown",
   "metadata": {},
   "source": [
    "Algunas características, como CreditScore, Age, y Balance, tienen diferentes escalas. Usamos un escala estándar (StandardScaler) para asegurarnos de que todas las características estén en la misma escala."
   ]
  },
  {
   "cell_type": "code",
   "execution_count": 8,
   "metadata": {
    "trusted": true
   },
   "outputs": [],
   "source": [
    "X_train, X_test, y_train, y_test = train_test_split(X, y, test_size=0.2, random_state=42)"
   ]
  },
  {
   "cell_type": "markdown",
   "metadata": {},
   "source": [
    "Dividimos los datos en un conjunto de entrenamiento (80%) y un conjunto de prueba (20%)."
   ]
  },
  {
   "cell_type": "markdown",
   "metadata": {},
   "source": [
    "# Equilibrio de clases"
   ]
  },
  {
   "cell_type": "code",
   "execution_count": 9,
   "metadata": {
    "trusted": true
   },
   "outputs": [
    {
     "name": "stdout",
     "output_type": "stream",
     "text": [
      "Distribución de clases:\n",
      "0    7963\n",
      "1    2037\n",
      "Name: Exited, dtype: int64\n",
      "\n",
      "Porcentajes:\n",
      "0    79.63\n",
      "1    20.37\n",
      "Name: Exited, dtype: float64\n"
     ]
    },
    {
     "data": {
      "image/png": "[encoded data removed]",
      "text/plain": [
       "<Figure size 640x480 with 1 Axes>"
      ]
     },
     "metadata": {},
     "output_type": "display_data"
    }
   ],
   "source": [
    "class_counts = y.value_counts()\n",
    "percentages = y.value_counts(normalize=True) * 100\n",
    "\n",
    "print(\"Distribución de clases:\")\n",
    "print(class_counts)\n",
    "print(\"\\nPorcentajes:\")\n",
    "print(percentages)\n",
    "\n",
    "sns.countplot(x='Exited', data=df_churn)\n",
    "plt.title('Distribución de Clientes: Exited vs No Exited')\n",
    "plt.xlabel('Exited')\n",
    "plt.ylabel('Número de Clientes')\n",
    "plt.show()"
   ]
  },
  {
   "cell_type": "markdown",
   "metadata": {},
   "source": [
    "Hay un claro desbalance de clases:\n",
    "\n",
    "    Solo 20.37% de los clientes se van (Exited = 1)\n",
    "\n",
    "    El 79.63% se queda (Exited = 0)\n",
    "\n",
    "Esto puede llevar a que un modelo que simplemente predice \"todos se quedan\" tenga una alta precisión pero una F1 score muy baja, especialmente para la clase minoritaria."
   ]
  },
  {
   "cell_type": "code",
   "execution_count": 10,
   "metadata": {
    "scrolled": true,
    "trusted": true
   },
   "outputs": [
    {
     "name": "stdout",
     "output_type": "stream",
     "text": [
      "F1 Score: 0.29532710280373836\n",
      "AUC-ROC: 0.7790138880312121\n"
     ]
    }
   ],
   "source": [
    "model = LogisticRegression(solver='liblinear', random_state=42)\n",
    "model.fit(X_train, y_train)\n",
    "\n",
    "y_pred = model.predict(X_test)\n",
    "\n",
    "f1 = f1_score(y_test, y_pred)\n",
    "auc_roc = roc_auc_score(y_test, model.predict_proba(X_test)[:, 1])\n",
    "\n",
    "print(f'F1 Score: {f1}')\n",
    "print(f'AUC-ROC: {auc_roc}')"
   ]
  },
  {
   "cell_type": "markdown",
   "metadata": {},
   "source": [
    "Este F1 Score es muy bajo, lo que indica que el modelo está teniendo dificultades para predecir correctamente a los clientes que abandonan el banco (la clase minoritaria). El F1 Score bajo refleja una baja precisión y recall en la clase minoritaria, lo que significa que el modelo está fallando al identificar correctamente a los clientes que se van.\n",
    "\n",
    "El AUC-ROC está en 0.667, lo que significa que el modelo tiene algo de capacidad para distinguir entre las clases (clientes que se van vs. clientes que no se van)."
   ]
  },
  {
   "cell_type": "markdown",
   "metadata": {},
   "source": [
    "# Sobremuestreo"
   ]
  },
  {
   "cell_type": "code",
   "execution_count": 11,
   "metadata": {
    "trusted": true
   },
   "outputs": [
    {
     "name": "stdout",
     "output_type": "stream",
     "text": [
      "Resultados con Sobremuestreo y LogisticRegression:\n",
      "F1 Score: 0.4973357015985791\n",
      "AUC-ROC: 0.7820872740285424\n"
     ]
    }
   ],
   "source": [
    "X_minority = X_train[y_train == 1]\n",
    "y_minority = y_train[y_train == 1]\n",
    "X_majority = X_train[y_train == 0]\n",
    "y_majority = y_train[y_train == 0]\n",
    "\n",
    "X_minority_oversampled = X_minority.sample(n=len(X_majority), replace=True, random_state=42)\n",
    "y_minority_oversampled = y_minority.sample(n=len(y_majority), replace=True, random_state=42)\n",
    "\n",
    "X_train_oversampled = pd.concat([X_majority, X_minority_oversampled])\n",
    "y_train_oversampled = pd.concat([y_majority, y_minority_oversampled])\n",
    "\n",
    "X_train_oversampled, y_train_oversampled = shuffle(X_train_oversampled, y_train_oversampled, random_state=42)\n",
    "\n",
    "model_oversampled = LogisticRegression(solver='liblinear', random_state=42)\n",
    "model_oversampled.fit(X_train_oversampled, y_train_oversampled)\n",
    "\n",
    "y_pred_oversampled = model_oversampled.predict(X_test)\n",
    "\n",
    "f1_oversampled = f1_score(y_test, y_pred_oversampled)\n",
    "auc_roc_oversampled = roc_auc_score(y_test, model_oversampled.predict_proba(X_test)[:, 1])\n",
    "\n",
    "print(\"Resultados con Sobremuestreo y LogisticRegression:\")\n",
    "print(f\"F1 Score: {f1_oversampled}\")\n",
    "print(f\"AUC-ROC: {auc_roc_oversampled}\")"
   ]
  },
  {
   "cell_type": "code",
   "execution_count": 12,
   "metadata": {
    "trusted": true
   },
   "outputs": [
    {
     "name": "stdout",
     "output_type": "stream",
     "text": [
      "Resultados con Sobremuestreo y RandomForest:\n",
      "F1 Score: 0.6209944751381216\n",
      "AUC-ROC: 0.8648311854466226\n"
     ]
    }
   ],
   "source": [
    "rf_model = RandomForestClassifier(n_estimators=100, max_depth=10, random_state=42)\n",
    "rf_model.fit(X_train_oversampled, y_train_oversampled)\n",
    "\n",
    "y_pred_rf = rf_model.predict(X_test)\n",
    "y_proba_rf = rf_model.predict_proba(X_test)[:, 1]\n",
    "\n",
    "f1_rf = f1_score(y_test, y_pred_rf)\n",
    "auc_roc_rf = roc_auc_score(y_test, y_proba_rf)\n",
    "\n",
    "print(\"Resultados con Sobremuestreo y RandomForest:\")\n",
    "print(f\"F1 Score: {f1_rf}\")\n",
    "print(f\"AUC-ROC: {auc_roc_rf}\")"
   ]
  },
  {
   "cell_type": "markdown",
   "metadata": {},
   "source": [
    "Randomforest muestra mejores metricas que LogicRegression"
   ]
  },
  {
   "cell_type": "markdown",
   "metadata": {},
   "source": [
    "# Submuestreo"
   ]
  },
  {
   "cell_type": "code",
   "execution_count": 13,
   "metadata": {
    "trusted": true
   },
   "outputs": [
    {
     "name": "stdout",
     "output_type": "stream",
     "text": [
      "Resultados con Submuestreo y LogisticRegression:\n",
      "F1 Score: 0.5044722719141324\n",
      "AUC-ROC: 0.78152674922532\n"
     ]
    }
   ],
   "source": [
    "X_minority = X_train[y_train == 1]\n",
    "y_minority = y_train[y_train == 1]\n",
    "X_majority = X_train[y_train == 0]\n",
    "y_majority = y_train[y_train == 0]\n",
    "\n",
    "X_majority_undersampled = X_majority.sample(n=len(X_minority), random_state=42)\n",
    "y_majority_undersampled = y_majority.loc[X_majority_undersampled.index]\n",
    "\n",
    "X_train_under = pd.concat([X_majority_undersampled, X_minority])\n",
    "y_train_under = pd.concat([y_majority_undersampled, y_minority])\n",
    "X_train_under, y_train_under = shuffle(X_train_under, y_train_under, random_state=42)\n",
    "\n",
    "model_under = LogisticRegression(solver='liblinear', random_state=42)\n",
    "model_under.fit(X_train_under, y_train_under)\n",
    "\n",
    "y_pred_under = model_under.predict(X_test)\n",
    "y_proba_under = model_under.predict_proba(X_test)[:, 1]\n",
    "f1_under = f1_score(y_test, y_pred_under)\n",
    "auc_roc_under = roc_auc_score(y_test, y_proba_under)\n",
    "\n",
    "print(\"Resultados con Submuestreo y LogisticRegression:\")\n",
    "print(f\"F1 Score: {f1_under}\")\n",
    "print(f\"AUC-ROC: {auc_roc_under}\")"
   ]
  },
  {
   "cell_type": "code",
   "execution_count": 14,
   "metadata": {
    "trusted": true
   },
   "outputs": [
    {
     "name": "stdout",
     "output_type": "stream",
     "text": [
      "Resultados con Submuestreo y Random Forest:\n",
      "F1 Score: 0.5954045954045954\n",
      "AUC-ROC: 0.862910517123716\n"
     ]
    }
   ],
   "source": [
    "rf_under = RandomForestClassifier(n_estimators=100, max_depth=10, random_state=42)\n",
    "rf_under.fit(X_train_under, y_train_under)\n",
    "\n",
    "y_pred_under_rf = rf_under.predict(X_test)\n",
    "y_proba_under_rf = rf_under.predict_proba(X_test)[:, 1]\n",
    "\n",
    "f1_under_rf = f1_score(y_test, y_pred_under_rf)\n",
    "auc_roc_under_rf = roc_auc_score(y_test, y_proba_under_rf)\n",
    "\n",
    "print(\"Resultados con Submuestreo y Random Forest:\")\n",
    "print(f\"F1 Score: {f1_under_rf}\")\n",
    "print(f\"AUC-ROC: {auc_roc_under_rf}\")"
   ]
  },
  {
   "cell_type": "markdown",
   "metadata": {},
   "source": [
    "El modelo con sobremuestreo manual + Random Forest es el mejor en ambas métricas.\n",
    "\n",
    "Supera cómodamente el umbral de revisión del proyecto (F1 ≥ 0.59).\n",
    "\n",
    "AUC-ROC también es excelente (por encima de 0.86), lo que indica una muy buena capacidad del modelo para discriminar entre clases."
   ]
  },
  {
   "cell_type": "markdown",
   "metadata": {},
   "source": [
    "# Conclusiones de pruebas"
   ]
  },
  {
   "cell_type": "markdown",
   "metadata": {},
   "source": [
    "Modelo sin tratar el desequilibrio\n",
    "Se entrenó un modelo de **Regresión Logística** con los datos originales sin modificar.\n",
    "\n",
    "**Resultados:**\n",
    "- F1 Score: `0.092`\n",
    "- AUC-ROC: `0.667`\n",
    "\n",
    "Esto demostró que el desequilibrio afectaba significativamente la capacidad del modelo para detectar a los clientes que abandonan.\n",
    "\n",
    "---\n",
    "\n",
    "##  Corrección del desequilibrio\n",
    "Se probaron dos enfoques:\n",
    "1. **Sobremuestreo**\n",
    "2. **Submuestreo**\n",
    "\n",
    "---\n",
    "\n",
    "## Modelos y Resultados\n",
    "\n",
    "### Regresión Logística\n",
    "| Técnica        | F1 Score | AUC-ROC |\n",
    "|----------------|----------|----------|\n",
    "| Sobremuestreo  | 0.446    | 0.717    |\n",
    "| Submuestreo    | 0.436    | 0.715    |\n",
    "\n",
    "### Random Forest\n",
    "| Técnica        | F1 Score | AUC-ROC |\n",
    "|----------------|----------|----------|\n",
    "| Sobremuestreo  | **0.620**| **0.865** |\n",
    "| Submuestreo    | 0.596    | 0.863    |\n",
    "\n",
    "---\n",
    "\n",
    "# Elección del Modelo Final\n",
    "El modelo **Random Forest con sobremuestreo manual** fue el mejor en ambas métricas, superando el umbral de revisión (**F1 > 0.59**).\n",
    "\n",
    "Este modelo se eligió como el **modelo final** por su:\n",
    "- Mayor capacidad de generalización.\n",
    "- Mejor rendimiento en F1 y AUC-ROC.\n",
    "- Mayor sensibilidad frente a la clase positiva (clientes que abandonan)."
   ]
  },
  {
   "cell_type": "code",
   "execution_count": 15,
   "metadata": {
    "trusted": true
   },
   "outputs": [
    {
     "name": "stdout",
     "output_type": "stream",
     "text": [
      "Resultados con Random Forest (Sobremuestreo Manual) - Validación:\n",
      "F1 Score: 0.6271186440677966\n",
      "AUC-ROC: 0.8697459107168167\n",
      "\n",
      "Resultados con Random Forest (Sobremuestreo Manual) - Prueba Final:\n",
      "F1 Score: 0.6232876712328768\n",
      "AUC-ROC: 0.8619003057551964\n"
     ]
    }
   ],
   "source": [
    "X_train, X_test, y_train, y_test = train_test_split(X, y, test_size=0.2, random_state=42)\n",
    "X_train, X_valid, y_train, y_valid = train_test_split(X_train, y_train, test_size=0.2, random_state=42)\n",
    "\n",
    "X_minority = X_train[y_train == 1]\n",
    "y_minority = y_train[y_train == 1]\n",
    "X_majority = X_train[y_train == 0]\n",
    "y_majority = y_train[y_train == 0]\n",
    "\n",
    "X_minority_oversampled = X_minority.sample(n=len(X_majority), replace=True, random_state=42)\n",
    "y_minority_oversampled = y_minority.sample(n=len(y_majority), replace=True, random_state=42)\n",
    "\n",
    "X_train_oversampled = pd.concat([X_majority, X_minority_oversampled])\n",
    "y_train_oversampled = pd.concat([y_majority, y_minority_oversampled])\n",
    "X_train_oversampled, y_train_oversampled = shuffle(X_train_oversampled, y_train_oversampled, random_state=42)\n",
    "\n",
    "rf_model = RandomForestClassifier(n_estimators=100, max_depth=10, random_state=42)\n",
    "rf_model.fit(X_train_oversampled, y_train_oversampled)\n",
    "\n",
    "y_pred_valid = rf_model.predict(X_valid)\n",
    "y_proba_valid = rf_model.predict_proba(X_valid)[:, 1]\n",
    "\n",
    "f1_valid = f1_score(y_valid, y_pred_valid)\n",
    "auc_roc_valid = roc_auc_score(y_valid, y_proba_valid)\n",
    "\n",
    "print(\"Resultados con Random Forest (Sobremuestreo Manual) - Validación:\")\n",
    "print(f\"F1 Score: {f1_valid}\")\n",
    "print(f\"AUC-ROC: {auc_roc_valid}\")\n",
    "\n",
    "y_pred_test = rf_model.predict(X_test)\n",
    "y_proba_test = rf_model.predict_proba(X_test)[:, 1]\n",
    "\n",
    "f1_test = f1_score(y_test, y_pred_test)\n",
    "auc_roc_test = roc_auc_score(y_test, y_proba_test)\n",
    "\n",
    "print(\"\\nResultados con Random Forest (Sobremuestreo Manual) - Prueba Final:\")\n",
    "print(f\"F1 Score: {f1_test}\")\n",
    "print(f\"AUC-ROC: {auc_roc_test}\")"
   ]
  },
  {
   "cell_type": "markdown",
   "metadata": {},
   "source": [
    "# Conclusiones con Prueba Final"
   ]
  },
  {
   "cell_type": "markdown",
   "metadata": {},
   "source": [
    "   El modelo ha mostrado buen rendimiento tanto en el conjunto de validación como en el conjunto de prueba final, lo que sugiere que tiene una buena capacidad de generalización.\n",
    "\n",
    "   La diferencia marginal entre los resultados de validación y prueba final es esperada y no sugiere que el modelo esté sobreajustado.\n",
    "\n",
    "   El F1 Score y el AUC-ROC en ambas fases son bastante buenos, lo que indica que se a logrado un modelo equilibrado que no solo tiene un buen desempeño en la clasificación, sino también en la capacidad de diferenciar las clases correctamente.\n",
    "\n",
    "Si consideramos el F1 Score en torno a 0.62 en la prueba final, parece que has superado el umbral de 0.59 requerido para el proyecto."
   ]
  }
 ],
 "metadata": {
  "ExecuteTimeLog": [
   {
    "duration": 929,
    "start_time": "2025-04-22T19:17:42.376Z"
   },
   {
    "duration": 451,
    "start_time": "2025-04-22T19:18:45.262Z"
   },
   {
    "duration": 110,
    "start_time": "2025-04-22T19:19:09.160Z"
   },
   {
    "duration": 21,
    "start_time": "2025-04-22T19:19:11.281Z"
   },
   {
    "duration": 7,
    "start_time": "2025-04-22T19:19:32.190Z"
   },
   {
    "duration": 13,
    "start_time": "2025-04-22T19:20:12.040Z"
   },
   {
    "duration": 8,
    "start_time": "2025-04-22T19:20:14.958Z"
   },
   {
    "duration": 22,
    "start_time": "2025-04-22T19:20:24.529Z"
   },
   {
    "duration": 24,
    "start_time": "2025-04-22T19:20:38.394Z"
   },
   {
    "duration": 34,
    "start_time": "2025-04-22T19:20:50.836Z"
   },
   {
    "duration": 38,
    "start_time": "2025-04-22T19:21:15.075Z"
   },
   {
    "duration": 3154,
    "start_time": "2025-04-22T19:25:28.833Z"
   },
   {
    "duration": 25,
    "start_time": "2025-04-22T19:25:31.990Z"
   },
   {
    "duration": 14,
    "start_time": "2025-04-22T19:25:32.016Z"
   },
   {
    "duration": 167,
    "start_time": "2025-04-22T19:25:35.931Z"
   },
   {
    "duration": 4,
    "start_time": "2025-04-22T19:27:46.436Z"
   },
   {
    "duration": 32,
    "start_time": "2025-04-22T19:27:47.399Z"
   },
   {
    "duration": 1075,
    "start_time": "2025-04-22T19:28:25.958Z"
   },
   {
    "duration": 26,
    "start_time": "2025-04-22T19:33:34.371Z"
   },
   {
    "duration": 737,
    "start_time": "2025-04-22T19:35:41.885Z"
   },
   {
    "duration": 18,
    "start_time": "2025-04-22T19:36:02.240Z"
   },
   {
    "duration": 806,
    "start_time": "2025-04-22T19:36:05.960Z"
   },
   {
    "duration": 848,
    "start_time": "2025-04-22T19:36:35.778Z"
   },
   {
    "duration": 53,
    "start_time": "2025-04-22T19:36:45.078Z"
   },
   {
    "duration": 6,
    "start_time": "2025-04-22T19:36:47.230Z"
   },
   {
    "duration": 893,
    "start_time": "2025-04-22T19:36:54.325Z"
   },
   {
    "duration": 3,
    "start_time": "2025-04-22T19:39:24.503Z"
   },
   {
    "duration": 29,
    "start_time": "2025-04-22T19:41:05.237Z"
   },
   {
    "duration": 10,
    "start_time": "2025-04-22T19:41:37.942Z"
   },
   {
    "duration": 271,
    "start_time": "2025-04-22T19:41:41.784Z"
   },
   {
    "duration": 4,
    "start_time": "2025-04-22T19:42:59.553Z"
   },
   {
    "duration": 25,
    "start_time": "2025-04-22T19:43:31.769Z"
   },
   {
    "duration": 19,
    "start_time": "2025-04-22T19:43:55.088Z"
   },
   {
    "duration": 63,
    "start_time": "2025-04-22T19:44:19.029Z"
   },
   {
    "duration": 562,
    "start_time": "2025-04-22T19:44:52.260Z"
   },
   {
    "duration": 81,
    "start_time": "2025-04-22T19:45:22.921Z"
   },
   {
    "duration": 26,
    "start_time": "2025-04-22T19:47:59.672Z"
   },
   {
    "duration": 63,
    "start_time": "2025-04-22T19:48:31.447Z"
   },
   {
    "duration": 57,
    "start_time": "2025-04-22T19:49:28.161Z"
   },
   {
    "duration": 4,
    "start_time": "2025-04-22T19:50:19.745Z"
   },
   {
    "duration": 29,
    "start_time": "2025-04-22T19:50:20.039Z"
   },
   {
    "duration": 12,
    "start_time": "2025-04-22T19:50:20.320Z"
   },
   {
    "duration": 57,
    "start_time": "2025-04-22T19:50:25.961Z"
   },
   {
    "duration": 57,
    "start_time": "2025-04-22T19:50:42.393Z"
   },
   {
    "duration": 583,
    "start_time": "2025-04-22T19:51:15.666Z"
   },
   {
    "duration": 5,
    "start_time": "2025-04-22T19:51:26.069Z"
   },
   {
    "duration": 13,
    "start_time": "2025-04-22T19:51:26.415Z"
   },
   {
    "duration": 13,
    "start_time": "2025-04-22T19:51:26.793Z"
   },
   {
    "duration": 6,
    "start_time": "2025-04-22T19:51:30.551Z"
   },
   {
    "duration": 53,
    "start_time": "2025-04-22T19:51:41.181Z"
   },
   {
    "duration": 46,
    "start_time": "2025-04-22T19:52:24.984Z"
   },
   {
    "duration": 1588,
    "start_time": "2025-04-22T19:53:12.110Z"
   },
   {
    "duration": 36,
    "start_time": "2025-04-22T19:53:59.857Z"
   },
   {
    "duration": 39,
    "start_time": "2025-04-22T20:02:09.072Z"
   },
   {
    "duration": 313,
    "start_time": "2025-04-22T20:03:28.405Z"
   },
   {
    "duration": 8,
    "start_time": "2025-04-22T20:04:23.511Z"
   },
   {
    "duration": 114,
    "start_time": "2025-04-22T20:04:57.438Z"
   },
   {
    "duration": 139628,
    "start_time": "2025-04-22T20:07:02.961Z"
   },
   {
    "duration": 565296,
    "start_time": "2025-04-22T20:12:53.678Z"
   },
   {
    "duration": 4,
    "start_time": "2025-04-22T20:22:18.980Z"
   },
   {
    "duration": 14,
    "start_time": "2025-04-22T20:22:19.073Z"
   },
   {
    "duration": 38,
    "start_time": "2025-04-22T20:23:18.033Z"
   },
   {
    "duration": 121,
    "start_time": "2025-04-22T20:24:09.701Z"
   },
   {
    "duration": 315,
    "start_time": "2025-04-22T20:24:34.171Z"
   },
   {
    "duration": 161,
    "start_time": "2025-04-22T20:26:06.926Z"
   },
   {
    "duration": 170,
    "start_time": "2025-04-22T20:26:14.263Z"
   },
   {
    "duration": 528203,
    "start_time": "2025-04-22T20:27:13.763Z"
   },
   {
    "duration": 154,
    "start_time": "2025-04-22T20:38:23.822Z"
   },
   {
    "duration": 186,
    "start_time": "2025-04-22T20:39:52.416Z"
   },
   {
    "duration": 157,
    "start_time": "2025-04-22T20:41:26.637Z"
   },
   {
    "duration": 175,
    "start_time": "2025-04-22T20:42:11.526Z"
   },
   {
    "duration": 157,
    "start_time": "2025-04-22T20:48:47.553Z"
   },
   {
    "duration": 160,
    "start_time": "2025-04-22T20:51:56.836Z"
   },
   {
    "duration": 1856,
    "start_time": "2025-04-22T20:54:16.934Z"
   },
   {
    "duration": 995,
    "start_time": "2025-04-22T20:58:23.191Z"
   },
   {
    "duration": 17,
    "start_time": "2025-04-22T20:58:24.188Z"
   },
   {
    "duration": 14,
    "start_time": "2025-04-22T20:58:24.207Z"
   },
   {
    "duration": 5,
    "start_time": "2025-04-22T20:58:24.222Z"
   },
   {
    "duration": 123,
    "start_time": "2025-04-22T20:58:24.230Z"
   },
   {
    "duration": 944,
    "start_time": "2025-04-22T20:58:24.355Z"
   },
   {
    "duration": 0,
    "start_time": "2025-04-22T20:58:25.301Z"
   },
   {
    "duration": 0,
    "start_time": "2025-04-22T20:58:25.303Z"
   },
   {
    "duration": 0,
    "start_time": "2025-04-22T20:58:25.304Z"
   },
   {
    "duration": 0,
    "start_time": "2025-04-22T20:58:25.306Z"
   },
   {
    "duration": 0,
    "start_time": "2025-04-22T20:58:25.308Z"
   },
   {
    "duration": 0,
    "start_time": "2025-04-22T20:58:25.309Z"
   },
   {
    "duration": 0,
    "start_time": "2025-04-22T20:58:25.311Z"
   },
   {
    "duration": 0,
    "start_time": "2025-04-22T20:58:25.312Z"
   },
   {
    "duration": 0,
    "start_time": "2025-04-22T20:58:25.313Z"
   },
   {
    "duration": 0,
    "start_time": "2025-04-22T20:58:25.315Z"
   },
   {
    "duration": 0,
    "start_time": "2025-04-22T20:58:25.317Z"
   },
   {
    "duration": 36,
    "start_time": "2025-04-22T20:59:20.156Z"
   },
   {
    "duration": 4,
    "start_time": "2025-04-22T20:59:23.036Z"
   },
   {
    "duration": 14,
    "start_time": "2025-04-22T20:59:23.589Z"
   },
   {
    "duration": 14,
    "start_time": "2025-04-22T20:59:24.071Z"
   },
   {
    "duration": 4,
    "start_time": "2025-04-22T20:59:27.842Z"
   },
   {
    "duration": 829,
    "start_time": "2025-04-22T20:59:37.144Z"
   },
   {
    "duration": 655,
    "start_time": "2025-04-22T20:59:45.788Z"
   },
   {
    "duration": 18,
    "start_time": "2025-04-22T20:59:46.446Z"
   },
   {
    "duration": 3,
    "start_time": "2025-04-22T20:59:48.537Z"
   },
   {
    "duration": 1107,
    "start_time": "2025-04-22T20:59:58.436Z"
   },
   {
    "duration": 2365,
    "start_time": "2025-04-22T21:00:02.879Z"
   },
   {
    "duration": 971,
    "start_time": "2025-04-22T21:00:30.623Z"
   },
   {
    "duration": 15,
    "start_time": "2025-04-22T21:00:31.596Z"
   },
   {
    "duration": 14,
    "start_time": "2025-04-22T21:00:31.613Z"
   },
   {
    "duration": 17,
    "start_time": "2025-04-22T21:00:31.629Z"
   },
   {
    "duration": 112,
    "start_time": "2025-04-22T21:00:31.648Z"
   },
   {
    "duration": 836,
    "start_time": "2025-04-22T21:00:31.762Z"
   },
   {
    "duration": 622,
    "start_time": "2025-04-22T21:00:32.600Z"
   },
   {
    "duration": 26,
    "start_time": "2025-04-22T21:00:33.223Z"
   },
   {
    "duration": 5,
    "start_time": "2025-04-22T21:00:33.251Z"
   },
   {
    "duration": 1088,
    "start_time": "2025-04-22T21:00:33.257Z"
   },
   {
    "duration": 2403,
    "start_time": "2025-04-22T21:00:34.348Z"
   },
   {
    "duration": 774706,
    "start_time": "2025-04-22T21:00:36.753Z"
   },
   {
    "duration": 0,
    "start_time": "2025-04-22T21:13:31.461Z"
   },
   {
    "duration": 0,
    "start_time": "2025-04-22T21:13:31.463Z"
   },
   {
    "duration": 0,
    "start_time": "2025-04-22T21:13:31.464Z"
   },
   {
    "duration": 0,
    "start_time": "2025-04-22T21:13:31.465Z"
   },
   {
    "duration": 0,
    "start_time": "2025-04-22T21:13:31.467Z"
   },
   {
    "duration": 0,
    "start_time": "2025-04-22T21:13:31.472Z"
   },
   {
    "duration": 0,
    "start_time": "2025-04-22T21:13:31.473Z"
   },
   {
    "duration": 0,
    "start_time": "2025-04-22T21:13:31.474Z"
   },
   {
    "duration": 0,
    "start_time": "2025-04-22T21:13:31.477Z"
   },
   {
    "duration": 104,
    "start_time": "2025-04-22T21:13:40.121Z"
   },
   {
    "duration": 97,
    "start_time": "2025-04-22T21:15:04.334Z"
   },
   {
    "duration": 46,
    "start_time": "2025-04-22T21:17:32.730Z"
   },
   {
    "duration": 438,
    "start_time": "2025-04-22T21:17:42.807Z"
   },
   {
    "duration": 47,
    "start_time": "2025-04-22T21:17:54.232Z"
   },
   {
    "duration": 44,
    "start_time": "2025-04-22T21:22:36.498Z"
   },
   {
    "duration": 43,
    "start_time": "2025-04-22T21:23:42.089Z"
   },
   {
    "duration": 23,
    "start_time": "2025-04-22T21:24:19.344Z"
   },
   {
    "duration": 5,
    "start_time": "2025-04-22T21:24:38.019Z"
   },
   {
    "duration": 15,
    "start_time": "2025-04-22T21:24:43.686Z"
   },
   {
    "duration": 23,
    "start_time": "2025-04-22T21:25:56.426Z"
   },
   {
    "duration": 41,
    "start_time": "2025-04-22T21:26:41.523Z"
   },
   {
    "duration": 39,
    "start_time": "2025-04-22T21:29:35.249Z"
   },
   {
    "duration": 65,
    "start_time": "2025-04-22T21:29:37.332Z"
   },
   {
    "duration": 906,
    "start_time": "2025-04-22T21:30:34.284Z"
   },
   {
    "duration": 889,
    "start_time": "2025-04-22T21:31:03.514Z"
   },
   {
    "duration": 944,
    "start_time": "2025-04-22T21:31:40.266Z"
   },
   {
    "duration": 36,
    "start_time": "2025-04-22T21:32:11.587Z"
   },
   {
    "duration": 916,
    "start_time": "2025-04-22T21:32:50.378Z"
   },
   {
    "duration": 343,
    "start_time": "2025-04-22T21:34:02.843Z"
   },
   {
    "duration": 334,
    "start_time": "2025-04-22T21:34:43.605Z"
   },
   {
    "duration": 334,
    "start_time": "2025-04-22T21:35:21.903Z"
   },
   {
    "duration": 922,
    "start_time": "2025-04-22T21:43:32.067Z"
   },
   {
    "duration": 905,
    "start_time": "2025-04-22T21:45:18.487Z"
   },
   {
    "duration": 838,
    "start_time": "2025-04-22T21:54:57.338Z"
   },
   {
    "duration": 822,
    "start_time": "2025-04-22T21:57:35.409Z"
   },
   {
    "duration": 824,
    "start_time": "2025-04-22T21:57:47.687Z"
   },
   {
    "duration": 777,
    "start_time": "2025-04-22T22:02:45.325Z"
   },
   {
    "duration": 3,
    "start_time": "2025-04-22T22:06:13.112Z"
   },
   {
    "duration": 1013,
    "start_time": "2025-04-22T22:06:20.473Z"
   },
   {
    "duration": 16,
    "start_time": "2025-04-22T22:06:21.488Z"
   },
   {
    "duration": 13,
    "start_time": "2025-04-22T22:06:21.506Z"
   },
   {
    "duration": 4,
    "start_time": "2025-04-22T22:06:21.522Z"
   },
   {
    "duration": 16,
    "start_time": "2025-04-22T22:06:21.528Z"
   },
   {
    "duration": 15,
    "start_time": "2025-04-22T22:06:21.545Z"
   },
   {
    "duration": 5,
    "start_time": "2025-04-22T22:06:21.561Z"
   },
   {
    "duration": 120,
    "start_time": "2025-04-22T22:06:21.567Z"
   },
   {
    "duration": 160,
    "start_time": "2025-04-22T22:06:21.690Z"
   },
   {
    "duration": 0,
    "start_time": "2025-04-22T22:06:21.851Z"
   },
   {
    "duration": 0,
    "start_time": "2025-04-22T22:06:21.853Z"
   },
   {
    "duration": 0,
    "start_time": "2025-04-22T22:06:21.854Z"
   },
   {
    "duration": 0,
    "start_time": "2025-04-22T22:06:21.856Z"
   },
   {
    "duration": 0,
    "start_time": "2025-04-22T22:06:21.857Z"
   },
   {
    "duration": 1082,
    "start_time": "2025-04-22T22:06:47.771Z"
   },
   {
    "duration": 15,
    "start_time": "2025-04-22T22:06:48.856Z"
   },
   {
    "duration": 13,
    "start_time": "2025-04-22T22:06:48.872Z"
   },
   {
    "duration": 5,
    "start_time": "2025-04-22T22:06:48.887Z"
   },
   {
    "duration": 3,
    "start_time": "2025-04-22T22:06:48.893Z"
   },
   {
    "duration": 13,
    "start_time": "2025-04-22T22:06:48.898Z"
   },
   {
    "duration": 30,
    "start_time": "2025-04-22T22:06:48.913Z"
   },
   {
    "duration": 123,
    "start_time": "2025-04-22T22:06:48.945Z"
   },
   {
    "duration": 167,
    "start_time": "2025-04-22T22:06:49.069Z"
   },
   {
    "duration": 0,
    "start_time": "2025-04-22T22:06:49.238Z"
   },
   {
    "duration": 0,
    "start_time": "2025-04-22T22:06:49.242Z"
   },
   {
    "duration": 0,
    "start_time": "2025-04-22T22:06:49.243Z"
   },
   {
    "duration": 0,
    "start_time": "2025-04-22T22:06:49.244Z"
   },
   {
    "duration": 0,
    "start_time": "2025-04-22T22:06:49.245Z"
   },
   {
    "duration": 958,
    "start_time": "2025-04-22T22:07:10.938Z"
   },
   {
    "duration": 17,
    "start_time": "2025-04-22T22:07:11.899Z"
   },
   {
    "duration": 15,
    "start_time": "2025-04-22T22:07:11.917Z"
   },
   {
    "duration": 5,
    "start_time": "2025-04-22T22:07:11.942Z"
   },
   {
    "duration": 3,
    "start_time": "2025-04-22T22:07:11.951Z"
   },
   {
    "duration": 13,
    "start_time": "2025-04-22T22:07:11.955Z"
   },
   {
    "duration": 6,
    "start_time": "2025-04-22T22:07:11.969Z"
   },
   {
    "duration": 126,
    "start_time": "2025-04-22T22:07:11.977Z"
   },
   {
    "duration": 168,
    "start_time": "2025-04-22T22:07:12.105Z"
   },
   {
    "duration": 0,
    "start_time": "2025-04-22T22:07:12.276Z"
   },
   {
    "duration": 0,
    "start_time": "2025-04-22T22:07:12.277Z"
   },
   {
    "duration": 0,
    "start_time": "2025-04-22T22:07:12.278Z"
   },
   {
    "duration": 0,
    "start_time": "2025-04-22T22:07:12.280Z"
   },
   {
    "duration": 0,
    "start_time": "2025-04-22T22:07:12.281Z"
   },
   {
    "duration": 5,
    "start_time": "2025-04-22T22:08:53.641Z"
   },
   {
    "duration": 29,
    "start_time": "2025-04-22T22:08:57.571Z"
   },
   {
    "duration": 13,
    "start_time": "2025-04-22T22:13:40.952Z"
   },
   {
    "duration": 14,
    "start_time": "2025-04-22T22:14:45.017Z"
   },
   {
    "duration": 11,
    "start_time": "2025-04-22T22:15:30.445Z"
   },
   {
    "duration": 29,
    "start_time": "2025-04-22T22:15:59.369Z"
   },
   {
    "duration": 45,
    "start_time": "2025-04-22T22:17:01.516Z"
   },
   {
    "duration": 15,
    "start_time": "2025-04-22T22:17:40.588Z"
   },
   {
    "duration": 31,
    "start_time": "2025-04-22T22:17:43.404Z"
   },
   {
    "duration": 516,
    "start_time": "2025-04-22T22:18:11.333Z"
   },
   {
    "duration": 45,
    "start_time": "2025-04-22T22:18:32.167Z"
   },
   {
    "duration": 3,
    "start_time": "2025-04-22T22:18:35.696Z"
   },
   {
    "duration": 17,
    "start_time": "2025-04-22T22:18:36.195Z"
   },
   {
    "duration": 16,
    "start_time": "2025-04-22T22:18:36.639Z"
   },
   {
    "duration": 4,
    "start_time": "2025-04-22T22:18:39.625Z"
   },
   {
    "duration": 11,
    "start_time": "2025-04-22T22:18:43.667Z"
   },
   {
    "duration": 6,
    "start_time": "2025-04-22T22:18:45.964Z"
   },
   {
    "duration": 20,
    "start_time": "2025-04-22T22:18:47.188Z"
   },
   {
    "duration": 7,
    "start_time": "2025-04-22T22:18:48.525Z"
   },
   {
    "duration": 98,
    "start_time": "2025-04-22T22:18:51.115Z"
   },
   {
    "duration": 30,
    "start_time": "2025-04-22T22:18:54.837Z"
   },
   {
    "duration": 166,
    "start_time": "2025-04-22T22:20:01.649Z"
   },
   {
    "duration": 1018,
    "start_time": "2025-04-22T22:20:20.069Z"
   },
   {
    "duration": 16,
    "start_time": "2025-04-22T22:20:21.089Z"
   },
   {
    "duration": 15,
    "start_time": "2025-04-22T22:20:21.107Z"
   },
   {
    "duration": 19,
    "start_time": "2025-04-22T22:20:21.123Z"
   },
   {
    "duration": 10,
    "start_time": "2025-04-22T22:20:21.145Z"
   },
   {
    "duration": 3,
    "start_time": "2025-04-22T22:20:21.156Z"
   },
   {
    "duration": 18,
    "start_time": "2025-04-22T22:20:21.161Z"
   },
   {
    "duration": 5,
    "start_time": "2025-04-22T22:20:21.180Z"
   },
   {
    "duration": 127,
    "start_time": "2025-04-22T22:20:21.186Z"
   },
   {
    "duration": 33,
    "start_time": "2025-04-22T22:20:21.315Z"
   },
   {
    "duration": 103,
    "start_time": "2025-04-22T22:20:21.349Z"
   },
   {
    "duration": 994,
    "start_time": "2025-04-22T22:20:21.454Z"
   },
   {
    "duration": 21,
    "start_time": "2025-04-22T22:20:22.450Z"
   },
   {
    "duration": 468,
    "start_time": "2025-04-22T22:20:22.475Z"
   },
   {
    "duration": 796,
    "start_time": "2025-04-22T22:20:22.944Z"
   },
   {
    "duration": 1026,
    "start_time": "2025-04-22T22:21:19.976Z"
   },
   {
    "duration": 168,
    "start_time": "2025-04-22T22:21:28.003Z"
   },
   {
    "duration": 1069,
    "start_time": "2025-04-22T22:21:48.815Z"
   },
   {
    "duration": 18,
    "start_time": "2025-04-22T22:21:49.887Z"
   },
   {
    "duration": 24,
    "start_time": "2025-04-22T22:21:49.907Z"
   },
   {
    "duration": 13,
    "start_time": "2025-04-22T22:21:49.936Z"
   },
   {
    "duration": 13,
    "start_time": "2025-04-22T22:21:49.953Z"
   },
   {
    "duration": 6,
    "start_time": "2025-04-22T22:21:49.968Z"
   },
   {
    "duration": 14,
    "start_time": "2025-04-22T22:21:49.976Z"
   },
   {
    "duration": 6,
    "start_time": "2025-04-22T22:21:49.993Z"
   },
   {
    "duration": 135,
    "start_time": "2025-04-22T22:21:50.001Z"
   },
   {
    "duration": 30,
    "start_time": "2025-04-22T22:21:50.143Z"
   },
   {
    "duration": 177,
    "start_time": "2025-04-22T22:21:50.175Z"
   },
   {
    "duration": 1008,
    "start_time": "2025-04-22T22:21:50.354Z"
   },
   {
    "duration": 21,
    "start_time": "2025-04-22T22:21:51.364Z"
   },
   {
    "duration": 472,
    "start_time": "2025-04-22T22:21:51.387Z"
   },
   {
    "duration": 797,
    "start_time": "2025-04-22T22:21:51.861Z"
   },
   {
    "duration": 1225,
    "start_time": "2025-04-23T16:32:16.517Z"
   },
   {
    "duration": 19,
    "start_time": "2025-04-23T16:32:17.744Z"
   },
   {
    "duration": 16,
    "start_time": "2025-04-23T16:32:17.764Z"
   },
   {
    "duration": 4,
    "start_time": "2025-04-23T16:32:17.782Z"
   },
   {
    "duration": 41,
    "start_time": "2025-04-23T16:32:17.787Z"
   },
   {
    "duration": 4,
    "start_time": "2025-04-23T16:32:17.838Z"
   },
   {
    "duration": 13,
    "start_time": "2025-04-23T16:32:17.843Z"
   },
   {
    "duration": 5,
    "start_time": "2025-04-23T16:32:17.858Z"
   },
   {
    "duration": 117,
    "start_time": "2025-04-23T16:32:17.864Z"
   },
   {
    "duration": 45,
    "start_time": "2025-04-23T16:32:17.985Z"
   },
   {
    "duration": 102,
    "start_time": "2025-04-23T16:32:18.042Z"
   },
   {
    "duration": 1066,
    "start_time": "2025-04-23T16:32:18.146Z"
   },
   {
    "duration": 32,
    "start_time": "2025-04-23T16:32:19.215Z"
   },
   {
    "duration": 467,
    "start_time": "2025-04-23T16:32:19.249Z"
   },
   {
    "duration": 845,
    "start_time": "2025-04-23T16:32:19.719Z"
   }
  ],
  "kernelspec": {
   "display_name": "base",
   "language": "python",
   "name": "python3"
  },
  "language_info": {
   "codemirror_mode": {
    "name": "ipython",
    "version": 3
   },
   "file_extension": ".py",
   "mimetype": "text/x-python",
   "name": "python",
   "nbconvert_exporter": "python",
   "pygments_lexer": "ipython3",
   "version": "3.12.7"
  },
  "toc": {
   "base_numbering": 1,
   "nav_menu": {},
   "number_sections": true,
   "sideBar": true,
   "skip_h1_title": true,
   "title_cell": "Table of Contents",
   "title_sidebar": "Contents",
   "toc_cell": false,
   "toc_position": {},
   "toc_section_display": true,
   "toc_window_display": false
  }
 },
 "nbformat": 4,
 "nbformat_minor": 2
}
